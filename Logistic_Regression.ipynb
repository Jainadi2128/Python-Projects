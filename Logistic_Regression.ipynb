{
  "nbformat": 4,
  "nbformat_minor": 0,
  "metadata": {
    "colab": {
      "name": "Logistic Regression.ipynb",
      "provenance": [],
      "authorship_tag": "ABX9TyM3iW1bm5hwAeC2yRU7jb2/",
      "include_colab_link": true
    },
    "kernelspec": {
      "name": "python3",
      "display_name": "Python 3"
    }
  },
  "cells": [
    {
      "cell_type": "markdown",
      "metadata": {
        "id": "view-in-github",
        "colab_type": "text"
      },
      "source": [
        "<a href=\"https://colab.research.google.com/github/Jainadi2128/Python-Projects/blob/main/Logistic_Regression.ipynb\" target=\"_parent\"><img src=\"https://colab.research.google.com/assets/colab-badge.svg\" alt=\"Open In Colab\"/></a>"
      ]
    },
    {
      "cell_type": "code",
      "metadata": {
        "id": "3wqOjsmtrk_B"
      },
      "source": [
        "from sklearn.datasets import load_digits\r\n",
        "import numpy as np\r\n",
        "import matplotlib.pyplot as plt\r\n",
        "from sklearn.model_selection import train_test_split\r\n",
        "import seaborn as sns\r\n",
        "from sklearn import metrics\r\n",
        "%matplotlib inline\r\n",
        "import pandas as pd"
      ],
      "execution_count": 36,
      "outputs": []
    },
    {
      "cell_type": "code",
      "metadata": {
        "id": "uaPrdFXg1E64"
      },
      "source": [
        "digits = load_digits()"
      ],
      "execution_count": 19,
      "outputs": []
    },
    {
      "cell_type": "code",
      "metadata": {
        "colab": {
          "base_uri": "https://localhost:8080/"
        },
        "id": "UUrk1zVL1H6F",
        "outputId": "6e9c22a7-150d-41fe-8058-7283deadc0b5"
      },
      "source": [
        "X = digits.data\r\n",
        "y = digits.target\r\n",
        "print(X.shape)\r\n",
        "print(y.shape)"
      ],
      "execution_count": 15,
      "outputs": [
        {
          "output_type": "stream",
          "text": [
            "(1797, 64)\n",
            "(1797,)\n"
          ],
          "name": "stdout"
        }
      ]
    },
    {
      "cell_type": "code",
      "metadata": {
        "colab": {
          "base_uri": "https://localhost:8080/",
          "height": 283
        },
        "id": "UeatDlk71V7B",
        "outputId": "24d104df-5c6f-4ccc-d6ad-92b071ec5ab8"
      },
      "source": [
        "plt.figure(figsize=(20,4))\r\n",
        "for index, (image, label) in enumerate(zip(X[0:5], y[0:5])):\r\n",
        "  plt.subplot(1, 5 , index + 1)\r\n",
        "  plt.imshow(np.reshape(image,(8,8)), cmap=plt.cm.gray)\r\n",
        "  plt.title('Training: %i\\n' % label, fontsize=20)"
      ],
      "execution_count": 20,
      "outputs": [
        {
          "output_type": "display_data",
          "data": {
            "image/png": "[encoded data removed]",
            "text/plain": [
              "<Figure size 1440x288 with 5 Axes>"
            ]
          },
          "metadata": {
            "tags": [],
            "needs_background": "light"
          }
        }
      ]
    },
    {
      "cell_type": "code",
      "metadata": {
        "colab": {
          "base_uri": "https://localhost:8080/"
        },
        "id": "tIXDyDze2e65",
        "outputId": "3e8198d9-a45e-41c2-8883-a98b211db12e"
      },
      "source": [
        "X_train,X_test,y_train,y_test = train_test_split(X,y,test_size=0.23,random_state=2)\r\n",
        "print(X_train.shape)\r\n",
        "print(X_test.shape)\r\n",
        "print(y_train.shape)\r\n",
        "print(y_test.shape)"
      ],
      "execution_count": 24,
      "outputs": [
        {
          "output_type": "stream",
          "text": [
            "(1383, 64)\n",
            "(414, 64)\n",
            "(1383,)\n",
            "(414,)\n"
          ],
          "name": "stdout"
        }
      ]
    },
    {
      "cell_type": "code",
      "metadata": {
        "id": "cIgZu2Pz2-ND"
      },
      "source": [
        "from sklearn.linear_model import LogisticRegression"
      ],
      "execution_count": 25,
      "outputs": []
    },
    {
      "cell_type": "code",
      "metadata": {
        "colab": {
          "base_uri": "https://localhost:8080/"
        },
        "id": "jiwLOgaC3ajh",
        "outputId": "3bc5eca4-c658-4fea-de45-435a87668808"
      },
      "source": [
        "Log_Reg = LogisticRegression()\r\n",
        "Log_Reg.fit(X_train, y_train)"
      ],
      "execution_count": 26,
      "outputs": [
        {
          "output_type": "stream",
          "text": [
            "/usr/local/lib/python3.6/dist-packages/sklearn/linear_model/_logistic.py:940: ConvergenceWarning: lbfgs failed to converge (status=1):\n",
            "STOP: TOTAL NO. of ITERATIONS REACHED LIMIT.\n",
            "\n",
            "Increase the number of iterations (max_iter) or scale the data as shown in:\n",
            "    https://scikit-learn.org/stable/modules/preprocessing.html\n",
            "Please also refer to the documentation for alternative solver options:\n",
            "    https://scikit-learn.org/stable/modules/linear_model.html#logistic-regression\n",
            "  extra_warning_msg=_LOGISTIC_SOLVER_CONVERGENCE_MSG)\n"
          ],
          "name": "stderr"
        },
        {
          "output_type": "execute_result",
          "data": {
            "text/plain": [
              "LogisticRegression(C=1.0, class_weight=None, dual=False, fit_intercept=True,\n",
              "                   intercept_scaling=1, l1_ratio=None, max_iter=100,\n",
              "                   multi_class='auto', n_jobs=None, penalty='l2',\n",
              "                   random_state=None, solver='lbfgs', tol=0.0001, verbose=0,\n",
              "                   warm_start=False)"
            ]
          },
          "metadata": {
            "tags": []
          },
          "execution_count": 26
        }
      ]
    },
    {
      "cell_type": "code",
      "metadata": {
        "colab": {
          "base_uri": "https://localhost:8080/"
        },
        "id": "ZyVyckQK3rA3",
        "outputId": "b9cafdcf-89ca-4b67-b3c2-85619c33c31c"
      },
      "source": [
        "Log_Reg.predict(X_test[0].reshape(1,-1))"
      ],
      "execution_count": 28,
      "outputs": [
        {
          "output_type": "execute_result",
          "data": {
            "text/plain": [
              "array([4])"
            ]
          },
          "metadata": {
            "tags": []
          },
          "execution_count": 28
        }
      ]
    },
    {
      "cell_type": "code",
      "metadata": {
        "id": "16xyT2Jg365r"
      },
      "source": [
        "predictions = Log_Reg.predict(X_test)"
      ],
      "execution_count": 29,
      "outputs": []
    },
    {
      "cell_type": "code",
      "metadata": {
        "colab": {
          "base_uri": "https://localhost:8080/"
        },
        "id": "lxvWlrol4bnp",
        "outputId": "14cd6f15-7476-4fab-9ea7-df8aee30b95b"
      },
      "source": [
        "score = Log_Reg.score(X_test, y_test)\r\n",
        "print(score)"
      ],
      "execution_count": 32,
      "outputs": [
        {
          "output_type": "stream",
          "text": [
            "0.9516908212560387\n"
          ],
          "name": "stdout"
        }
      ]
    },
    {
      "cell_type": "code",
      "metadata": {
        "colab": {
          "base_uri": "https://localhost:8080/"
        },
        "id": "XSHS_IeH8TDD",
        "outputId": "1fbab71a-4333-4694-d06d-2b24a1c2584b"
      },
      "source": [
        "cm = metrics.confusion_matrix(y_test, predictions)\r\n",
        "cm"
      ],
      "execution_count": 39,
      "outputs": [
        {
          "output_type": "execute_result",
          "data": {
            "text/plain": [
              "array([[37,  0,  0,  0,  1,  0,  0,  0,  0,  0],\n",
              "       [ 0, 45,  0,  1,  0,  0,  0,  0,  1,  1],\n",
              "       [ 0,  0, 43,  0,  0,  0,  0,  0,  0,  0],\n",
              "       [ 0,  0,  0, 40,  0,  0,  0,  1,  1,  0],\n",
              "       [ 0,  0,  0,  0, 34,  0,  0,  0,  3,  1],\n",
              "       [ 0,  1,  0,  0,  1, 44,  0,  0,  0,  0],\n",
              "       [ 0,  1,  0,  0,  0,  0, 39,  0,  1,  0],\n",
              "       [ 0,  0,  0,  0,  0,  0,  0, 45,  1,  0],\n",
              "       [ 0,  0,  0,  0,  0,  0,  0,  0, 37,  1],\n",
              "       [ 0,  0,  0,  2,  0,  1,  0,  0,  1, 30]])"
            ]
          },
          "metadata": {
            "tags": []
          },
          "execution_count": 39
        }
      ]
    },
    {
      "cell_type": "code",
      "metadata": {
        "colab": {
          "base_uri": "https://localhost:8080/",
          "height": 547
        },
        "id": "k4KTBpQF4qZY",
        "outputId": "29fd4b9e-9e1e-4680-bb2e-27f967978dfd"
      },
      "source": [
        "plt.figure(figsize=(9,9))\r\n",
        "sns.heatmap(cm, annot=True, fmt='.3f', linewidths=.5, square=True, cmap='Blues_r');\r\n",
        "plt.ylabel('Actual Label');\r\n",
        "plt.xlabel('Predicted Label');\r\n",
        "all_sample_title = 'Accuracy Score: [0]'.format(score)\r\n",
        "plt.title(all_sample_title, size=15)"
      ],
      "execution_count": 40,
      "outputs": [
        {
          "output_type": "execute_result",
          "data": {
            "text/plain": [
              "Text(0.5, 1.0, 'Accuracy Score: [0]')"
            ]
          },
          "metadata": {
            "tags": []
          },
          "execution_count": 40
        },
        {
          "output_type": "display_data",
          "data": {
            "image/png": "[encoded data removed]",
            "text/plain": [
              "<Figure size 648x648 with 2 Axes>"
            ]
          },
          "metadata": {
            "tags": [],
            "needs_background": "light"
          }
        }
      ]
    },
    {
      "cell_type": "code",
      "metadata": {
        "id": "L8dFQ3ao8RCy"
      },
      "source": [
        ""
      ],
      "execution_count": null,
      "outputs": []
    },
    {
      "cell_type": "code",
      "metadata": {
        "id": "gkPzVbeq54wF"
      },
      "source": [
        ""
      ],
      "execution_count": null,
      "outputs": []
    }
  ]
}