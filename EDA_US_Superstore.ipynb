{
  "nbformat": 4,
  "nbformat_minor": 0,
  "metadata": {
    "colab": {
      "name": "EDA US Superstore.ipynb",
      "provenance": [],
      "authorship_tag": "ABX9TyN0HiQHhThfBuIpujyVGkTl",
      "include_colab_link": true
    },
    "kernelspec": {
      "name": "python3",
      "display_name": "Python 3"
    }
  },
  "cells": [
    {
      "cell_type": "markdown",
      "metadata": {
        "id": "view-in-github",
        "colab_type": "text"
      },
      "source": [
        "<a href=\"https://colab.research.google.com/github/Jainadi2128/Python-Projects/blob/main/EDA_US_Superstore.ipynb\" target=\"_parent\"><img src=\"https://colab.research.google.com/assets/colab-badge.svg\" alt=\"Open In Colab\"/></a>"
      ]
    },
    {
      "cell_type": "code",
      "metadata": {
        "id": "AsNYA6Jnz2KY"
      },
      "source": [
        "import pandas as pd"
      ],
      "execution_count": 1,
      "outputs": []
    },
    {
      "cell_type": "markdown",
      "metadata": {
        "id": "IufD0MAg1d_n"
      },
      "source": [
        "# Read Data"
      ]
    },
    {
      "cell_type": "code",
      "metadata": {
        "id": "vt8sQ44404un"
      },
      "source": [
        "data = pd.read_excel('US Superstore data.xls')"
      ],
      "execution_count": 2,
      "outputs": []
    },
    {
      "cell_type": "code",
      "metadata": {
        "colab": {
          "base_uri": "https://localhost:8080/",
          "height": 940
        },
        "id": "eBoRpPDn1Ht2",
        "outputId": "3f1508b9-838b-4f1d-a50a-5d3018185f62"
      },
      "source": [
        "data.head(10)"
      ],
      "execution_count": 3,
      "outputs": [
        {
          "output_type": "execute_result",
          "data": {
            "text/html": [
              "<div>\n",
              "<style scoped>\n",
              "    .dataframe tbody tr th:only-of-type {\n",
              "        vertical-align: middle;\n",
              "    }\n",
              "\n",
              "    .dataframe tbody tr th {\n",
              "        vertical-align: top;\n",
              "    }\n",
              "\n",
              "    .dataframe thead th {\n",
              "        text-align: right;\n",
              "    }\n",
              "</style>\n",
              "<table border=\"1\" class=\"dataframe\">\n",
              "  <thead>\n",
              "    <tr style=\"text-align: right;\">\n",
              "      <th></th>\n",
              "      <th>Row ID</th>\n",
              "      <th>Order ID</th>\n",
              "      <th>Order Date</th>\n",
              "      <th>Ship Date</th>\n",
              "      <th>Ship Mode</th>\n",
              "      <th>Customer ID</th>\n",
              "      <th>Customer Name</th>\n",
              "      <th>Segment</th>\n",
              "      <th>Country</th>\n",
              "      <th>City</th>\n",
              "      <th>State</th>\n",
              "      <th>Postal Code</th>\n",
              "      <th>Region</th>\n",
              "      <th>Product ID</th>\n",
              "      <th>Category</th>\n",
              "      <th>Sub-Category</th>\n",
              "      <th>Product Name</th>\n",
              "      <th>Sales</th>\n",
              "      <th>Quantity</th>\n",
              "      <th>Discount</th>\n",
              "      <th>Profit</th>\n",
              "    </tr>\n",
              "  </thead>\n",
              "  <tbody>\n",
              "    <tr>\n",
              "      <th>0</th>\n",
              "      <td>1</td>\n",
              "      <td>CA-2016-152156</td>\n",
              "      <td>2016-11-08</td>\n",
              "      <td>2016-11-11</td>\n",
              "      <td>Second Class</td>\n",
              "      <td>CG-12520</td>\n",
              "      <td>Claire Gute</td>\n",
              "      <td>Consumer</td>\n",
              "      <td>United States</td>\n",
              "      <td>Henderson</td>\n",
              "      <td>Kentucky</td>\n",
              "      <td>42420</td>\n",
              "      <td>South</td>\n",
              "      <td>FUR-BO-10001798</td>\n",
              "      <td>Furniture</td>\n",
              "      <td>Bookcases</td>\n",
              "      <td>Bush Somerset Collection Bookcase</td>\n",
              "      <td>261.9600</td>\n",
              "      <td>2</td>\n",
              "      <td>0.00</td>\n",
              "      <td>41.9136</td>\n",
              "    </tr>\n",
              "    <tr>\n",
              "      <th>1</th>\n",
              "      <td>2</td>\n",
              "      <td>CA-2016-152156</td>\n",
              "      <td>2016-11-08</td>\n",
              "      <td>2016-11-11</td>\n",
              "      <td>Second Class</td>\n",
              "      <td>CG-12520</td>\n",
              "      <td>Claire Gute</td>\n",
              "      <td>Consumer</td>\n",
              "      <td>United States</td>\n",
              "      <td>Henderson</td>\n",
              "      <td>Kentucky</td>\n",
              "      <td>42420</td>\n",
              "      <td>South</td>\n",
              "      <td>FUR-CH-10000454</td>\n",
              "      <td>Furniture</td>\n",
              "      <td>Chairs</td>\n",
              "      <td>Hon Deluxe Fabric Upholstered Stacking Chairs,...</td>\n",
              "      <td>731.9400</td>\n",
              "      <td>3</td>\n",
              "      <td>0.00</td>\n",
              "      <td>219.5820</td>\n",
              "    </tr>\n",
              "    <tr>\n",
              "      <th>2</th>\n",
              "      <td>3</td>\n",
              "      <td>CA-2016-138688</td>\n",
              "      <td>2016-06-12</td>\n",
              "      <td>2016-06-16</td>\n",
              "      <td>Second Class</td>\n",
              "      <td>DV-13045</td>\n",
              "      <td>Darrin Van Huff</td>\n",
              "      <td>Corporate</td>\n",
              "      <td>United States</td>\n",
              "      <td>Los Angeles</td>\n",
              "      <td>California</td>\n",
              "      <td>90036</td>\n",
              "      <td>West</td>\n",
              "      <td>OFF-LA-10000240</td>\n",
              "      <td>Office Supplies</td>\n",
              "      <td>Labels</td>\n",
              "      <td>Self-Adhesive Address Labels for Typewriters b...</td>\n",
              "      <td>14.6200</td>\n",
              "      <td>2</td>\n",
              "      <td>0.00</td>\n",
              "      <td>6.8714</td>\n",
              "    </tr>\n",
              "    <tr>\n",
              "      <th>3</th>\n",
              "      <td>4</td>\n",
              "      <td>US-2015-108966</td>\n",
              "      <td>2015-10-11</td>\n",
              "      <td>2015-10-18</td>\n",
              "      <td>Standard Class</td>\n",
              "      <td>SO-20335</td>\n",
              "      <td>Sean O'Donnell</td>\n",
              "      <td>Consumer</td>\n",
              "      <td>United States</td>\n",
              "      <td>Fort Lauderdale</td>\n",
              "      <td>Florida</td>\n",
              "      <td>33311</td>\n",
              "      <td>South</td>\n",
              "      <td>FUR-TA-10000577</td>\n",
              "      <td>Furniture</td>\n",
              "      <td>Tables</td>\n",
              "      <td>Bretford CR4500 Series Slim Rectangular Table</td>\n",
              "      <td>957.5775</td>\n",
              "      <td>5</td>\n",
              "      <td>0.45</td>\n",
              "      <td>-383.0310</td>\n",
              "    </tr>\n",
              "    <tr>\n",
              "      <th>4</th>\n",
              "      <td>5</td>\n",
              "      <td>US-2015-108966</td>\n",
              "      <td>2015-10-11</td>\n",
              "      <td>2015-10-18</td>\n",
              "      <td>Standard Class</td>\n",
              "      <td>SO-20335</td>\n",
              "      <td>Sean O'Donnell</td>\n",
              "      <td>Consumer</td>\n",
              "      <td>United States</td>\n",
              "      <td>Fort Lauderdale</td>\n",
              "      <td>Florida</td>\n",
              "      <td>33311</td>\n",
              "      <td>South</td>\n",
              "      <td>OFF-ST-10000760</td>\n",
              "      <td>Office Supplies</td>\n",
              "      <td>Storage</td>\n",
              "      <td>Eldon Fold 'N Roll Cart System</td>\n",
              "      <td>22.3680</td>\n",
              "      <td>2</td>\n",
              "      <td>0.20</td>\n",
              "      <td>2.5164</td>\n",
              "    </tr>\n",
              "    <tr>\n",
              "      <th>5</th>\n",
              "      <td>6</td>\n",
              "      <td>CA-2014-115812</td>\n",
              "      <td>2014-06-09</td>\n",
              "      <td>2014-06-14</td>\n",
              "      <td>Standard Class</td>\n",
              "      <td>BH-11710</td>\n",
              "      <td>Brosina Hoffman</td>\n",
              "      <td>Consumer</td>\n",
              "      <td>United States</td>\n",
              "      <td>Los Angeles</td>\n",
              "      <td>California</td>\n",
              "      <td>90032</td>\n",
              "      <td>West</td>\n",
              "      <td>FUR-FU-10001487</td>\n",
              "      <td>Furniture</td>\n",
              "      <td>Furnishings</td>\n",
              "      <td>Eldon Expressions Wood and Plastic Desk Access...</td>\n",
              "      <td>48.8600</td>\n",
              "      <td>7</td>\n",
              "      <td>0.00</td>\n",
              "      <td>14.1694</td>\n",
              "    </tr>\n",
              "    <tr>\n",
              "      <th>6</th>\n",
              "      <td>7</td>\n",
              "      <td>CA-2014-115812</td>\n",
              "      <td>2014-06-09</td>\n",
              "      <td>2014-06-14</td>\n",
              "      <td>Standard Class</td>\n",
              "      <td>BH-11710</td>\n",
              "      <td>Brosina Hoffman</td>\n",
              "      <td>Consumer</td>\n",
              "      <td>United States</td>\n",
              "      <td>Los Angeles</td>\n",
              "      <td>California</td>\n",
              "      <td>90032</td>\n",
              "      <td>West</td>\n",
              "      <td>OFF-AR-10002833</td>\n",
              "      <td>Office Supplies</td>\n",
              "      <td>Art</td>\n",
              "      <td>Newell 322</td>\n",
              "      <td>7.2800</td>\n",
              "      <td>4</td>\n",
              "      <td>0.00</td>\n",
              "      <td>1.9656</td>\n",
              "    </tr>\n",
              "    <tr>\n",
              "      <th>7</th>\n",
              "      <td>8</td>\n",
              "      <td>CA-2014-115812</td>\n",
              "      <td>2014-06-09</td>\n",
              "      <td>2014-06-14</td>\n",
              "      <td>Standard Class</td>\n",
              "      <td>BH-11710</td>\n",
              "      <td>Brosina Hoffman</td>\n",
              "      <td>Consumer</td>\n",
              "      <td>United States</td>\n",
              "      <td>Los Angeles</td>\n",
              "      <td>California</td>\n",
              "      <td>90032</td>\n",
              "      <td>West</td>\n",
              "      <td>TEC-PH-10002275</td>\n",
              "      <td>Technology</td>\n",
              "      <td>Phones</td>\n",
              "      <td>Mitel 5320 IP Phone VoIP phone</td>\n",
              "      <td>907.1520</td>\n",
              "      <td>6</td>\n",
              "      <td>0.20</td>\n",
              "      <td>90.7152</td>\n",
              "    </tr>\n",
              "    <tr>\n",
              "      <th>8</th>\n",
              "      <td>9</td>\n",
              "      <td>CA-2014-115812</td>\n",
              "      <td>2014-06-09</td>\n",
              "      <td>2014-06-14</td>\n",
              "      <td>Standard Class</td>\n",
              "      <td>BH-11710</td>\n",
              "      <td>Brosina Hoffman</td>\n",
              "      <td>Consumer</td>\n",
              "      <td>United States</td>\n",
              "      <td>Los Angeles</td>\n",
              "      <td>California</td>\n",
              "      <td>90032</td>\n",
              "      <td>West</td>\n",
              "      <td>OFF-BI-10003910</td>\n",
              "      <td>Office Supplies</td>\n",
              "      <td>Binders</td>\n",
              "      <td>DXL Angle-View Binders with Locking Rings by S...</td>\n",
              "      <td>18.5040</td>\n",
              "      <td>3</td>\n",
              "      <td>0.20</td>\n",
              "      <td>5.7825</td>\n",
              "    </tr>\n",
              "    <tr>\n",
              "      <th>9</th>\n",
              "      <td>10</td>\n",
              "      <td>CA-2014-115812</td>\n",
              "      <td>2014-06-09</td>\n",
              "      <td>2014-06-14</td>\n",
              "      <td>Standard Class</td>\n",
              "      <td>BH-11710</td>\n",
              "      <td>Brosina Hoffman</td>\n",
              "      <td>Consumer</td>\n",
              "      <td>United States</td>\n",
              "      <td>Los Angeles</td>\n",
              "      <td>California</td>\n",
              "      <td>90032</td>\n",
              "      <td>West</td>\n",
              "      <td>OFF-AP-10002892</td>\n",
              "      <td>Office Supplies</td>\n",
              "      <td>Appliances</td>\n",
              "      <td>Belkin F5C206VTEL 6 Outlet Surge</td>\n",
              "      <td>114.9000</td>\n",
              "      <td>5</td>\n",
              "      <td>0.00</td>\n",
              "      <td>34.4700</td>\n",
              "    </tr>\n",
              "  </tbody>\n",
              "</table>\n",
              "</div>"
            ],
            "text/plain": [
              "   Row ID        Order ID Order Date  ... Quantity Discount    Profit\n",
              "0       1  CA-2016-152156 2016-11-08  ...        2     0.00   41.9136\n",
              "1       2  CA-2016-152156 2016-11-08  ...        3     0.00  219.5820\n",
              "2       3  CA-2016-138688 2016-06-12  ...        2     0.00    6.8714\n",
              "3       4  US-2015-108966 2015-10-11  ...        5     0.45 -383.0310\n",
              "4       5  US-2015-108966 2015-10-11  ...        2     0.20    2.5164\n",
              "5       6  CA-2014-115812 2014-06-09  ...        7     0.00   14.1694\n",
              "6       7  CA-2014-115812 2014-06-09  ...        4     0.00    1.9656\n",
              "7       8  CA-2014-115812 2014-06-09  ...        6     0.20   90.7152\n",
              "8       9  CA-2014-115812 2014-06-09  ...        3     0.20    5.7825\n",
              "9      10  CA-2014-115812 2014-06-09  ...        5     0.00   34.4700\n",
              "\n",
              "[10 rows x 21 columns]"
            ]
          },
          "metadata": {
            "tags": []
          },
          "execution_count": 3
        }
      ]
    },
    {
      "cell_type": "markdown",
      "metadata": {
        "id": "J6EEQGDe10d8"
      },
      "source": [
        "# Writing to csv"
      ]
    },
    {
      "cell_type": "code",
      "metadata": {
        "id": "Sm0RQGQd1Cin"
      },
      "source": [
        "data.to_csv('US Superstore')"
      ],
      "execution_count": 4,
      "outputs": []
    },
    {
      "cell_type": "markdown",
      "metadata": {
        "id": "HBnykmp92XEj"
      },
      "source": [
        "# Reading data from CSV"
      ]
    },
    {
      "cell_type": "code",
      "metadata": {
        "id": "S7KNcBWM2TVd"
      },
      "source": [
        "df = pd.read_csv('US Superstore') "
      ],
      "execution_count": 5,
      "outputs": []
    },
    {
      "cell_type": "code",
      "metadata": {
        "colab": {
          "base_uri": "https://localhost:8080/",
          "height": 940
        },
        "id": "qxC6fld22fRa",
        "outputId": "5050608d-21f6-48f0-fb7d-6f043089fd13"
      },
      "source": [
        "df.head(10)"
      ],
      "execution_count": 6,
      "outputs": [
        {
          "output_type": "execute_result",
          "data": {
            "text/html": [
              "<div>\n",
              "<style scoped>\n",
              "    .dataframe tbody tr th:only-of-type {\n",
              "        vertical-align: middle;\n",
              "    }\n",
              "\n",
              "    .dataframe tbody tr th {\n",
              "        vertical-align: top;\n",
              "    }\n",
              "\n",
              "    .dataframe thead th {\n",
              "        text-align: right;\n",
              "    }\n",
              "</style>\n",
              "<table border=\"1\" class=\"dataframe\">\n",
              "  <thead>\n",
              "    <tr style=\"text-align: right;\">\n",
              "      <th></th>\n",
              "      <th>Unnamed: 0</th>\n",
              "      <th>Row ID</th>\n",
              "      <th>Order ID</th>\n",
              "      <th>Order Date</th>\n",
              "      <th>Ship Date</th>\n",
              "      <th>Ship Mode</th>\n",
              "      <th>Customer ID</th>\n",
              "      <th>Customer Name</th>\n",
              "      <th>Segment</th>\n",
              "      <th>Country</th>\n",
              "      <th>City</th>\n",
              "      <th>State</th>\n",
              "      <th>Postal Code</th>\n",
              "      <th>Region</th>\n",
              "      <th>Product ID</th>\n",
              "      <th>Category</th>\n",
              "      <th>Sub-Category</th>\n",
              "      <th>Product Name</th>\n",
              "      <th>Sales</th>\n",
              "      <th>Quantity</th>\n",
              "      <th>Discount</th>\n",
              "      <th>Profit</th>\n",
              "    </tr>\n",
              "  </thead>\n",
              "  <tbody>\n",
              "    <tr>\n",
              "      <th>0</th>\n",
              "      <td>0</td>\n",
              "      <td>1</td>\n",
              "      <td>CA-2016-152156</td>\n",
              "      <td>2016-11-08</td>\n",
              "      <td>2016-11-11</td>\n",
              "      <td>Second Class</td>\n",
              "      <td>CG-12520</td>\n",
              "      <td>Claire Gute</td>\n",
              "      <td>Consumer</td>\n",
              "      <td>United States</td>\n",
              "      <td>Henderson</td>\n",
              "      <td>Kentucky</td>\n",
              "      <td>42420</td>\n",
              "      <td>South</td>\n",
              "      <td>FUR-BO-10001798</td>\n",
              "      <td>Furniture</td>\n",
              "      <td>Bookcases</td>\n",
              "      <td>Bush Somerset Collection Bookcase</td>\n",
              "      <td>261.9600</td>\n",
              "      <td>2</td>\n",
              "      <td>0.00</td>\n",
              "      <td>41.9136</td>\n",
              "    </tr>\n",
              "    <tr>\n",
              "      <th>1</th>\n",
              "      <td>1</td>\n",
              "      <td>2</td>\n",
              "      <td>CA-2016-152156</td>\n",
              "      <td>2016-11-08</td>\n",
              "      <td>2016-11-11</td>\n",
              "      <td>Second Class</td>\n",
              "      <td>CG-12520</td>\n",
              "      <td>Claire Gute</td>\n",
              "      <td>Consumer</td>\n",
              "      <td>United States</td>\n",
              "      <td>Henderson</td>\n",
              "      <td>Kentucky</td>\n",
              "      <td>42420</td>\n",
              "      <td>South</td>\n",
              "      <td>FUR-CH-10000454</td>\n",
              "      <td>Furniture</td>\n",
              "      <td>Chairs</td>\n",
              "      <td>Hon Deluxe Fabric Upholstered Stacking Chairs,...</td>\n",
              "      <td>731.9400</td>\n",
              "      <td>3</td>\n",
              "      <td>0.00</td>\n",
              "      <td>219.5820</td>\n",
              "    </tr>\n",
              "    <tr>\n",
              "      <th>2</th>\n",
              "      <td>2</td>\n",
              "      <td>3</td>\n",
              "      <td>CA-2016-138688</td>\n",
              "      <td>2016-06-12</td>\n",
              "      <td>2016-06-16</td>\n",
              "      <td>Second Class</td>\n",
              "      <td>DV-13045</td>\n",
              "      <td>Darrin Van Huff</td>\n",
              "      <td>Corporate</td>\n",
              "      <td>United States</td>\n",
              "      <td>Los Angeles</td>\n",
              "      <td>California</td>\n",
              "      <td>90036</td>\n",
              "      <td>West</td>\n",
              "      <td>OFF-LA-10000240</td>\n",
              "      <td>Office Supplies</td>\n",
              "      <td>Labels</td>\n",
              "      <td>Self-Adhesive Address Labels for Typewriters b...</td>\n",
              "      <td>14.6200</td>\n",
              "      <td>2</td>\n",
              "      <td>0.00</td>\n",
              "      <td>6.8714</td>\n",
              "    </tr>\n",
              "    <tr>\n",
              "      <th>3</th>\n",
              "      <td>3</td>\n",
              "      <td>4</td>\n",
              "      <td>US-2015-108966</td>\n",
              "      <td>2015-10-11</td>\n",
              "      <td>2015-10-18</td>\n",
              "      <td>Standard Class</td>\n",
              "      <td>SO-20335</td>\n",
              "      <td>Sean O'Donnell</td>\n",
              "      <td>Consumer</td>\n",
              "      <td>United States</td>\n",
              "      <td>Fort Lauderdale</td>\n",
              "      <td>Florida</td>\n",
              "      <td>33311</td>\n",
              "      <td>South</td>\n",
              "      <td>FUR-TA-10000577</td>\n",
              "      <td>Furniture</td>\n",
              "      <td>Tables</td>\n",
              "      <td>Bretford CR4500 Series Slim Rectangular Table</td>\n",
              "      <td>957.5775</td>\n",
              "      <td>5</td>\n",
              "      <td>0.45</td>\n",
              "      <td>-383.0310</td>\n",
              "    </tr>\n",
              "    <tr>\n",
              "      <th>4</th>\n",
              "      <td>4</td>\n",
              "      <td>5</td>\n",
              "      <td>US-2015-108966</td>\n",
              "      <td>2015-10-11</td>\n",
              "      <td>2015-10-18</td>\n",
              "      <td>Standard Class</td>\n",
              "      <td>SO-20335</td>\n",
              "      <td>Sean O'Donnell</td>\n",
              "      <td>Consumer</td>\n",
              "      <td>United States</td>\n",
              "      <td>Fort Lauderdale</td>\n",
              "      <td>Florida</td>\n",
              "      <td>33311</td>\n",
              "      <td>South</td>\n",
              "      <td>OFF-ST-10000760</td>\n",
              "      <td>Office Supplies</td>\n",
              "      <td>Storage</td>\n",
              "      <td>Eldon Fold 'N Roll Cart System</td>\n",
              "      <td>22.3680</td>\n",
              "      <td>2</td>\n",
              "      <td>0.20</td>\n",
              "      <td>2.5164</td>\n",
              "    </tr>\n",
              "    <tr>\n",
              "      <th>5</th>\n",
              "      <td>5</td>\n",
              "      <td>6</td>\n",
              "      <td>CA-2014-115812</td>\n",
              "      <td>2014-06-09</td>\n",
              "      <td>2014-06-14</td>\n",
              "      <td>Standard Class</td>\n",
              "      <td>BH-11710</td>\n",
              "      <td>Brosina Hoffman</td>\n",
              "      <td>Consumer</td>\n",
              "      <td>United States</td>\n",
              "      <td>Los Angeles</td>\n",
              "      <td>California</td>\n",
              "      <td>90032</td>\n",
              "      <td>West</td>\n",
              "      <td>FUR-FU-10001487</td>\n",
              "      <td>Furniture</td>\n",
              "      <td>Furnishings</td>\n",
              "      <td>Eldon Expressions Wood and Plastic Desk Access...</td>\n",
              "      <td>48.8600</td>\n",
              "      <td>7</td>\n",
              "      <td>0.00</td>\n",
              "      <td>14.1694</td>\n",
              "    </tr>\n",
              "    <tr>\n",
              "      <th>6</th>\n",
              "      <td>6</td>\n",
              "      <td>7</td>\n",
              "      <td>CA-2014-115812</td>\n",
              "      <td>2014-06-09</td>\n",
              "      <td>2014-06-14</td>\n",
              "      <td>Standard Class</td>\n",
              "      <td>BH-11710</td>\n",
              "      <td>Brosina Hoffman</td>\n",
              "      <td>Consumer</td>\n",
              "      <td>United States</td>\n",
              "      <td>Los Angeles</td>\n",
              "      <td>California</td>\n",
              "      <td>90032</td>\n",
              "      <td>West</td>\n",
              "      <td>OFF-AR-10002833</td>\n",
              "      <td>Office Supplies</td>\n",
              "      <td>Art</td>\n",
              "      <td>Newell 322</td>\n",
              "      <td>7.2800</td>\n",
              "      <td>4</td>\n",
              "      <td>0.00</td>\n",
              "      <td>1.9656</td>\n",
              "    </tr>\n",
              "    <tr>\n",
              "      <th>7</th>\n",
              "      <td>7</td>\n",
              "      <td>8</td>\n",
              "      <td>CA-2014-115812</td>\n",
              "      <td>2014-06-09</td>\n",
              "      <td>2014-06-14</td>\n",
              "      <td>Standard Class</td>\n",
              "      <td>BH-11710</td>\n",
              "      <td>Brosina Hoffman</td>\n",
              "      <td>Consumer</td>\n",
              "      <td>United States</td>\n",
              "      <td>Los Angeles</td>\n",
              "      <td>California</td>\n",
              "      <td>90032</td>\n",
              "      <td>West</td>\n",
              "      <td>TEC-PH-10002275</td>\n",
              "      <td>Technology</td>\n",
              "      <td>Phones</td>\n",
              "      <td>Mitel 5320 IP Phone VoIP phone</td>\n",
              "      <td>907.1520</td>\n",
              "      <td>6</td>\n",
              "      <td>0.20</td>\n",
              "      <td>90.7152</td>\n",
              "    </tr>\n",
              "    <tr>\n",
              "      <th>8</th>\n",
              "      <td>8</td>\n",
              "      <td>9</td>\n",
              "      <td>CA-2014-115812</td>\n",
              "      <td>2014-06-09</td>\n",
              "      <td>2014-06-14</td>\n",
              "      <td>Standard Class</td>\n",
              "      <td>BH-11710</td>\n",
              "      <td>Brosina Hoffman</td>\n",
              "      <td>Consumer</td>\n",
              "      <td>United States</td>\n",
              "      <td>Los Angeles</td>\n",
              "      <td>California</td>\n",
              "      <td>90032</td>\n",
              "      <td>West</td>\n",
              "      <td>OFF-BI-10003910</td>\n",
              "      <td>Office Supplies</td>\n",
              "      <td>Binders</td>\n",
              "      <td>DXL Angle-View Binders with Locking Rings by S...</td>\n",
              "      <td>18.5040</td>\n",
              "      <td>3</td>\n",
              "      <td>0.20</td>\n",
              "      <td>5.7825</td>\n",
              "    </tr>\n",
              "    <tr>\n",
              "      <th>9</th>\n",
              "      <td>9</td>\n",
              "      <td>10</td>\n",
              "      <td>CA-2014-115812</td>\n",
              "      <td>2014-06-09</td>\n",
              "      <td>2014-06-14</td>\n",
              "      <td>Standard Class</td>\n",
              "      <td>BH-11710</td>\n",
              "      <td>Brosina Hoffman</td>\n",
              "      <td>Consumer</td>\n",
              "      <td>United States</td>\n",
              "      <td>Los Angeles</td>\n",
              "      <td>California</td>\n",
              "      <td>90032</td>\n",
              "      <td>West</td>\n",
              "      <td>OFF-AP-10002892</td>\n",
              "      <td>Office Supplies</td>\n",
              "      <td>Appliances</td>\n",
              "      <td>Belkin F5C206VTEL 6 Outlet Surge</td>\n",
              "      <td>114.9000</td>\n",
              "      <td>5</td>\n",
              "      <td>0.00</td>\n",
              "      <td>34.4700</td>\n",
              "    </tr>\n",
              "  </tbody>\n",
              "</table>\n",
              "</div>"
            ],
            "text/plain": [
              "   Unnamed: 0  Row ID        Order ID  ... Quantity Discount    Profit\n",
              "0           0       1  CA-2016-152156  ...        2     0.00   41.9136\n",
              "1           1       2  CA-2016-152156  ...        3     0.00  219.5820\n",
              "2           2       3  CA-2016-138688  ...        2     0.00    6.8714\n",
              "3           3       4  US-2015-108966  ...        5     0.45 -383.0310\n",
              "4           4       5  US-2015-108966  ...        2     0.20    2.5164\n",
              "5           5       6  CA-2014-115812  ...        7     0.00   14.1694\n",
              "6           6       7  CA-2014-115812  ...        4     0.00    1.9656\n",
              "7           7       8  CA-2014-115812  ...        6     0.20   90.7152\n",
              "8           8       9  CA-2014-115812  ...        3     0.20    5.7825\n",
              "9           9      10  CA-2014-115812  ...        5     0.00   34.4700\n",
              "\n",
              "[10 rows x 22 columns]"
            ]
          },
          "metadata": {
            "tags": []
          },
          "execution_count": 6
        }
      ]
    },
    {
      "cell_type": "markdown",
      "metadata": {
        "id": "sWRA8OcI2uCu"
      },
      "source": [
        "# Data Cleaning"
      ]
    },
    {
      "cell_type": "markdown",
      "metadata": {
        "id": "kB5PdmcR25P3"
      },
      "source": [
        "## Data Dimension"
      ]
    },
    {
      "cell_type": "code",
      "metadata": {
        "colab": {
          "base_uri": "https://localhost:8080/"
        },
        "id": "ZWUxi2jJ20kw",
        "outputId": "07035e13-c581-4e6d-db8e-3935a35ee73d"
      },
      "source": [
        "df.shape"
      ],
      "execution_count": 7,
      "outputs": [
        {
          "output_type": "execute_result",
          "data": {
            "text/plain": [
              "(9994, 22)"
            ]
          },
          "metadata": {
            "tags": []
          },
          "execution_count": 7
        }
      ]
    },
    {
      "cell_type": "markdown",
      "metadata": {
        "id": "EkVHiFyO3FqH"
      },
      "source": [
        "## Check for missing values"
      ]
    },
    {
      "cell_type": "code",
      "metadata": {
        "colab": {
          "base_uri": "https://localhost:8080/"
        },
        "id": "Ah0GAyVj2o4l",
        "outputId": "0ccfdc5f-3f09-41ee-94fa-8597530c0145"
      },
      "source": [
        "df.isnull().sum()"
      ],
      "execution_count": 8,
      "outputs": [
        {
          "output_type": "execute_result",
          "data": {
            "text/plain": [
              "Unnamed: 0       0\n",
              "Row ID           0\n",
              "Order ID         0\n",
              "Order Date       0\n",
              "Ship Date        0\n",
              "Ship Mode        0\n",
              "Customer ID      0\n",
              "Customer Name    0\n",
              "Segment          0\n",
              "Country          0\n",
              "City             0\n",
              "State            0\n",
              "Postal Code      0\n",
              "Region           0\n",
              "Product ID       0\n",
              "Category         0\n",
              "Sub-Category     0\n",
              "Product Name     0\n",
              "Sales            0\n",
              "Quantity         0\n",
              "Discount         0\n",
              "Profit           0\n",
              "dtype: int64"
            ]
          },
          "metadata": {
            "tags": []
          },
          "execution_count": 8
        }
      ]
    },
    {
      "cell_type": "markdown",
      "metadata": {
        "id": "r0u6VJ6U3o4n"
      },
      "source": [
        "## Overview of data types of each columns in the dataframe"
      ]
    },
    {
      "cell_type": "code",
      "metadata": {
        "colab": {
          "base_uri": "https://localhost:8080/"
        },
        "id": "jGfkWrIy3Wmx",
        "outputId": "6d8bcaf9-1057-43c1-adbd-c4e95938dba7"
      },
      "source": [
        "df.info()"
      ],
      "execution_count": 9,
      "outputs": [
        {
          "output_type": "stream",
          "text": [
            "<class 'pandas.core.frame.DataFrame'>\n",
            "RangeIndex: 9994 entries, 0 to 9993\n",
            "Data columns (total 22 columns):\n",
            " #   Column         Non-Null Count  Dtype  \n",
            "---  ------         --------------  -----  \n",
            " 0   Unnamed: 0     9994 non-null   int64  \n",
            " 1   Row ID         9994 non-null   int64  \n",
            " 2   Order ID       9994 non-null   object \n",
            " 3   Order Date     9994 non-null   object \n",
            " 4   Ship Date      9994 non-null   object \n",
            " 5   Ship Mode      9994 non-null   object \n",
            " 6   Customer ID    9994 non-null   object \n",
            " 7   Customer Name  9994 non-null   object \n",
            " 8   Segment        9994 non-null   object \n",
            " 9   Country        9994 non-null   object \n",
            " 10  City           9994 non-null   object \n",
            " 11  State          9994 non-null   object \n",
            " 12  Postal Code    9994 non-null   int64  \n",
            " 13  Region         9994 non-null   object \n",
            " 14  Product ID     9994 non-null   object \n",
            " 15  Category       9994 non-null   object \n",
            " 16  Sub-Category   9994 non-null   object \n",
            " 17  Product Name   9994 non-null   object \n",
            " 18  Sales          9994 non-null   float64\n",
            " 19  Quantity       9994 non-null   int64  \n",
            " 20  Discount       9994 non-null   float64\n",
            " 21  Profit         9994 non-null   float64\n",
            "dtypes: float64(3), int64(4), object(15)\n",
            "memory usage: 1.7+ MB\n"
          ],
          "name": "stdout"
        }
      ]
    },
    {
      "cell_type": "code",
      "metadata": {
        "id": "joVggeYs59LI"
      },
      "source": [
        "df = df.drop('Country', axis=1)"
      ],
      "execution_count": 10,
      "outputs": []
    },
    {
      "cell_type": "code",
      "metadata": {
        "colab": {
          "base_uri": "https://localhost:8080/",
          "height": 547
        },
        "id": "F23vacxR7Z-G",
        "outputId": "628c25b5-70e1-4ff8-f8fc-13088366b736"
      },
      "source": [
        "df.head()"
      ],
      "execution_count": 11,
      "outputs": [
        {
          "output_type": "execute_result",
          "data": {
            "text/html": [
              "<div>\n",
              "<style scoped>\n",
              "    .dataframe tbody tr th:only-of-type {\n",
              "        vertical-align: middle;\n",
              "    }\n",
              "\n",
              "    .dataframe tbody tr th {\n",
              "        vertical-align: top;\n",
              "    }\n",
              "\n",
              "    .dataframe thead th {\n",
              "        text-align: right;\n",
              "    }\n",
              "</style>\n",
              "<table border=\"1\" class=\"dataframe\">\n",
              "  <thead>\n",
              "    <tr style=\"text-align: right;\">\n",
              "      <th></th>\n",
              "      <th>Unnamed: 0</th>\n",
              "      <th>Row ID</th>\n",
              "      <th>Order ID</th>\n",
              "      <th>Order Date</th>\n",
              "      <th>Ship Date</th>\n",
              "      <th>Ship Mode</th>\n",
              "      <th>Customer ID</th>\n",
              "      <th>Customer Name</th>\n",
              "      <th>Segment</th>\n",
              "      <th>City</th>\n",
              "      <th>State</th>\n",
              "      <th>Postal Code</th>\n",
              "      <th>Region</th>\n",
              "      <th>Product ID</th>\n",
              "      <th>Category</th>\n",
              "      <th>Sub-Category</th>\n",
              "      <th>Product Name</th>\n",
              "      <th>Sales</th>\n",
              "      <th>Quantity</th>\n",
              "      <th>Discount</th>\n",
              "      <th>Profit</th>\n",
              "    </tr>\n",
              "  </thead>\n",
              "  <tbody>\n",
              "    <tr>\n",
              "      <th>0</th>\n",
              "      <td>0</td>\n",
              "      <td>1</td>\n",
              "      <td>CA-2016-152156</td>\n",
              "      <td>2016-11-08</td>\n",
              "      <td>2016-11-11</td>\n",
              "      <td>Second Class</td>\n",
              "      <td>CG-12520</td>\n",
              "      <td>Claire Gute</td>\n",
              "      <td>Consumer</td>\n",
              "      <td>Henderson</td>\n",
              "      <td>Kentucky</td>\n",
              "      <td>42420</td>\n",
              "      <td>South</td>\n",
              "      <td>FUR-BO-10001798</td>\n",
              "      <td>Furniture</td>\n",
              "      <td>Bookcases</td>\n",
              "      <td>Bush Somerset Collection Bookcase</td>\n",
              "      <td>261.9600</td>\n",
              "      <td>2</td>\n",
              "      <td>0.00</td>\n",
              "      <td>41.9136</td>\n",
              "    </tr>\n",
              "    <tr>\n",
              "      <th>1</th>\n",
              "      <td>1</td>\n",
              "      <td>2</td>\n",
              "      <td>CA-2016-152156</td>\n",
              "      <td>2016-11-08</td>\n",
              "      <td>2016-11-11</td>\n",
              "      <td>Second Class</td>\n",
              "      <td>CG-12520</td>\n",
              "      <td>Claire Gute</td>\n",
              "      <td>Consumer</td>\n",
              "      <td>Henderson</td>\n",
              "      <td>Kentucky</td>\n",
              "      <td>42420</td>\n",
              "      <td>South</td>\n",
              "      <td>FUR-CH-10000454</td>\n",
              "      <td>Furniture</td>\n",
              "      <td>Chairs</td>\n",
              "      <td>Hon Deluxe Fabric Upholstered Stacking Chairs,...</td>\n",
              "      <td>731.9400</td>\n",
              "      <td>3</td>\n",
              "      <td>0.00</td>\n",
              "      <td>219.5820</td>\n",
              "    </tr>\n",
              "    <tr>\n",
              "      <th>2</th>\n",
              "      <td>2</td>\n",
              "      <td>3</td>\n",
              "      <td>CA-2016-138688</td>\n",
              "      <td>2016-06-12</td>\n",
              "      <td>2016-06-16</td>\n",
              "      <td>Second Class</td>\n",
              "      <td>DV-13045</td>\n",
              "      <td>Darrin Van Huff</td>\n",
              "      <td>Corporate</td>\n",
              "      <td>Los Angeles</td>\n",
              "      <td>California</td>\n",
              "      <td>90036</td>\n",
              "      <td>West</td>\n",
              "      <td>OFF-LA-10000240</td>\n",
              "      <td>Office Supplies</td>\n",
              "      <td>Labels</td>\n",
              "      <td>Self-Adhesive Address Labels for Typewriters b...</td>\n",
              "      <td>14.6200</td>\n",
              "      <td>2</td>\n",
              "      <td>0.00</td>\n",
              "      <td>6.8714</td>\n",
              "    </tr>\n",
              "    <tr>\n",
              "      <th>3</th>\n",
              "      <td>3</td>\n",
              "      <td>4</td>\n",
              "      <td>US-2015-108966</td>\n",
              "      <td>2015-10-11</td>\n",
              "      <td>2015-10-18</td>\n",
              "      <td>Standard Class</td>\n",
              "      <td>SO-20335</td>\n",
              "      <td>Sean O'Donnell</td>\n",
              "      <td>Consumer</td>\n",
              "      <td>Fort Lauderdale</td>\n",
              "      <td>Florida</td>\n",
              "      <td>33311</td>\n",
              "      <td>South</td>\n",
              "      <td>FUR-TA-10000577</td>\n",
              "      <td>Furniture</td>\n",
              "      <td>Tables</td>\n",
              "      <td>Bretford CR4500 Series Slim Rectangular Table</td>\n",
              "      <td>957.5775</td>\n",
              "      <td>5</td>\n",
              "      <td>0.45</td>\n",
              "      <td>-383.0310</td>\n",
              "    </tr>\n",
              "    <tr>\n",
              "      <th>4</th>\n",
              "      <td>4</td>\n",
              "      <td>5</td>\n",
              "      <td>US-2015-108966</td>\n",
              "      <td>2015-10-11</td>\n",
              "      <td>2015-10-18</td>\n",
              "      <td>Standard Class</td>\n",
              "      <td>SO-20335</td>\n",
              "      <td>Sean O'Donnell</td>\n",
              "      <td>Consumer</td>\n",
              "      <td>Fort Lauderdale</td>\n",
              "      <td>Florida</td>\n",
              "      <td>33311</td>\n",
              "      <td>South</td>\n",
              "      <td>OFF-ST-10000760</td>\n",
              "      <td>Office Supplies</td>\n",
              "      <td>Storage</td>\n",
              "      <td>Eldon Fold 'N Roll Cart System</td>\n",
              "      <td>22.3680</td>\n",
              "      <td>2</td>\n",
              "      <td>0.20</td>\n",
              "      <td>2.5164</td>\n",
              "    </tr>\n",
              "  </tbody>\n",
              "</table>\n",
              "</div>"
            ],
            "text/plain": [
              "   Unnamed: 0  Row ID        Order ID  ... Quantity Discount    Profit\n",
              "0           0       1  CA-2016-152156  ...        2     0.00   41.9136\n",
              "1           1       2  CA-2016-152156  ...        3     0.00  219.5820\n",
              "2           2       3  CA-2016-138688  ...        2     0.00    6.8714\n",
              "3           3       4  US-2015-108966  ...        5     0.45 -383.0310\n",
              "4           4       5  US-2015-108966  ...        2     0.20    2.5164\n",
              "\n",
              "[5 rows x 21 columns]"
            ]
          },
          "metadata": {
            "tags": []
          },
          "execution_count": 11
        }
      ]
    },
    {
      "cell_type": "markdown",
      "metadata": {
        "id": "jLu2VndB73ZV"
      },
      "source": [
        "## Correlation Matrix"
      ]
    },
    {
      "cell_type": "code",
      "metadata": {
        "colab": {
          "base_uri": "https://localhost:8080/",
          "height": 266
        },
        "id": "IFBbngKy7bEW",
        "outputId": "28f0f493-7a71-458f-deb6-26715e9db88b"
      },
      "source": [
        "corr = df.corr()\r\n",
        "corr"
      ],
      "execution_count": 12,
      "outputs": [
        {
          "output_type": "execute_result",
          "data": {
            "text/html": [
              "<div>\n",
              "<style scoped>\n",
              "    .dataframe tbody tr th:only-of-type {\n",
              "        vertical-align: middle;\n",
              "    }\n",
              "\n",
              "    .dataframe tbody tr th {\n",
              "        vertical-align: top;\n",
              "    }\n",
              "\n",
              "    .dataframe thead th {\n",
              "        text-align: right;\n",
              "    }\n",
              "</style>\n",
              "<table border=\"1\" class=\"dataframe\">\n",
              "  <thead>\n",
              "    <tr style=\"text-align: right;\">\n",
              "      <th></th>\n",
              "      <th>Unnamed: 0</th>\n",
              "      <th>Row ID</th>\n",
              "      <th>Postal Code</th>\n",
              "      <th>Sales</th>\n",
              "      <th>Quantity</th>\n",
              "      <th>Discount</th>\n",
              "      <th>Profit</th>\n",
              "    </tr>\n",
              "  </thead>\n",
              "  <tbody>\n",
              "    <tr>\n",
              "      <th>Unnamed: 0</th>\n",
              "      <td>1.000000</td>\n",
              "      <td>1.000000</td>\n",
              "      <td>0.009671</td>\n",
              "      <td>-0.001359</td>\n",
              "      <td>-0.004016</td>\n",
              "      <td>0.013480</td>\n",
              "      <td>0.012497</td>\n",
              "    </tr>\n",
              "    <tr>\n",
              "      <th>Row ID</th>\n",
              "      <td>1.000000</td>\n",
              "      <td>1.000000</td>\n",
              "      <td>0.009671</td>\n",
              "      <td>-0.001359</td>\n",
              "      <td>-0.004016</td>\n",
              "      <td>0.013480</td>\n",
              "      <td>0.012497</td>\n",
              "    </tr>\n",
              "    <tr>\n",
              "      <th>Postal Code</th>\n",
              "      <td>0.009671</td>\n",
              "      <td>0.009671</td>\n",
              "      <td>1.000000</td>\n",
              "      <td>-0.023854</td>\n",
              "      <td>0.012761</td>\n",
              "      <td>0.058443</td>\n",
              "      <td>-0.029961</td>\n",
              "    </tr>\n",
              "    <tr>\n",
              "      <th>Sales</th>\n",
              "      <td>-0.001359</td>\n",
              "      <td>-0.001359</td>\n",
              "      <td>-0.023854</td>\n",
              "      <td>1.000000</td>\n",
              "      <td>0.200795</td>\n",
              "      <td>-0.028190</td>\n",
              "      <td>0.479064</td>\n",
              "    </tr>\n",
              "    <tr>\n",
              "      <th>Quantity</th>\n",
              "      <td>-0.004016</td>\n",
              "      <td>-0.004016</td>\n",
              "      <td>0.012761</td>\n",
              "      <td>0.200795</td>\n",
              "      <td>1.000000</td>\n",
              "      <td>0.008623</td>\n",
              "      <td>0.066253</td>\n",
              "    </tr>\n",
              "    <tr>\n",
              "      <th>Discount</th>\n",
              "      <td>0.013480</td>\n",
              "      <td>0.013480</td>\n",
              "      <td>0.058443</td>\n",
              "      <td>-0.028190</td>\n",
              "      <td>0.008623</td>\n",
              "      <td>1.000000</td>\n",
              "      <td>-0.219487</td>\n",
              "    </tr>\n",
              "    <tr>\n",
              "      <th>Profit</th>\n",
              "      <td>0.012497</td>\n",
              "      <td>0.012497</td>\n",
              "      <td>-0.029961</td>\n",
              "      <td>0.479064</td>\n",
              "      <td>0.066253</td>\n",
              "      <td>-0.219487</td>\n",
              "      <td>1.000000</td>\n",
              "    </tr>\n",
              "  </tbody>\n",
              "</table>\n",
              "</div>"
            ],
            "text/plain": [
              "             Unnamed: 0    Row ID  Postal Code  ...  Quantity  Discount    Profit\n",
              "Unnamed: 0     1.000000  1.000000     0.009671  ... -0.004016  0.013480  0.012497\n",
              "Row ID         1.000000  1.000000     0.009671  ... -0.004016  0.013480  0.012497\n",
              "Postal Code    0.009671  0.009671     1.000000  ...  0.012761  0.058443 -0.029961\n",
              "Sales         -0.001359 -0.001359    -0.023854  ...  0.200795 -0.028190  0.479064\n",
              "Quantity      -0.004016 -0.004016     0.012761  ...  1.000000  0.008623  0.066253\n",
              "Discount       0.013480  0.013480     0.058443  ...  0.008623  1.000000 -0.219487\n",
              "Profit         0.012497  0.012497    -0.029961  ...  0.066253 -0.219487  1.000000\n",
              "\n",
              "[7 rows x 7 columns]"
            ]
          },
          "metadata": {
            "tags": []
          },
          "execution_count": 12
        }
      ]
    },
    {
      "cell_type": "markdown",
      "metadata": {
        "id": "idD-ljrB8PIg"
      },
      "source": [
        "# Identifying relationship between variables/features"
      ]
    },
    {
      "cell_type": "code",
      "metadata": {
        "id": "z4y1qSMN7i8J"
      },
      "source": [
        "# a. Which category gives the biggest profit?"
      ],
      "execution_count": 13,
      "outputs": []
    },
    {
      "cell_type": "code",
      "metadata": {
        "colab": {
          "base_uri": "https://localhost:8080/",
          "height": 173
        },
        "id": "74p2HjWX8cif",
        "outputId": "246ca84e-94b4-48b9-8e00-f88527435824"
      },
      "source": [
        "profit_per_category = df.groupby('Category')['Profit'].agg('sum')\r\n",
        "pd.DataFrame(profit_per_category)"
      ],
      "execution_count": 14,
      "outputs": [
        {
          "output_type": "execute_result",
          "data": {
            "text/html": [
              "<div>\n",
              "<style scoped>\n",
              "    .dataframe tbody tr th:only-of-type {\n",
              "        vertical-align: middle;\n",
              "    }\n",
              "\n",
              "    .dataframe tbody tr th {\n",
              "        vertical-align: top;\n",
              "    }\n",
              "\n",
              "    .dataframe thead th {\n",
              "        text-align: right;\n",
              "    }\n",
              "</style>\n",
              "<table border=\"1\" class=\"dataframe\">\n",
              "  <thead>\n",
              "    <tr style=\"text-align: right;\">\n",
              "      <th></th>\n",
              "      <th>Profit</th>\n",
              "    </tr>\n",
              "    <tr>\n",
              "      <th>Category</th>\n",
              "      <th></th>\n",
              "    </tr>\n",
              "  </thead>\n",
              "  <tbody>\n",
              "    <tr>\n",
              "      <th>Furniture</th>\n",
              "      <td>18451.2728</td>\n",
              "    </tr>\n",
              "    <tr>\n",
              "      <th>Office Supplies</th>\n",
              "      <td>122490.8008</td>\n",
              "    </tr>\n",
              "    <tr>\n",
              "      <th>Technology</th>\n",
              "      <td>145454.9481</td>\n",
              "    </tr>\n",
              "  </tbody>\n",
              "</table>\n",
              "</div>"
            ],
            "text/plain": [
              "                      Profit\n",
              "Category                    \n",
              "Furniture         18451.2728\n",
              "Office Supplies  122490.8008\n",
              "Technology       145454.9481"
            ]
          },
          "metadata": {
            "tags": []
          },
          "execution_count": 14
        }
      ]
    },
    {
      "cell_type": "code",
      "metadata": {
        "id": "IuELDwIq83mk"
      },
      "source": [
        "import matplotlib.pyplot as plt\r\n",
        "import seaborn as sns\r\n",
        "%matplotlib inline"
      ],
      "execution_count": 15,
      "outputs": []
    },
    {
      "cell_type": "code",
      "metadata": {
        "colab": {
          "base_uri": "https://localhost:8080/",
          "height": 360
        },
        "id": "2pIdf5bh8_Wh",
        "outputId": "16ffb09f-1a25-47d5-b80e-f884acdb95b0"
      },
      "source": [
        "profit_per_category.plot.bar(width=0.9, color=sns.color_palette('summer_r',3))\r\n",
        "plt.title('Total Profit per Category')\r\n",
        "plt.xlabel('Profit')\r\n",
        "plt.show()"
      ],
      "execution_count": 16,
      "outputs": [
        {
          "output_type": "display_data",
          "data": {
            "image/png": "[encoded data removed]",
            "text/plain": [
              "<Figure size 432x288 with 1 Axes>"
            ]
          },
          "metadata": {
            "tags": [],
            "needs_background": "light"
          }
        }
      ]
    },
    {
      "cell_type": "markdown",
      "metadata": {
        "id": "v4kKwKjJ98lk"
      },
      "source": [
        "### Which 5 sub categories products are most bought?"
      ]
    },
    {
      "cell_type": "code",
      "metadata": {
        "colab": {
          "base_uri": "https://localhost:8080/",
          "height": 282
        },
        "id": "6m820ps-9mkf",
        "outputId": "dd0cb754-1f7e-49af-fdbd-e91caf82fbf8"
      },
      "source": [
        "df[['Quantity']].plot.box()"
      ],
      "execution_count": 17,
      "outputs": [
        {
          "output_type": "execute_result",
          "data": {
            "text/plain": [
              "<matplotlib.axes._subplots.AxesSubplot at 0x7fe005185550>"
            ]
          },
          "metadata": {
            "tags": []
          },
          "execution_count": 17
        },
        {
          "output_type": "display_data",
          "data": {
            "image/png": "[encoded data removed]",
            "text/plain": [
              "<Figure size 432x288 with 1 Axes>"
            ]
          },
          "metadata": {
            "tags": [],
            "needs_background": "light"
          }
        }
      ]
    },
    {
      "cell_type": "code",
      "metadata": {
        "colab": {
          "base_uri": "https://localhost:8080/",
          "height": 235
        },
        "id": "OE2mnCRI-JDa",
        "outputId": "11b1d949-2711-4b98-9b92-ac0eb1d29817"
      },
      "source": [
        "quantity_per_sub_category = df.groupby('Sub-Category')['Quantity'].sum().sort_values(ascending=False)\r\n",
        "pd.DataFrame(quantity_per_sub_category).head(5)"
      ],
      "execution_count": 18,
      "outputs": [
        {
          "output_type": "execute_result",
          "data": {
            "text/html": [
              "<div>\n",
              "<style scoped>\n",
              "    .dataframe tbody tr th:only-of-type {\n",
              "        vertical-align: middle;\n",
              "    }\n",
              "\n",
              "    .dataframe tbody tr th {\n",
              "        vertical-align: top;\n",
              "    }\n",
              "\n",
              "    .dataframe thead th {\n",
              "        text-align: right;\n",
              "    }\n",
              "</style>\n",
              "<table border=\"1\" class=\"dataframe\">\n",
              "  <thead>\n",
              "    <tr style=\"text-align: right;\">\n",
              "      <th></th>\n",
              "      <th>Quantity</th>\n",
              "    </tr>\n",
              "    <tr>\n",
              "      <th>Sub-Category</th>\n",
              "      <th></th>\n",
              "    </tr>\n",
              "  </thead>\n",
              "  <tbody>\n",
              "    <tr>\n",
              "      <th>Binders</th>\n",
              "      <td>5974</td>\n",
              "    </tr>\n",
              "    <tr>\n",
              "      <th>Paper</th>\n",
              "      <td>5178</td>\n",
              "    </tr>\n",
              "    <tr>\n",
              "      <th>Furnishings</th>\n",
              "      <td>3563</td>\n",
              "    </tr>\n",
              "    <tr>\n",
              "      <th>Phones</th>\n",
              "      <td>3289</td>\n",
              "    </tr>\n",
              "    <tr>\n",
              "      <th>Storage</th>\n",
              "      <td>3158</td>\n",
              "    </tr>\n",
              "  </tbody>\n",
              "</table>\n",
              "</div>"
            ],
            "text/plain": [
              "              Quantity\n",
              "Sub-Category          \n",
              "Binders           5974\n",
              "Paper             5178\n",
              "Furnishings       3563\n",
              "Phones            3289\n",
              "Storage           3158"
            ]
          },
          "metadata": {
            "tags": []
          },
          "execution_count": 18
        }
      ]
    },
    {
      "cell_type": "code",
      "metadata": {
        "colab": {
          "base_uri": "https://localhost:8080/",
          "height": 295
        },
        "id": "8T77fqlT-1oD",
        "outputId": "80eb6750-cd17-44ac-ddb8-4f029af9d35e"
      },
      "source": [
        "quantity_per_sub_category.head(10).sort_values(ascending=True).plot.barh(width=0.9,color=sns.color_palette('flare',10))\r\n",
        "plt.title('Quantity Sold Per Sub Category')\r\n",
        "plt.xlabel('Quantity')\r\n",
        "plt.show()"
      ],
      "execution_count": 19,
      "outputs": [
        {
          "output_type": "display_data",
          "data": {
            "image/png": "[encoded data removed]",
            "text/plain": [
              "<Figure size 432x288 with 1 Axes>"
            ]
          },
          "metadata": {
            "tags": [],
            "needs_background": "light"
          }
        }
      ]
    },
    {
      "cell_type": "markdown",
      "metadata": {
        "id": "VBxSLzI6_dgH"
      },
      "source": [
        "### Does the discount affect the quantity purchased or the profit earned?"
      ]
    },
    {
      "cell_type": "code",
      "metadata": {
        "colab": {
          "base_uri": "https://localhost:8080/",
          "height": 103
        },
        "id": "qGv8krmP_XYm",
        "outputId": "94e129f6-a79d-4d7d-8a9d-a13d52791a41"
      },
      "source": [
        "corr = df[['Quantity','Discount','Profit']].corr()\r\n",
        "corr.style.background_gradient(cmap='coolwarm').set_precision(2)"
      ],
      "execution_count": 20,
      "outputs": [
        {
          "output_type": "execute_result",
          "data": {
            "text/html": [
              "<style  type=\"text/css\" >\n",
              "#T_eca2018e_5c60_11eb_ab6f_0242ac1c0002row0_col0,#T_eca2018e_5c60_11eb_ab6f_0242ac1c0002row1_col1,#T_eca2018e_5c60_11eb_ab6f_0242ac1c0002row2_col2{\n",
              "            background-color:  #b40426;\n",
              "            color:  #f1f1f1;\n",
              "        }#T_eca2018e_5c60_11eb_ab6f_0242ac1c0002row0_col1{\n",
              "            background-color:  #7699f6;\n",
              "            color:  #000000;\n",
              "        }#T_eca2018e_5c60_11eb_ab6f_0242ac1c0002row0_col2{\n",
              "            background-color:  #86a9fc;\n",
              "            color:  #000000;\n",
              "        }#T_eca2018e_5c60_11eb_ab6f_0242ac1c0002row1_col0,#T_eca2018e_5c60_11eb_ab6f_0242ac1c0002row1_col2,#T_eca2018e_5c60_11eb_ab6f_0242ac1c0002row2_col1{\n",
              "            background-color:  #3b4cc0;\n",
              "            color:  #f1f1f1;\n",
              "        }#T_eca2018e_5c60_11eb_ab6f_0242ac1c0002row2_col0{\n",
              "            background-color:  #4b64d5;\n",
              "            color:  #f1f1f1;\n",
              "        }</style><table id=\"T_eca2018e_5c60_11eb_ab6f_0242ac1c0002\" ><thead>    <tr>        <th class=\"blank level0\" ></th>        <th class=\"col_heading level0 col0\" >Quantity</th>        <th class=\"col_heading level0 col1\" >Discount</th>        <th class=\"col_heading level0 col2\" >Profit</th>    </tr></thead><tbody>\n",
              "                <tr>\n",
              "                        <th id=\"T_eca2018e_5c60_11eb_ab6f_0242ac1c0002level0_row0\" class=\"row_heading level0 row0\" >Quantity</th>\n",
              "                        <td id=\"T_eca2018e_5c60_11eb_ab6f_0242ac1c0002row0_col0\" class=\"data row0 col0\" >1.00</td>\n",
              "                        <td id=\"T_eca2018e_5c60_11eb_ab6f_0242ac1c0002row0_col1\" class=\"data row0 col1\" >0.01</td>\n",
              "                        <td id=\"T_eca2018e_5c60_11eb_ab6f_0242ac1c0002row0_col2\" class=\"data row0 col2\" >0.07</td>\n",
              "            </tr>\n",
              "            <tr>\n",
              "                        <th id=\"T_eca2018e_5c60_11eb_ab6f_0242ac1c0002level0_row1\" class=\"row_heading level0 row1\" >Discount</th>\n",
              "                        <td id=\"T_eca2018e_5c60_11eb_ab6f_0242ac1c0002row1_col0\" class=\"data row1 col0\" >0.01</td>\n",
              "                        <td id=\"T_eca2018e_5c60_11eb_ab6f_0242ac1c0002row1_col1\" class=\"data row1 col1\" >1.00</td>\n",
              "                        <td id=\"T_eca2018e_5c60_11eb_ab6f_0242ac1c0002row1_col2\" class=\"data row1 col2\" >-0.22</td>\n",
              "            </tr>\n",
              "            <tr>\n",
              "                        <th id=\"T_eca2018e_5c60_11eb_ab6f_0242ac1c0002level0_row2\" class=\"row_heading level0 row2\" >Profit</th>\n",
              "                        <td id=\"T_eca2018e_5c60_11eb_ab6f_0242ac1c0002row2_col0\" class=\"data row2 col0\" >0.07</td>\n",
              "                        <td id=\"T_eca2018e_5c60_11eb_ab6f_0242ac1c0002row2_col1\" class=\"data row2 col1\" >-0.22</td>\n",
              "                        <td id=\"T_eca2018e_5c60_11eb_ab6f_0242ac1c0002row2_col2\" class=\"data row2 col2\" >1.00</td>\n",
              "            </tr>\n",
              "    </tbody></table>"
            ],
            "text/plain": [
              "<pandas.io.formats.style.Styler at 0x7fe005620278>"
            ]
          },
          "metadata": {
            "tags": []
          },
          "execution_count": 20
        }
      ]
    },
    {
      "cell_type": "code",
      "metadata": {
        "colab": {
          "base_uri": "https://localhost:8080/",
          "height": 297
        },
        "id": "Eu4xceLI_99x",
        "outputId": "ec58f909-335c-4b4f-abb3-4dbcf1d975e9"
      },
      "source": [
        "df[['Discount','Profit']].describe()"
      ],
      "execution_count": 21,
      "outputs": [
        {
          "output_type": "execute_result",
          "data": {
            "text/html": [
              "<div>\n",
              "<style scoped>\n",
              "    .dataframe tbody tr th:only-of-type {\n",
              "        vertical-align: middle;\n",
              "    }\n",
              "\n",
              "    .dataframe tbody tr th {\n",
              "        vertical-align: top;\n",
              "    }\n",
              "\n",
              "    .dataframe thead th {\n",
              "        text-align: right;\n",
              "    }\n",
              "</style>\n",
              "<table border=\"1\" class=\"dataframe\">\n",
              "  <thead>\n",
              "    <tr style=\"text-align: right;\">\n",
              "      <th></th>\n",
              "      <th>Discount</th>\n",
              "      <th>Profit</th>\n",
              "    </tr>\n",
              "  </thead>\n",
              "  <tbody>\n",
              "    <tr>\n",
              "      <th>count</th>\n",
              "      <td>9994.000000</td>\n",
              "      <td>9994.000000</td>\n",
              "    </tr>\n",
              "    <tr>\n",
              "      <th>mean</th>\n",
              "      <td>0.156203</td>\n",
              "      <td>28.656896</td>\n",
              "    </tr>\n",
              "    <tr>\n",
              "      <th>std</th>\n",
              "      <td>0.206452</td>\n",
              "      <td>234.260108</td>\n",
              "    </tr>\n",
              "    <tr>\n",
              "      <th>min</th>\n",
              "      <td>0.000000</td>\n",
              "      <td>-6599.978000</td>\n",
              "    </tr>\n",
              "    <tr>\n",
              "      <th>25%</th>\n",
              "      <td>0.000000</td>\n",
              "      <td>1.728750</td>\n",
              "    </tr>\n",
              "    <tr>\n",
              "      <th>50%</th>\n",
              "      <td>0.200000</td>\n",
              "      <td>8.666500</td>\n",
              "    </tr>\n",
              "    <tr>\n",
              "      <th>75%</th>\n",
              "      <td>0.200000</td>\n",
              "      <td>29.364000</td>\n",
              "    </tr>\n",
              "    <tr>\n",
              "      <th>max</th>\n",
              "      <td>0.800000</td>\n",
              "      <td>8399.976000</td>\n",
              "    </tr>\n",
              "  </tbody>\n",
              "</table>\n",
              "</div>"
            ],
            "text/plain": [
              "          Discount       Profit\n",
              "count  9994.000000  9994.000000\n",
              "mean      0.156203    28.656896\n",
              "std       0.206452   234.260108\n",
              "min       0.000000 -6599.978000\n",
              "25%       0.000000     1.728750\n",
              "50%       0.200000     8.666500\n",
              "75%       0.200000    29.364000\n",
              "max       0.800000  8399.976000"
            ]
          },
          "metadata": {
            "tags": []
          },
          "execution_count": 21
        }
      ]
    },
    {
      "cell_type": "code",
      "metadata": {
        "colab": {
          "base_uri": "https://localhost:8080/",
          "height": 804
        },
        "id": "tHN4nyd0AS1t",
        "outputId": "7f450bdd-45fc-4fa8-cc47-3d336933f12f"
      },
      "source": [
        "# get negative profit\r\n",
        "negative_profit = df[df['Profit']<0]\r\n",
        "negative_profit.sort_values(by='Profit', ascending=True).head(10)"
      ],
      "execution_count": 22,
      "outputs": [
        {
          "output_type": "execute_result",
          "data": {
            "text/html": [
              "<div>\n",
              "<style scoped>\n",
              "    .dataframe tbody tr th:only-of-type {\n",
              "        vertical-align: middle;\n",
              "    }\n",
              "\n",
              "    .dataframe tbody tr th {\n",
              "        vertical-align: top;\n",
              "    }\n",
              "\n",
              "    .dataframe thead th {\n",
              "        text-align: right;\n",
              "    }\n",
              "</style>\n",
              "<table border=\"1\" class=\"dataframe\">\n",
              "  <thead>\n",
              "    <tr style=\"text-align: right;\">\n",
              "      <th></th>\n",
              "      <th>Unnamed: 0</th>\n",
              "      <th>Row ID</th>\n",
              "      <th>Order ID</th>\n",
              "      <th>Order Date</th>\n",
              "      <th>Ship Date</th>\n",
              "      <th>Ship Mode</th>\n",
              "      <th>Customer ID</th>\n",
              "      <th>Customer Name</th>\n",
              "      <th>Segment</th>\n",
              "      <th>City</th>\n",
              "      <th>State</th>\n",
              "      <th>Postal Code</th>\n",
              "      <th>Region</th>\n",
              "      <th>Product ID</th>\n",
              "      <th>Category</th>\n",
              "      <th>Sub-Category</th>\n",
              "      <th>Product Name</th>\n",
              "      <th>Sales</th>\n",
              "      <th>Quantity</th>\n",
              "      <th>Discount</th>\n",
              "      <th>Profit</th>\n",
              "    </tr>\n",
              "  </thead>\n",
              "  <tbody>\n",
              "    <tr>\n",
              "      <th>7772</th>\n",
              "      <td>7772</td>\n",
              "      <td>7773</td>\n",
              "      <td>CA-2016-108196</td>\n",
              "      <td>2016-11-25</td>\n",
              "      <td>2016-12-02</td>\n",
              "      <td>Standard Class</td>\n",
              "      <td>CS-12505</td>\n",
              "      <td>Cindy Stewart</td>\n",
              "      <td>Consumer</td>\n",
              "      <td>Lancaster</td>\n",
              "      <td>Ohio</td>\n",
              "      <td>43130</td>\n",
              "      <td>East</td>\n",
              "      <td>TEC-MA-10000418</td>\n",
              "      <td>Technology</td>\n",
              "      <td>Machines</td>\n",
              "      <td>Cubify CubeX 3D Printer Double Head Print</td>\n",
              "      <td>4499.985</td>\n",
              "      <td>5</td>\n",
              "      <td>0.7</td>\n",
              "      <td>-6599.9780</td>\n",
              "    </tr>\n",
              "    <tr>\n",
              "      <th>683</th>\n",
              "      <td>683</td>\n",
              "      <td>684</td>\n",
              "      <td>US-2017-168116</td>\n",
              "      <td>2017-11-04</td>\n",
              "      <td>2017-11-04</td>\n",
              "      <td>Same Day</td>\n",
              "      <td>GT-14635</td>\n",
              "      <td>Grant Thornton</td>\n",
              "      <td>Corporate</td>\n",
              "      <td>Burlington</td>\n",
              "      <td>North Carolina</td>\n",
              "      <td>27217</td>\n",
              "      <td>South</td>\n",
              "      <td>TEC-MA-10004125</td>\n",
              "      <td>Technology</td>\n",
              "      <td>Machines</td>\n",
              "      <td>Cubify CubeX 3D Printer Triple Head Print</td>\n",
              "      <td>7999.980</td>\n",
              "      <td>4</td>\n",
              "      <td>0.5</td>\n",
              "      <td>-3839.9904</td>\n",
              "    </tr>\n",
              "    <tr>\n",
              "      <th>9774</th>\n",
              "      <td>9774</td>\n",
              "      <td>9775</td>\n",
              "      <td>CA-2014-169019</td>\n",
              "      <td>2014-07-26</td>\n",
              "      <td>2014-07-30</td>\n",
              "      <td>Standard Class</td>\n",
              "      <td>LF-17185</td>\n",
              "      <td>Luke Foster</td>\n",
              "      <td>Consumer</td>\n",
              "      <td>San Antonio</td>\n",
              "      <td>Texas</td>\n",
              "      <td>78207</td>\n",
              "      <td>Central</td>\n",
              "      <td>OFF-BI-10004995</td>\n",
              "      <td>Office Supplies</td>\n",
              "      <td>Binders</td>\n",
              "      <td>GBC DocuBind P400 Electric Binding System</td>\n",
              "      <td>2177.584</td>\n",
              "      <td>8</td>\n",
              "      <td>0.8</td>\n",
              "      <td>-3701.8928</td>\n",
              "    </tr>\n",
              "    <tr>\n",
              "      <th>3011</th>\n",
              "      <td>3011</td>\n",
              "      <td>3012</td>\n",
              "      <td>CA-2017-134845</td>\n",
              "      <td>2017-04-17</td>\n",
              "      <td>2017-04-23</td>\n",
              "      <td>Standard Class</td>\n",
              "      <td>SR-20425</td>\n",
              "      <td>Sharelle Roach</td>\n",
              "      <td>Home Office</td>\n",
              "      <td>Louisville</td>\n",
              "      <td>Colorado</td>\n",
              "      <td>80027</td>\n",
              "      <td>West</td>\n",
              "      <td>TEC-MA-10000822</td>\n",
              "      <td>Technology</td>\n",
              "      <td>Machines</td>\n",
              "      <td>Lexmark MX611dhe Monochrome Laser Printer</td>\n",
              "      <td>2549.985</td>\n",
              "      <td>5</td>\n",
              "      <td>0.7</td>\n",
              "      <td>-3399.9800</td>\n",
              "    </tr>\n",
              "    <tr>\n",
              "      <th>4991</th>\n",
              "      <td>4991</td>\n",
              "      <td>4992</td>\n",
              "      <td>US-2017-122714</td>\n",
              "      <td>2017-12-07</td>\n",
              "      <td>2017-12-13</td>\n",
              "      <td>Standard Class</td>\n",
              "      <td>HG-14965</td>\n",
              "      <td>Henry Goldwyn</td>\n",
              "      <td>Corporate</td>\n",
              "      <td>Chicago</td>\n",
              "      <td>Illinois</td>\n",
              "      <td>60653</td>\n",
              "      <td>Central</td>\n",
              "      <td>OFF-BI-10001120</td>\n",
              "      <td>Office Supplies</td>\n",
              "      <td>Binders</td>\n",
              "      <td>Ibico EPK-21 Electric Binding System</td>\n",
              "      <td>1889.990</td>\n",
              "      <td>5</td>\n",
              "      <td>0.8</td>\n",
              "      <td>-2929.4845</td>\n",
              "    </tr>\n",
              "    <tr>\n",
              "      <th>3151</th>\n",
              "      <td>3151</td>\n",
              "      <td>3152</td>\n",
              "      <td>CA-2015-147830</td>\n",
              "      <td>2015-12-15</td>\n",
              "      <td>2015-12-18</td>\n",
              "      <td>First Class</td>\n",
              "      <td>NF-18385</td>\n",
              "      <td>Natalie Fritzler</td>\n",
              "      <td>Consumer</td>\n",
              "      <td>Newark</td>\n",
              "      <td>Ohio</td>\n",
              "      <td>43055</td>\n",
              "      <td>East</td>\n",
              "      <td>TEC-MA-10000418</td>\n",
              "      <td>Technology</td>\n",
              "      <td>Machines</td>\n",
              "      <td>Cubify CubeX 3D Printer Double Head Print</td>\n",
              "      <td>1799.994</td>\n",
              "      <td>2</td>\n",
              "      <td>0.7</td>\n",
              "      <td>-2639.9912</td>\n",
              "    </tr>\n",
              "    <tr>\n",
              "      <th>5310</th>\n",
              "      <td>5310</td>\n",
              "      <td>5311</td>\n",
              "      <td>CA-2017-131254</td>\n",
              "      <td>2017-11-19</td>\n",
              "      <td>2017-11-21</td>\n",
              "      <td>First Class</td>\n",
              "      <td>NC-18415</td>\n",
              "      <td>Nathan Cano</td>\n",
              "      <td>Consumer</td>\n",
              "      <td>Houston</td>\n",
              "      <td>Texas</td>\n",
              "      <td>77095</td>\n",
              "      <td>Central</td>\n",
              "      <td>OFF-BI-10003527</td>\n",
              "      <td>Office Supplies</td>\n",
              "      <td>Binders</td>\n",
              "      <td>Fellowes PB500 Electric Punch Plastic Comb Bin...</td>\n",
              "      <td>1525.188</td>\n",
              "      <td>6</td>\n",
              "      <td>0.8</td>\n",
              "      <td>-2287.7820</td>\n",
              "    </tr>\n",
              "    <tr>\n",
              "      <th>9639</th>\n",
              "      <td>9639</td>\n",
              "      <td>9640</td>\n",
              "      <td>CA-2015-116638</td>\n",
              "      <td>2015-01-28</td>\n",
              "      <td>2015-01-31</td>\n",
              "      <td>Second Class</td>\n",
              "      <td>JH-15985</td>\n",
              "      <td>Joseph Holt</td>\n",
              "      <td>Consumer</td>\n",
              "      <td>Concord</td>\n",
              "      <td>North Carolina</td>\n",
              "      <td>28027</td>\n",
              "      <td>South</td>\n",
              "      <td>FUR-TA-10000198</td>\n",
              "      <td>Furniture</td>\n",
              "      <td>Tables</td>\n",
              "      <td>Chromcraft Bull-Nose Wood Oval Conference Tabl...</td>\n",
              "      <td>4297.644</td>\n",
              "      <td>13</td>\n",
              "      <td>0.4</td>\n",
              "      <td>-1862.3124</td>\n",
              "    </tr>\n",
              "    <tr>\n",
              "      <th>1199</th>\n",
              "      <td>1199</td>\n",
              "      <td>1200</td>\n",
              "      <td>CA-2016-130946</td>\n",
              "      <td>2016-04-08</td>\n",
              "      <td>2016-04-12</td>\n",
              "      <td>Standard Class</td>\n",
              "      <td>ZC-21910</td>\n",
              "      <td>Zuschuss Carroll</td>\n",
              "      <td>Consumer</td>\n",
              "      <td>Houston</td>\n",
              "      <td>Texas</td>\n",
              "      <td>77041</td>\n",
              "      <td>Central</td>\n",
              "      <td>OFF-BI-10004995</td>\n",
              "      <td>Office Supplies</td>\n",
              "      <td>Binders</td>\n",
              "      <td>GBC DocuBind P400 Electric Binding System</td>\n",
              "      <td>1088.792</td>\n",
              "      <td>4</td>\n",
              "      <td>0.8</td>\n",
              "      <td>-1850.9464</td>\n",
              "    </tr>\n",
              "    <tr>\n",
              "      <th>2697</th>\n",
              "      <td>2697</td>\n",
              "      <td>2698</td>\n",
              "      <td>CA-2014-145317</td>\n",
              "      <td>2014-03-18</td>\n",
              "      <td>2014-03-23</td>\n",
              "      <td>Standard Class</td>\n",
              "      <td>SM-20320</td>\n",
              "      <td>Sean Miller</td>\n",
              "      <td>Home Office</td>\n",
              "      <td>Jacksonville</td>\n",
              "      <td>Florida</td>\n",
              "      <td>32216</td>\n",
              "      <td>South</td>\n",
              "      <td>TEC-MA-10002412</td>\n",
              "      <td>Technology</td>\n",
              "      <td>Machines</td>\n",
              "      <td>Cisco TelePresence System EX90 Videoconferenci...</td>\n",
              "      <td>22638.480</td>\n",
              "      <td>6</td>\n",
              "      <td>0.5</td>\n",
              "      <td>-1811.0784</td>\n",
              "    </tr>\n",
              "  </tbody>\n",
              "</table>\n",
              "</div>"
            ],
            "text/plain": [
              "      Unnamed: 0  Row ID        Order ID  ... Quantity Discount     Profit\n",
              "7772        7772    7773  CA-2016-108196  ...        5      0.7 -6599.9780\n",
              "683          683     684  US-2017-168116  ...        4      0.5 -3839.9904\n",
              "9774        9774    9775  CA-2014-169019  ...        8      0.8 -3701.8928\n",
              "3011        3011    3012  CA-2017-134845  ...        5      0.7 -3399.9800\n",
              "4991        4991    4992  US-2017-122714  ...        5      0.8 -2929.4845\n",
              "3151        3151    3152  CA-2015-147830  ...        2      0.7 -2639.9912\n",
              "5310        5310    5311  CA-2017-131254  ...        6      0.8 -2287.7820\n",
              "9639        9639    9640  CA-2015-116638  ...       13      0.4 -1862.3124\n",
              "1199        1199    1200  CA-2016-130946  ...        4      0.8 -1850.9464\n",
              "2697        2697    2698  CA-2014-145317  ...        6      0.5 -1811.0784\n",
              "\n",
              "[10 rows x 21 columns]"
            ]
          },
          "metadata": {
            "tags": []
          },
          "execution_count": 22
        }
      ]
    },
    {
      "cell_type": "code",
      "metadata": {
        "colab": {
          "base_uri": "https://localhost:8080/"
        },
        "id": "7MD59dcWAw6W",
        "outputId": "8796e63b-b9aa-40ed-a931-e89f75b4e8df"
      },
      "source": [
        "negative_profit['Profit'].sum()"
      ],
      "execution_count": 23,
      "outputs": [
        {
          "output_type": "execute_result",
          "data": {
            "text/plain": [
              "-156131.2857"
            ]
          },
          "metadata": {
            "tags": []
          },
          "execution_count": 23
        }
      ]
    },
    {
      "cell_type": "code",
      "metadata": {
        "colab": {
          "base_uri": "https://localhost:8080/",
          "height": 173
        },
        "id": "_itz8WuRA38R",
        "outputId": "9f09cdc4-5006-4565-aadb-efc2b3d3ddd6"
      },
      "source": [
        "loss_per_category = negative_profit.groupby('Category')['Profit'].agg('sum')\r\n",
        "pd.DataFrame(loss_per_category)"
      ],
      "execution_count": 24,
      "outputs": [
        {
          "output_type": "execute_result",
          "data": {
            "text/html": [
              "<div>\n",
              "<style scoped>\n",
              "    .dataframe tbody tr th:only-of-type {\n",
              "        vertical-align: middle;\n",
              "    }\n",
              "\n",
              "    .dataframe tbody tr th {\n",
              "        vertical-align: top;\n",
              "    }\n",
              "\n",
              "    .dataframe thead th {\n",
              "        text-align: right;\n",
              "    }\n",
              "</style>\n",
              "<table border=\"1\" class=\"dataframe\">\n",
              "  <thead>\n",
              "    <tr style=\"text-align: right;\">\n",
              "      <th></th>\n",
              "      <th>Profit</th>\n",
              "    </tr>\n",
              "    <tr>\n",
              "      <th>Category</th>\n",
              "      <th></th>\n",
              "    </tr>\n",
              "  </thead>\n",
              "  <tbody>\n",
              "    <tr>\n",
              "      <th>Furniture</th>\n",
              "      <td>-60936.1090</td>\n",
              "    </tr>\n",
              "    <tr>\n",
              "      <th>Office Supplies</th>\n",
              "      <td>-56615.2585</td>\n",
              "    </tr>\n",
              "    <tr>\n",
              "      <th>Technology</th>\n",
              "      <td>-38579.9182</td>\n",
              "    </tr>\n",
              "  </tbody>\n",
              "</table>\n",
              "</div>"
            ],
            "text/plain": [
              "                     Profit\n",
              "Category                   \n",
              "Furniture       -60936.1090\n",
              "Office Supplies -56615.2585\n",
              "Technology      -38579.9182"
            ]
          },
          "metadata": {
            "tags": []
          },
          "execution_count": 24
        }
      ]
    },
    {
      "cell_type": "code",
      "metadata": {
        "colab": {
          "base_uri": "https://localhost:8080/",
          "height": 494
        },
        "id": "UD3FmJisBc3n",
        "outputId": "e1da5980-7c48-460d-fbea-aa4f28229a91"
      },
      "source": [
        "import numpy as np\r\n",
        "loss_per_category = pd.DataFrame(negative_profit.groupby('Category')['Profit'].agg('sum'))\r\n",
        "plt.figure(figsize=(8,9))\r\n",
        "np.absolute(loss_per_category['Profit']).plot.pie(autopct='%1.1f%%')"
      ],
      "execution_count": 25,
      "outputs": [
        {
          "output_type": "execute_result",
          "data": {
            "text/plain": [
              "<matplotlib.axes._subplots.AxesSubplot at 0x7fe0142f3518>"
            ]
          },
          "metadata": {
            "tags": []
          },
          "execution_count": 25
        },
        {
          "output_type": "display_data",
          "data": {
            "image/png": "[encoded data removed]",
            "text/plain": [
              "<Figure size 576x648 with 1 Axes>"
            ]
          },
          "metadata": {
            "tags": []
          }
        }
      ]
    },
    {
      "cell_type": "code",
      "metadata": {
        "colab": {
          "base_uri": "https://localhost:8080/",
          "height": 295
        },
        "id": "c0jWPNqOCQvg",
        "outputId": "35907014-46a9-40a1-d4d7-5546f10622dd"
      },
      "source": [
        "loss_per_subcategory = negative_profit.groupby('Sub-Category')['Profit'].agg('sum')\r\n",
        "pd.DataFrame(loss_per_subcategory)\r\n",
        "loss_per_subcategory.head(10).sort_values(ascending=False).plot.barh(width=0.9, color=sns.color_palette('CMRmap_r',10))\r\n",
        "plt.title('Total loss per Sub-Category')\r\n",
        "plt.xlabel('loss')\r\n",
        "plt.show()"
      ],
      "execution_count": 26,
      "outputs": [
        {
          "output_type": "display_data",
          "data": {
            "image/png": "[encoded data removed]",
            "text/plain": [
              "<Figure size 432x288 with 1 Axes>"
            ]
          },
          "metadata": {
            "tags": [],
            "needs_background": "light"
          }
        }
      ]
    },
    {
      "cell_type": "markdown",
      "metadata": {
        "id": "uebc6VwKEHxi"
      },
      "source": [
        "### Which consumer segment spent the most money?"
      ]
    },
    {
      "cell_type": "code",
      "metadata": {
        "colab": {
          "base_uri": "https://localhost:8080/",
          "height": 494
        },
        "id": "QdH0oLzfD-Pw",
        "outputId": "2f7e772d-d1e3-481a-ca52-6a7097ecdc4a"
      },
      "source": [
        "sales_per_segment = pd.DataFrame(df[['Segment','Sales']].groupby('Segment')['Sales'].agg('sum'))\r\n",
        "plt.figure(figsize =(8,9))\r\n",
        "sales_per_segment['Sales'].plot.pie(autopct = '%1.1f%%')"
      ],
      "execution_count": 27,
      "outputs": [
        {
          "output_type": "execute_result",
          "data": {
            "text/plain": [
              "<matplotlib.axes._subplots.AxesSubplot at 0x7fe0141c5e10>"
            ]
          },
          "metadata": {
            "tags": []
          },
          "execution_count": 27
        },
        {
          "output_type": "display_data",
          "data": {
            "image/png": "[encoded data removed]",
            "text/plain": [
              "<Figure size 576x648 with 1 Axes>"
            ]
          },
          "metadata": {
            "tags": []
          }
        }
      ]
    },
    {
      "cell_type": "markdown",
      "metadata": {
        "id": "NPuKR_BKHOJN"
      },
      "source": [
        "### Which 5 states order the most?"
      ]
    },
    {
      "cell_type": "code",
      "metadata": {
        "colab": {
          "base_uri": "https://localhost:8080/"
        },
        "id": "VL9dlFDXFHoW",
        "outputId": "2b905e89-0074-433d-d6cd-acbe498dd887"
      },
      "source": [
        "state = df[['State']].value_counts()\r\n",
        "state.head()"
      ],
      "execution_count": 28,
      "outputs": [
        {
          "output_type": "execute_result",
          "data": {
            "text/plain": [
              "State       \n",
              "California      2001\n",
              "New York        1128\n",
              "Texas            985\n",
              "Pennsylvania     587\n",
              "Washington       506\n",
              "dtype: int64"
            ]
          },
          "metadata": {
            "tags": []
          },
          "execution_count": 28
        }
      ]
    },
    {
      "cell_type": "markdown",
      "metadata": {
        "id": "BydSxwayHoHB"
      },
      "source": [
        "### Which region gives the most profit?"
      ]
    },
    {
      "cell_type": "code",
      "metadata": {
        "colab": {
          "base_uri": "https://localhost:8080/",
          "height": 322
        },
        "id": "dBSlzrOxHdQu",
        "outputId": "44ffd158-4592-4a46-f1a4-d51be4b3c82a"
      },
      "source": [
        "profit_per_region = df.groupby('Region')['Profit'].agg('sum')\r\n",
        "pd.DataFrame(profit_per_region)\r\n",
        "profit_per_region.head(10).sort_values(ascending=False).plot.bar(width=0.9, color=sns.color_palette('autumn_r',10))\r\n",
        "plt.title('Total Profit per Region')\r\n",
        "plt.xlabel('Profit')\r\n",
        "plt.show()"
      ],
      "execution_count": 29,
      "outputs": [
        {
          "output_type": "display_data",
          "data": {
            "image/png": "[encoded data removed]",
            "text/plain": [
              "<Figure size 432x288 with 1 Axes>"
            ]
          },
          "metadata": {
            "tags": [],
            "needs_background": "light"
          }
        }
      ]
    },
    {
      "cell_type": "code",
      "metadata": {
        "id": "hHnEJe3lIWFl"
      },
      "source": [
        ""
      ],
      "execution_count": null,
      "outputs": []
    }
  ]
}