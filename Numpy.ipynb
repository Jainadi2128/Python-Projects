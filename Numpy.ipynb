{
  "nbformat": 4,
  "nbformat_minor": 0,
  "metadata": {
    "colab": {
      "name": "Numpy.ipynb",
      "provenance": [],
      "authorship_tag": "ABX9TyMjfosTgnI4u/Mcx1oXykpC",
      "include_colab_link": true
    },
    "kernelspec": {
      "name": "python3",
      "display_name": "Python 3"
    }
  },
  "cells": [
    {
      "cell_type": "markdown",
      "metadata": {
        "id": "view-in-github",
        "colab_type": "text"
      },
      "source": [
        "<a href=\"https://colab.research.google.com/github/Jainadi2128/Python-Projects/blob/main/Numpy.ipynb\" target=\"_parent\"><img src=\"https://colab.research.google.com/assets/colab-badge.svg\" alt=\"Open In Colab\"/></a>"
      ]
    },
    {
      "cell_type": "code",
      "metadata": {
        "id": "MLUfWH2s2Xz4"
      },
      "source": [
        "import numpy as np"
      ],
      "execution_count": 1,
      "outputs": []
    },
    {
      "cell_type": "code",
      "metadata": {
        "id": "Ya9wFbIL2bPp"
      },
      "source": [
        "# Creating Arrays\r\n",
        "a = np.array([1,2,3])\r\n",
        "b = np.array([(1.5,2,3),(4,5,6)],dtype=float)\r\n",
        "c = np.array([[(1.5,2,3),(4,5,6)], [(3,2,1),(4,5,6)]],dtype=float)"
      ],
      "execution_count": 3,
      "outputs": []
    },
    {
      "cell_type": "code",
      "metadata": {
        "colab": {
          "base_uri": "https://localhost:8080/"
        },
        "id": "1BCZUwTC3Waw",
        "outputId": "275fa3e1-6253-4145-ad8c-b9f218fe2f5b"
      },
      "source": [
        "print(a)\r\n",
        "print(b)\r\n",
        "print(c)"
      ],
      "execution_count": 7,
      "outputs": [
        {
          "output_type": "stream",
          "text": [
            "[1 2 3]\n",
            "[[1.5 2.  3. ]\n",
            " [4.  5.  6. ]]\n",
            "[[[1.5 2.  3. ]\n",
            "  [4.  5.  6. ]]\n",
            "\n",
            " [[3.  2.  1. ]\n",
            "  [4.  5.  6. ]]]\n"
          ],
          "name": "stdout"
        }
      ]
    },
    {
      "cell_type": "code",
      "metadata": {
        "colab": {
          "base_uri": "https://localhost:8080/"
        },
        "id": "8McifTz03apV",
        "outputId": "a4cbbeb1-34ef-4068-fba3-7dc8af1aabd5"
      },
      "source": [
        "# Initial Placeholders\r\n",
        "# Creates an array of zeros\r\n",
        "np.zeros((3,4))"
      ],
      "execution_count": 9,
      "outputs": [
        {
          "output_type": "execute_result",
          "data": {
            "text/plain": [
              "array([[0., 0., 0., 0.],\n",
              "       [0., 0., 0., 0.],\n",
              "       [0., 0., 0., 0.]])"
            ]
          },
          "metadata": {
            "tags": []
          },
          "execution_count": 9
        }
      ]
    },
    {
      "cell_type": "code",
      "metadata": {
        "colab": {
          "base_uri": "https://localhost:8080/"
        },
        "id": "HI8PlIpA30Lo",
        "outputId": "0eb04679-dcb6-4c09-9807-66287979de7e"
      },
      "source": [
        "# Creates an array of ones\r\n",
        "np.ones((2,3,4))"
      ],
      "execution_count": 12,
      "outputs": [
        {
          "output_type": "execute_result",
          "data": {
            "text/plain": [
              "array([[[1., 1., 1., 1.],\n",
              "        [1., 1., 1., 1.],\n",
              "        [1., 1., 1., 1.]],\n",
              "\n",
              "       [[1., 1., 1., 1.],\n",
              "        [1., 1., 1., 1.],\n",
              "        [1., 1., 1., 1.]]])"
            ]
          },
          "metadata": {
            "tags": []
          },
          "execution_count": 12
        }
      ]
    },
    {
      "cell_type": "code",
      "metadata": {
        "colab": {
          "base_uri": "https://localhost:8080/"
        },
        "id": "fM1-yKxq4CUE",
        "outputId": "587287a1-d14b-4092-a991-3ee886c9f326"
      },
      "source": [
        "# Creates an array of evenly placed values(step values)\r\n",
        "d = np.arange(10,25,5)\r\n",
        "d"
      ],
      "execution_count": 14,
      "outputs": [
        {
          "output_type": "execute_result",
          "data": {
            "text/plain": [
              "array([10, 15, 20])"
            ]
          },
          "metadata": {
            "tags": []
          },
          "execution_count": 14
        }
      ]
    },
    {
      "cell_type": "code",
      "metadata": {
        "colab": {
          "base_uri": "https://localhost:8080/"
        },
        "id": "TQ-b8jd94ewW",
        "outputId": "68f2cc0e-45c6-48df-ce88-3b64c88abc0b"
      },
      "source": [
        "#  Creates an array of evenly spaced values(number of samples) \r\n",
        "np.linspace(0,2,9)"
      ],
      "execution_count": 15,
      "outputs": [
        {
          "output_type": "execute_result",
          "data": {
            "text/plain": [
              "array([0.  , 0.25, 0.5 , 0.75, 1.  , 1.25, 1.5 , 1.75, 2.  ])"
            ]
          },
          "metadata": {
            "tags": []
          },
          "execution_count": 15
        }
      ]
    },
    {
      "cell_type": "code",
      "metadata": {
        "colab": {
          "base_uri": "https://localhost:8080/"
        },
        "id": "vzCI1VDc4xix",
        "outputId": "ea14334e-138f-47bc-b59b-0a5fe1c191ea"
      },
      "source": [
        "# create a constant array\r\n",
        "e = np.full((2,2),7)\r\n",
        "e"
      ],
      "execution_count": 16,
      "outputs": [
        {
          "output_type": "execute_result",
          "data": {
            "text/plain": [
              "array([[7, 7],\n",
              "       [7, 7]])"
            ]
          },
          "metadata": {
            "tags": []
          },
          "execution_count": 16
        }
      ]
    },
    {
      "cell_type": "code",
      "metadata": {
        "colab": {
          "base_uri": "https://localhost:8080/"
        },
        "id": "R_V9U2qT5Nkj",
        "outputId": "d94571fb-983f-46a1-af1d-5172bafee4d7"
      },
      "source": [
        "# create a 2x2 identity matrix\r\n",
        "f = np.eye(2)\r\n",
        "f"
      ],
      "execution_count": 17,
      "outputs": [
        {
          "output_type": "execute_result",
          "data": {
            "text/plain": [
              "array([[1., 0.],\n",
              "       [0., 1.]])"
            ]
          },
          "metadata": {
            "tags": []
          },
          "execution_count": 17
        }
      ]
    },
    {
      "cell_type": "code",
      "metadata": {
        "colab": {
          "base_uri": "https://localhost:8080/"
        },
        "id": "q5Nt6WtZ5YJB",
        "outputId": "72e4ebf1-223f-493a-8779-97101bd74c1b"
      },
      "source": [
        "# Create an array with random values\r\n",
        "np.random.random((2,2))"
      ],
      "execution_count": 18,
      "outputs": [
        {
          "output_type": "execute_result",
          "data": {
            "text/plain": [
              "array([[0.15560748, 0.32380136],\n",
              "       [0.91399762, 0.53462775]])"
            ]
          },
          "metadata": {
            "tags": []
          },
          "execution_count": 18
        }
      ]
    },
    {
      "cell_type": "code",
      "metadata": {
        "colab": {
          "base_uri": "https://localhost:8080/"
        },
        "id": "dKXOvewh5gsx",
        "outputId": "6ff2ce75-1c10-48e1-dc95-359011a234b2"
      },
      "source": [
        "# Create an empty array\r\n",
        "np.empty((3,2))"
      ],
      "execution_count": 19,
      "outputs": [
        {
          "output_type": "execute_result",
          "data": {
            "text/plain": [
              "array([[1.5, 2. ],\n",
              "       [3. , 4. ],\n",
              "       [5. , 6. ]])"
            ]
          },
          "metadata": {
            "tags": []
          },
          "execution_count": 19
        }
      ]
    },
    {
      "cell_type": "code",
      "metadata": {
        "id": "GLavuAYG5qC-"
      },
      "source": [
        "## Saving and Loading on Disk\r\n",
        "np.save('my_array',a)"
      ],
      "execution_count": 20,
      "outputs": []
    },
    {
      "cell_type": "code",
      "metadata": {
        "id": "LssgFZi26sSQ"
      },
      "source": [
        "np.savez('array.npz',a,b)"
      ],
      "execution_count": 21,
      "outputs": []
    },
    {
      "cell_type": "code",
      "metadata": {
        "colab": {
          "base_uri": "https://localhost:8080/"
        },
        "id": "BQHT3z3k6x4I",
        "outputId": "78c7d351-04cd-419f-b682-ca0b97eed084"
      },
      "source": [
        "np.load('my_array.npy')"
      ],
      "execution_count": 22,
      "outputs": [
        {
          "output_type": "execute_result",
          "data": {
            "text/plain": [
              "array([1, 2, 3])"
            ]
          },
          "metadata": {
            "tags": []
          },
          "execution_count": 22
        }
      ]
    },
    {
      "cell_type": "code",
      "metadata": {
        "id": "X4eKZMq464fc"
      },
      "source": [
        "## Saving and Loading Text Files\r\n",
        "#np.loadtxt('myfile'.txt)\r\n",
        "#np.genfromtxt('my_file.csv', delimiter=',')\r\n",
        "#np.savetxt('my_array.txt',a,delimiter=\" \")"
      ],
      "execution_count": 26,
      "outputs": []
    },
    {
      "cell_type": "code",
      "metadata": {
        "colab": {
          "base_uri": "https://localhost:8080/"
        },
        "id": "3uLPNTJM7GAK",
        "outputId": "04984795-e624-4e64-b787-804cc836fbea"
      },
      "source": [
        "## Inspecting array\r\n",
        "# Array dimensions\r\n",
        "a.shape\r\n"
      ],
      "execution_count": 27,
      "outputs": [
        {
          "output_type": "execute_result",
          "data": {
            "text/plain": [
              "(3,)"
            ]
          },
          "metadata": {
            "tags": []
          },
          "execution_count": 27
        }
      ]
    },
    {
      "cell_type": "code",
      "metadata": {
        "colab": {
          "base_uri": "https://localhost:8080/"
        },
        "id": "7p1dkk9T73cF",
        "outputId": "7cf72fea-2084-4d5a-9340-b5b3706f3496"
      },
      "source": [
        "# Length of array\r\n",
        "len(a)"
      ],
      "execution_count": 28,
      "outputs": [
        {
          "output_type": "execute_result",
          "data": {
            "text/plain": [
              "3"
            ]
          },
          "metadata": {
            "tags": []
          },
          "execution_count": 28
        }
      ]
    },
    {
      "cell_type": "code",
      "metadata": {
        "colab": {
          "base_uri": "https://localhost:8080/"
        },
        "id": "idoI23rX76KC",
        "outputId": "0a9a6c71-750c-47e7-e532-252d36d57f63"
      },
      "source": [
        "# Number of array dimensions\r\n",
        "b.ndim"
      ],
      "execution_count": 29,
      "outputs": [
        {
          "output_type": "execute_result",
          "data": {
            "text/plain": [
              "2"
            ]
          },
          "metadata": {
            "tags": []
          },
          "execution_count": 29
        }
      ]
    },
    {
      "cell_type": "code",
      "metadata": {
        "colab": {
          "base_uri": "https://localhost:8080/"
        },
        "id": "PQNCLysB786p",
        "outputId": "57834f46-6e8c-453b-ad43-063032a23518"
      },
      "source": [
        "# number of array elements\r\n",
        "e.size"
      ],
      "execution_count": 30,
      "outputs": [
        {
          "output_type": "execute_result",
          "data": {
            "text/plain": [
              "4"
            ]
          },
          "metadata": {
            "tags": []
          },
          "execution_count": 30
        }
      ]
    },
    {
      "cell_type": "code",
      "metadata": {
        "colab": {
          "base_uri": "https://localhost:8080/"
        },
        "id": "Tcd6eeni8Qio",
        "outputId": "2d548e7f-5db9-4a32-87f4-7becf4118e06"
      },
      "source": [
        "# Data type of array elements\r\n",
        "b.dtype"
      ],
      "execution_count": 31,
      "outputs": [
        {
          "output_type": "execute_result",
          "data": {
            "text/plain": [
              "dtype('float64')"
            ]
          },
          "metadata": {
            "tags": []
          },
          "execution_count": 31
        }
      ]
    },
    {
      "cell_type": "code",
      "metadata": {
        "colab": {
          "base_uri": "https://localhost:8080/"
        },
        "id": "7C73QF9M8bCe",
        "outputId": "b50ad6e4-aa65-4357-e4dd-9e9e2c9111bc"
      },
      "source": [
        "# Name of datatype\r\n",
        "np.dtype.name"
      ],
      "execution_count": 32,
      "outputs": [
        {
          "output_type": "execute_result",
          "data": {
            "text/plain": [
              "<attribute 'name' of 'numpy.dtype' objects>"
            ]
          },
          "metadata": {
            "tags": []
          },
          "execution_count": 32
        }
      ]
    },
    {
      "cell_type": "code",
      "metadata": {
        "colab": {
          "base_uri": "https://localhost:8080/"
        },
        "id": "p8c8CnIa8ieI",
        "outputId": "2cc73e9c-dc73-4246-eddb-620eaaeff50a"
      },
      "source": [
        "# Convert an array to a different type\r\n",
        "b.astype(int)"
      ],
      "execution_count": 33,
      "outputs": [
        {
          "output_type": "execute_result",
          "data": {
            "text/plain": [
              "array([[1, 2, 3],\n",
              "       [4, 5, 6]])"
            ]
          },
          "metadata": {
            "tags": []
          },
          "execution_count": 33
        }
      ]
    },
    {
      "cell_type": "code",
      "metadata": {
        "id": "pHeIsL138qlD"
      },
      "source": [
        "## Asking for help\r\n",
        "np.info(np.ndarray.dtype)"
      ],
      "execution_count": 34,
      "outputs": []
    },
    {
      "cell_type": "code",
      "metadata": {
        "colab": {
          "base_uri": "https://localhost:8080/"
        },
        "id": "2CJ_rrPq8247",
        "outputId": "b9ec8083-1953-4259-caf9-82205f083374"
      },
      "source": [
        "## Array Mathematics\r\n",
        "# Arithmetic Operations\r\n",
        "g = a - b\r\n",
        "g"
      ],
      "execution_count": 35,
      "outputs": [
        {
          "output_type": "execute_result",
          "data": {
            "text/plain": [
              "array([[-0.5,  0. ,  0. ],\n",
              "       [-3. , -3. , -3. ]])"
            ]
          },
          "metadata": {
            "tags": []
          },
          "execution_count": 35
        }
      ]
    },
    {
      "cell_type": "code",
      "metadata": {
        "colab": {
          "base_uri": "https://localhost:8080/"
        },
        "id": "dJOSBiL7--KU",
        "outputId": "d2e3516f-73d2-44cd-9d72-b1b2d43bb6c3"
      },
      "source": [
        "np.subtract(a,b)"
      ],
      "execution_count": 36,
      "outputs": [
        {
          "output_type": "execute_result",
          "data": {
            "text/plain": [
              "array([[-0.5,  0. ,  0. ],\n",
              "       [-3. , -3. , -3. ]])"
            ]
          },
          "metadata": {
            "tags": []
          },
          "execution_count": 36
        }
      ]
    },
    {
      "cell_type": "code",
      "metadata": {
        "colab": {
          "base_uri": "https://localhost:8080/"
        },
        "id": "rto2Co4e_C46",
        "outputId": "c281bf20-a132-4366-d661-66aa678fe4a0"
      },
      "source": [
        "np.add(b,a)"
      ],
      "execution_count": 37,
      "outputs": [
        {
          "output_type": "execute_result",
          "data": {
            "text/plain": [
              "array([[2.5, 4. , 6. ],\n",
              "       [5. , 7. , 9. ]])"
            ]
          },
          "metadata": {
            "tags": []
          },
          "execution_count": 37
        }
      ]
    },
    {
      "cell_type": "code",
      "metadata": {
        "colab": {
          "base_uri": "https://localhost:8080/"
        },
        "id": "gP95jQ8s_Hhk",
        "outputId": "d566f630-0527-4bab-d3e6-d6872e60e9db"
      },
      "source": [
        "np.divide(a,b)"
      ],
      "execution_count": 38,
      "outputs": [
        {
          "output_type": "execute_result",
          "data": {
            "text/plain": [
              "array([[0.66666667, 1.        , 1.        ],\n",
              "       [0.25      , 0.4       , 0.5       ]])"
            ]
          },
          "metadata": {
            "tags": []
          },
          "execution_count": 38
        }
      ]
    },
    {
      "cell_type": "code",
      "metadata": {
        "colab": {
          "base_uri": "https://localhost:8080/"
        },
        "id": "01_jO1cK_Odi",
        "outputId": "afbcea5e-3f6f-47c9-dd21-04c074dfd767"
      },
      "source": [
        "np.multiply(a,b)"
      ],
      "execution_count": 39,
      "outputs": [
        {
          "output_type": "execute_result",
          "data": {
            "text/plain": [
              "array([[ 1.5,  4. ,  9. ],\n",
              "       [ 4. , 10. , 18. ]])"
            ]
          },
          "metadata": {
            "tags": []
          },
          "execution_count": 39
        }
      ]
    },
    {
      "cell_type": "code",
      "metadata": {
        "colab": {
          "base_uri": "https://localhost:8080/"
        },
        "id": "N2YZqLBg_SBm",
        "outputId": "1c8c2144-4f39-4540-85b9-57dcba1f5f42"
      },
      "source": [
        "np.exp(b)"
      ],
      "execution_count": 40,
      "outputs": [
        {
          "output_type": "execute_result",
          "data": {
            "text/plain": [
              "array([[  4.48168907,   7.3890561 ,  20.08553692],\n",
              "       [ 54.59815003, 148.4131591 , 403.42879349]])"
            ]
          },
          "metadata": {
            "tags": []
          },
          "execution_count": 40
        }
      ]
    },
    {
      "cell_type": "code",
      "metadata": {
        "colab": {
          "base_uri": "https://localhost:8080/"
        },
        "id": "fiZ6XUny_YeS",
        "outputId": "5b923607-7518-45a1-c26b-ec82156b33c4"
      },
      "source": [
        "np.sin(a)"
      ],
      "execution_count": 42,
      "outputs": [
        {
          "output_type": "execute_result",
          "data": {
            "text/plain": [
              "array([0.84147098, 0.90929743, 0.14112001])"
            ]
          },
          "metadata": {
            "tags": []
          },
          "execution_count": 42
        }
      ]
    },
    {
      "cell_type": "code",
      "metadata": {
        "colab": {
          "base_uri": "https://localhost:8080/"
        },
        "id": "pdwdMqs-_aXc",
        "outputId": "ba91f094-7568-4de3-91cb-d36a71cbd506"
      },
      "source": [
        "np.sqrt(b)"
      ],
      "execution_count": 43,
      "outputs": [
        {
          "output_type": "execute_result",
          "data": {
            "text/plain": [
              "array([[1.22474487, 1.41421356, 1.73205081],\n",
              "       [2.        , 2.23606798, 2.44948974]])"
            ]
          },
          "metadata": {
            "tags": []
          },
          "execution_count": 43
        }
      ]
    },
    {
      "cell_type": "code",
      "metadata": {
        "colab": {
          "base_uri": "https://localhost:8080/"
        },
        "id": "dfQc_tNQ_fFQ",
        "outputId": "b8dc9a02-1d4d-49af-db9d-eb16f093c79f"
      },
      "source": [
        "np.cos(b)"
      ],
      "execution_count": 44,
      "outputs": [
        {
          "output_type": "execute_result",
          "data": {
            "text/plain": [
              "array([[ 0.0707372 , -0.41614684, -0.9899925 ],\n",
              "       [-0.65364362,  0.28366219,  0.96017029]])"
            ]
          },
          "metadata": {
            "tags": []
          },
          "execution_count": 44
        }
      ]
    },
    {
      "cell_type": "code",
      "metadata": {
        "colab": {
          "base_uri": "https://localhost:8080/"
        },
        "id": "MNyKI8Om_hsi",
        "outputId": "9c0186ed-1a53-46f8-8a50-2fa942f24744"
      },
      "source": [
        "np.log(a)"
      ],
      "execution_count": 45,
      "outputs": [
        {
          "output_type": "execute_result",
          "data": {
            "text/plain": [
              "array([0.        , 0.69314718, 1.09861229])"
            ]
          },
          "metadata": {
            "tags": []
          },
          "execution_count": 45
        }
      ]
    },
    {
      "cell_type": "code",
      "metadata": {
        "colab": {
          "base_uri": "https://localhost:8080/"
        },
        "id": "StVexZl6_llZ",
        "outputId": "1be08974-e9e1-45ff-ff07-508484aad7c2"
      },
      "source": [
        "e.dot(f)"
      ],
      "execution_count": 46,
      "outputs": [
        {
          "output_type": "execute_result",
          "data": {
            "text/plain": [
              "array([[7., 7.],\n",
              "       [7., 7.]])"
            ]
          },
          "metadata": {
            "tags": []
          },
          "execution_count": 46
        }
      ]
    },
    {
      "cell_type": "code",
      "metadata": {
        "colab": {
          "base_uri": "https://localhost:8080/"
        },
        "id": "8wZ-eQ-N_rGt",
        "outputId": "35989db3-3699-4f33-ddef-d79c47a55ac1"
      },
      "source": [
        "# Comparison\r\n",
        "a == b"
      ],
      "execution_count": 47,
      "outputs": [
        {
          "output_type": "execute_result",
          "data": {
            "text/plain": [
              "array([[False,  True,  True],\n",
              "       [False, False, False]])"
            ]
          },
          "metadata": {
            "tags": []
          },
          "execution_count": 47
        }
      ]
    },
    {
      "cell_type": "code",
      "metadata": {
        "colab": {
          "base_uri": "https://localhost:8080/"
        },
        "id": "HvBqV4bfAR2f",
        "outputId": "5ec76aad-47e5-478a-e1f3-e535c9e10c8d"
      },
      "source": [
        "a < 2"
      ],
      "execution_count": 48,
      "outputs": [
        {
          "output_type": "execute_result",
          "data": {
            "text/plain": [
              "array([ True, False, False])"
            ]
          },
          "metadata": {
            "tags": []
          },
          "execution_count": 48
        }
      ]
    },
    {
      "cell_type": "code",
      "metadata": {
        "colab": {
          "base_uri": "https://localhost:8080/"
        },
        "id": "JT97R4CoAVDL",
        "outputId": "e9ce8790-b4bd-4074-a30d-842b758eb371"
      },
      "source": [
        "np.array_equal(a,b)"
      ],
      "execution_count": 49,
      "outputs": [
        {
          "output_type": "execute_result",
          "data": {
            "text/plain": [
              "False"
            ]
          },
          "metadata": {
            "tags": []
          },
          "execution_count": 49
        }
      ]
    },
    {
      "cell_type": "code",
      "metadata": {
        "colab": {
          "base_uri": "https://localhost:8080/"
        },
        "id": "PD8pZFEyAZcL",
        "outputId": "f533aafa-16c6-4348-c71f-5f0b3c9b8b8a"
      },
      "source": [
        "## Aggregate Functions\r\n",
        "# Array wise sum\r\n",
        "a.sum()"
      ],
      "execution_count": 50,
      "outputs": [
        {
          "output_type": "execute_result",
          "data": {
            "text/plain": [
              "6"
            ]
          },
          "metadata": {
            "tags": []
          },
          "execution_count": 50
        }
      ]
    },
    {
      "cell_type": "code",
      "metadata": {
        "colab": {
          "base_uri": "https://localhost:8080/"
        },
        "id": "LXcRWid8AgY8",
        "outputId": "e0cf6303-a641-454b-8e4c-3b08fb35d51a"
      },
      "source": [
        "# Array wise minimum value\r\n",
        "a.min()"
      ],
      "execution_count": 51,
      "outputs": [
        {
          "output_type": "execute_result",
          "data": {
            "text/plain": [
              "1"
            ]
          },
          "metadata": {
            "tags": []
          },
          "execution_count": 51
        }
      ]
    },
    {
      "cell_type": "code",
      "metadata": {
        "colab": {
          "base_uri": "https://localhost:8080/"
        },
        "id": "O_g_Ks8fBdYt",
        "outputId": "1c7b5b56-9c77-45dc-dae0-d0c142761db9"
      },
      "source": [
        "a.mean()"
      ],
      "execution_count": 52,
      "outputs": [
        {
          "output_type": "execute_result",
          "data": {
            "text/plain": [
              "2.0"
            ]
          },
          "metadata": {
            "tags": []
          },
          "execution_count": 52
        }
      ]
    },
    {
      "cell_type": "code",
      "metadata": {
        "id": "ZWe0duEzHHLr"
      },
      "source": [
        "#a.median()"
      ],
      "execution_count": 57,
      "outputs": []
    },
    {
      "cell_type": "code",
      "metadata": {
        "id": "iI_CqcaYHIbI"
      },
      "source": [
        "#a.corrcoef()"
      ],
      "execution_count": 58,
      "outputs": []
    },
    {
      "cell_type": "code",
      "metadata": {
        "colab": {
          "base_uri": "https://localhost:8080/"
        },
        "id": "dIvkXUThHQaW",
        "outputId": "5422859a-fe87-4821-f0f8-55ece2528f0c"
      },
      "source": [
        "np.std(b)\r\n",
        "\r\n"
      ],
      "execution_count": 59,
      "outputs": [
        {
          "output_type": "execute_result",
          "data": {
            "text/plain": [
              "1.5920810978785667"
            ]
          },
          "metadata": {
            "tags": []
          },
          "execution_count": 59
        }
      ]
    },
    {
      "cell_type": "code",
      "metadata": {
        "colab": {
          "base_uri": "https://localhost:8080/"
        },
        "id": "Qq5qZZ1RH2qM",
        "outputId": "5fa8cd05-6739-4de1-ab93-4a7dbd00f026"
      },
      "source": [
        "## Copying Arrays\r\n",
        "h = a.view()\r\n",
        "h"
      ],
      "execution_count": 61,
      "outputs": [
        {
          "output_type": "execute_result",
          "data": {
            "text/plain": [
              "array([1, 2, 3])"
            ]
          },
          "metadata": {
            "tags": []
          },
          "execution_count": 61
        }
      ]
    },
    {
      "cell_type": "code",
      "metadata": {
        "colab": {
          "base_uri": "https://localhost:8080/"
        },
        "id": "HzIAkAyeIAYI",
        "outputId": "74d614ff-116a-4923-96cf-889a2276b874"
      },
      "source": [
        "np.copy(a)"
      ],
      "execution_count": 62,
      "outputs": [
        {
          "output_type": "execute_result",
          "data": {
            "text/plain": [
              "array([1, 2, 3])"
            ]
          },
          "metadata": {
            "tags": []
          },
          "execution_count": 62
        }
      ]
    },
    {
      "cell_type": "code",
      "metadata": {
        "colab": {
          "base_uri": "https://localhost:8080/"
        },
        "id": "mRdHHSbgIFET",
        "outputId": "6ce5c5a2-5c5f-4aed-df53-5ed65fc05f7d"
      },
      "source": [
        "h = a.copy()\r\n",
        "h"
      ],
      "execution_count": 64,
      "outputs": [
        {
          "output_type": "execute_result",
          "data": {
            "text/plain": [
              "array([1, 2, 3])"
            ]
          },
          "metadata": {
            "tags": []
          },
          "execution_count": 64
        }
      ]
    },
    {
      "cell_type": "code",
      "metadata": {
        "id": "I6JFOs4KIIlE"
      },
      "source": [
        "## Sorting Arrays\r\n",
        "a.sort()"
      ],
      "execution_count": 67,
      "outputs": []
    },
    {
      "cell_type": "code",
      "metadata": {
        "id": "d7u1ODhQIW44"
      },
      "source": [
        "c.sort(axis=0)"
      ],
      "execution_count": 68,
      "outputs": []
    },
    {
      "cell_type": "code",
      "metadata": {
        "colab": {
          "base_uri": "https://localhost:8080/"
        },
        "id": "9WH7f07YIfto",
        "outputId": "14fd3a9d-9dac-4a9e-9df3-1355a3b1496a"
      },
      "source": [
        "## Subsetting, Slicing and Indexing\r\n",
        "# Subsetting\r\n",
        "a[2]"
      ],
      "execution_count": 69,
      "outputs": [
        {
          "output_type": "execute_result",
          "data": {
            "text/plain": [
              "3"
            ]
          },
          "metadata": {
            "tags": []
          },
          "execution_count": 69
        }
      ]
    },
    {
      "cell_type": "code",
      "metadata": {
        "colab": {
          "base_uri": "https://localhost:8080/"
        },
        "id": "DEUy-lB7KvxC",
        "outputId": "c5f4f32e-4be2-432f-9734-270e427daafa"
      },
      "source": [
        "b[1,2]"
      ],
      "execution_count": 70,
      "outputs": [
        {
          "output_type": "execute_result",
          "data": {
            "text/plain": [
              "6.0"
            ]
          },
          "metadata": {
            "tags": []
          },
          "execution_count": 70
        }
      ]
    },
    {
      "cell_type": "code",
      "metadata": {
        "colab": {
          "base_uri": "https://localhost:8080/"
        },
        "id": "HO6JCZVYMNiq",
        "outputId": "fd0d0131-4c69-498a-b172-9e78ba99d152"
      },
      "source": [
        "# Slicing\r\n",
        "a[0:2]"
      ],
      "execution_count": 71,
      "outputs": [
        {
          "output_type": "execute_result",
          "data": {
            "text/plain": [
              "array([1, 2])"
            ]
          },
          "metadata": {
            "tags": []
          },
          "execution_count": 71
        }
      ]
    },
    {
      "cell_type": "code",
      "metadata": {
        "colab": {
          "base_uri": "https://localhost:8080/"
        },
        "id": "rGpyQx9VMvb7",
        "outputId": "485f70dd-7447-4909-94e0-0e5bda42ca47"
      },
      "source": [
        "b[0:2,1]"
      ],
      "execution_count": 72,
      "outputs": [
        {
          "output_type": "execute_result",
          "data": {
            "text/plain": [
              "array([2., 5.])"
            ]
          },
          "metadata": {
            "tags": []
          },
          "execution_count": 72
        }
      ]
    },
    {
      "cell_type": "code",
      "metadata": {
        "colab": {
          "base_uri": "https://localhost:8080/"
        },
        "id": "hljQJDj6OUWn",
        "outputId": "0c95ea37-7585-4f05-f218-c46b83af1a3c"
      },
      "source": [
        "a[::-1]"
      ],
      "execution_count": 74,
      "outputs": [
        {
          "output_type": "execute_result",
          "data": {
            "text/plain": [
              "array([3, 2, 1])"
            ]
          },
          "metadata": {
            "tags": []
          },
          "execution_count": 74
        }
      ]
    },
    {
      "cell_type": "code",
      "metadata": {
        "colab": {
          "base_uri": "https://localhost:8080/"
        },
        "id": "nfhjYfXTMy1C",
        "outputId": "9c74be0a-2d86-4285-ae82-71cbc6680281"
      },
      "source": [
        "## Array Manipulation\r\n",
        "# Transposing Array\r\n",
        "i = np.transpose(b)\r\n",
        "i.T"
      ],
      "execution_count": 75,
      "outputs": [
        {
          "output_type": "execute_result",
          "data": {
            "text/plain": [
              "array([[1.5, 2. , 3. ],\n",
              "       [4. , 5. , 6. ]])"
            ]
          },
          "metadata": {
            "tags": []
          },
          "execution_count": 75
        }
      ]
    },
    {
      "cell_type": "code",
      "metadata": {
        "id": "oPAs0Tw8PGOl"
      },
      "source": [
        ""
      ],
      "execution_count": null,
      "outputs": []
    }
  ]
}