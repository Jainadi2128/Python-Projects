{
  "nbformat": 4,
  "nbformat_minor": 0,
  "metadata": {
    "colab": {
      "name": "Numpy.ipynb",
      "provenance": [],
      "authorship_tag": "ABX9TyNTy4v2SBBCBYVi5Cdd6j7X",
      "include_colab_link": true
    },
    "kernelspec": {
      "name": "python3",
      "display_name": "Python 3"
    }
  },
  "cells": [
    {
      "cell_type": "markdown",
      "metadata": {
        "id": "view-in-github",
        "colab_type": "text"
      },
      "source": [
        "<a href=\"https://colab.research.google.com/github/Jainadi2128/Python-Projects/blob/main/Numpy.ipynb\" target=\"_parent\"><img src=\"https://colab.research.google.com/assets/colab-badge.svg\" alt=\"Open In Colab\"/></a>"
      ]
    },
    {
      "cell_type": "code",
      "metadata": {
        "id": "8q4CAWCzJvir"
      },
      "source": [
        "import numpy as np"
      ],
      "execution_count": 1,
      "outputs": []
    },
    {
      "cell_type": "markdown",
      "metadata": {
        "id": "pZimKBPZazVw"
      },
      "source": [
        "## Creating Arrays"
      ]
    },
    {
      "cell_type": "code",
      "metadata": {
        "colab": {
          "base_uri": "https://localhost:8080/"
        },
        "id": "jEoFHIjgQHSd",
        "outputId": "e8bc2286-2591-44e7-e2bf-58eaabf3e3ba"
      },
      "source": [
        "a = np.array([1,2,3])\r\n",
        "print(a)"
      ],
      "execution_count": 2,
      "outputs": [
        {
          "output_type": "stream",
          "text": [
            "[1 2 3]\n"
          ],
          "name": "stdout"
        }
      ]
    },
    {
      "cell_type": "code",
      "metadata": {
        "colab": {
          "base_uri": "https://localhost:8080/"
        },
        "id": "j9FnQPeBa9kG",
        "outputId": "22682c5a-dda6-4bbb-ee0f-12caaa665f02"
      },
      "source": [
        "b = np.array([(1.5,2,3), (4,5,6)], dtype=float)\r\n",
        "print(b)"
      ],
      "execution_count": 3,
      "outputs": [
        {
          "output_type": "stream",
          "text": [
            "[[1.5 2.  3. ]\n",
            " [4.  5.  6. ]]\n"
          ],
          "name": "stdout"
        }
      ]
    },
    {
      "cell_type": "code",
      "metadata": {
        "colab": {
          "base_uri": "https://localhost:8080/"
        },
        "id": "b9dEC2TFbgkY",
        "outputId": "d14a9260-3642-4613-cb51-3b3a80ba3527"
      },
      "source": [
        "c = np.array([[(1.5,2,3),(4,5,6)], [(3,2,1),(4,5,6)]])\r\n",
        "print(c)"
      ],
      "execution_count": 6,
      "outputs": [
        {
          "output_type": "stream",
          "text": [
            "[[[1.5 2.  3. ]\n",
            "  [4.  5.  6. ]]\n",
            "\n",
            " [[3.  2.  1. ]\n",
            "  [4.  5.  6. ]]]\n"
          ],
          "name": "stdout"
        }
      ]
    },
    {
      "cell_type": "markdown",
      "metadata": {
        "id": "fCOMho3tcVKT"
      },
      "source": [
        "## Initial Placeholders"
      ]
    },
    {
      "cell_type": "code",
      "metadata": {
        "colab": {
          "base_uri": "https://localhost:8080/"
        },
        "id": "EGUQRbuKb_Co",
        "outputId": "5b3de14f-9ec1-4c04-bd78-c45facf2343c"
      },
      "source": [
        "# Create an array of zeros\r\n",
        "np.zeros((3,4))"
      ],
      "execution_count": 7,
      "outputs": [
        {
          "output_type": "execute_result",
          "data": {
            "text/plain": [
              "array([[0., 0., 0., 0.],\n",
              "       [0., 0., 0., 0.],\n",
              "       [0., 0., 0., 0.]])"
            ]
          },
          "metadata": {
            "tags": []
          },
          "execution_count": 7
        }
      ]
    },
    {
      "cell_type": "code",
      "metadata": {
        "colab": {
          "base_uri": "https://localhost:8080/"
        },
        "id": "2o93RDy1chbF",
        "outputId": "504104ed-1600-4b5c-93c8-513f70505317"
      },
      "source": [
        "# Create an array of ones\r\n",
        "np.ones((2,3,4),dtype=np.int16)"
      ],
      "execution_count": 9,
      "outputs": [
        {
          "output_type": "execute_result",
          "data": {
            "text/plain": [
              "array([[[1, 1, 1, 1],\n",
              "        [1, 1, 1, 1],\n",
              "        [1, 1, 1, 1]],\n",
              "\n",
              "       [[1, 1, 1, 1],\n",
              "        [1, 1, 1, 1],\n",
              "        [1, 1, 1, 1]]], dtype=int16)"
            ]
          },
          "metadata": {
            "tags": []
          },
          "execution_count": 9
        }
      ]
    },
    {
      "cell_type": "code",
      "metadata": {
        "colab": {
          "base_uri": "https://localhost:8080/"
        },
        "id": "jxzS1Oo2cwTt",
        "outputId": "73aee415-39ac-4a07-c35a-b9a59ccb65c1"
      },
      "source": [
        "# Create an array of evenly spaced values(step value)\r\n",
        "d = np.arange(10,25,5)\r\n",
        "d"
      ],
      "execution_count": 10,
      "outputs": [
        {
          "output_type": "execute_result",
          "data": {
            "text/plain": [
              "array([10, 15, 20])"
            ]
          },
          "metadata": {
            "tags": []
          },
          "execution_count": 10
        }
      ]
    },
    {
      "cell_type": "code",
      "metadata": {
        "colab": {
          "base_uri": "https://localhost:8080/"
        },
        "id": "UcxoDRnXdS8f",
        "outputId": "bfdf4f11-835f-44fc-927c-d4640c77f8fe"
      },
      "source": [
        "# Create an array of eveny spaced values(number of samples)\r\n",
        "np.linspace(0,2,10)"
      ],
      "execution_count": 16,
      "outputs": [
        {
          "output_type": "execute_result",
          "data": {
            "text/plain": [
              "array([0.        , 0.22222222, 0.44444444, 0.66666667, 0.88888889,\n",
              "       1.11111111, 1.33333333, 1.55555556, 1.77777778, 2.        ])"
            ]
          },
          "metadata": {
            "tags": []
          },
          "execution_count": 16
        }
      ]
    },
    {
      "cell_type": "code",
      "metadata": {
        "colab": {
          "base_uri": "https://localhost:8080/"
        },
        "id": "sY5VRM1LeNi0",
        "outputId": "654dbf34-4066-4d0f-eef6-25bbd4dae113"
      },
      "source": [
        "# Create a constant array\r\n",
        "e = np.full((3,3),9)\r\n",
        "e"
      ],
      "execution_count": 17,
      "outputs": [
        {
          "output_type": "execute_result",
          "data": {
            "text/plain": [
              "array([[9, 9, 9],\n",
              "       [9, 9, 9],\n",
              "       [9, 9, 9]])"
            ]
          },
          "metadata": {
            "tags": []
          },
          "execution_count": 17
        }
      ]
    },
    {
      "cell_type": "code",
      "metadata": {
        "colab": {
          "base_uri": "https://localhost:8080/"
        },
        "id": "I-v7vqi7ecpn",
        "outputId": "bd203423-8e98-4d6d-dd48-3d5175cedcfa"
      },
      "source": [
        "# Create a 2x2 identity matrix\r\n",
        "f = np.eye(2)\r\n",
        "f"
      ],
      "execution_count": 14,
      "outputs": [
        {
          "output_type": "execute_result",
          "data": {
            "text/plain": [
              "array([[1., 0.],\n",
              "       [0., 1.]])"
            ]
          },
          "metadata": {
            "tags": []
          },
          "execution_count": 14
        }
      ]
    },
    {
      "cell_type": "code",
      "metadata": {
        "colab": {
          "base_uri": "https://localhost:8080/"
        },
        "id": "VK_KfqUifM6p",
        "outputId": "296a6b3f-5efb-4898-dd31-700199e5b279"
      },
      "source": [
        "# Create an array with random values\r\n",
        "np.random.random((2,2))"
      ],
      "execution_count": 18,
      "outputs": [
        {
          "output_type": "execute_result",
          "data": {
            "text/plain": [
              "array([[0.27740313, 0.59387609],\n",
              "       [0.58634707, 0.49821175]])"
            ]
          },
          "metadata": {
            "tags": []
          },
          "execution_count": 18
        }
      ]
    },
    {
      "cell_type": "code",
      "metadata": {
        "colab": {
          "base_uri": "https://localhost:8080/"
        },
        "id": "OsgJ_OkafqPo",
        "outputId": "672873cb-c683-489e-f089-fe367f6513a2"
      },
      "source": [
        "# Create an empty array\r\n",
        "np.empty((3,2))"
      ],
      "execution_count": 19,
      "outputs": [
        {
          "output_type": "execute_result",
          "data": {
            "text/plain": [
              "array([[1.5, 2. ],\n",
              "       [3. , 4. ],\n",
              "       [5. , 6. ]])"
            ]
          },
          "metadata": {
            "tags": []
          },
          "execution_count": 19
        }
      ]
    },
    {
      "cell_type": "markdown",
      "metadata": {
        "id": "qgBrYiYFiYbN"
      },
      "source": [
        "## Saving and Loading on Disk"
      ]
    },
    {
      "cell_type": "code",
      "metadata": {
        "id": "zPqgBfgcfyr6"
      },
      "source": [
        "# np.save('my_array',a)\r\n",
        "# np.savez('array.npz',a , b)\r\n",
        "# np.load('my_array.npy')"
      ],
      "execution_count": 20,
      "outputs": []
    },
    {
      "cell_type": "markdown",
      "metadata": {
        "id": "Xa0iVOBuj6_U"
      },
      "source": [
        "## Saving and Loading Text Files"
      ]
    },
    {
      "cell_type": "code",
      "metadata": {
        "id": "XKE0myahj1dD"
      },
      "source": [
        "#np.loadtxt('myfile.txt')\r\n",
        "#np.genfromtxt('myfile.csv', delimiter=',')\r\n",
        "#np.savetxt('myarray.txt', a, delimiter=\" \")"
      ],
      "execution_count": 21,
      "outputs": []
    },
    {
      "cell_type": "markdown",
      "metadata": {
        "id": "1IJ2AmYukcDS"
      },
      "source": [
        "# Inspecting your array"
      ]
    },
    {
      "cell_type": "code",
      "metadata": {
        "colab": {
          "base_uri": "https://localhost:8080/"
        },
        "id": "0LVqbyQHkWqH",
        "outputId": "af998ba4-4c4b-4fe1-f92d-0869bd1e2217"
      },
      "source": [
        "# Array Dimensions\r\n",
        "a.shape"
      ],
      "execution_count": 22,
      "outputs": [
        {
          "output_type": "execute_result",
          "data": {
            "text/plain": [
              "(3,)"
            ]
          },
          "metadata": {
            "tags": []
          },
          "execution_count": 22
        }
      ]
    },
    {
      "cell_type": "code",
      "metadata": {
        "colab": {
          "base_uri": "https://localhost:8080/"
        },
        "id": "nkB8H0Wxkl2E",
        "outputId": "de393392-38e4-4ac5-ef60-678b5c138415"
      },
      "source": [
        "# length of array\r\n",
        "len(a)"
      ],
      "execution_count": 23,
      "outputs": [
        {
          "output_type": "execute_result",
          "data": {
            "text/plain": [
              "3"
            ]
          },
          "metadata": {
            "tags": []
          },
          "execution_count": 23
        }
      ]
    },
    {
      "cell_type": "code",
      "metadata": {
        "colab": {
          "base_uri": "https://localhost:8080/"
        },
        "id": "zzAjbR9Wkqdl",
        "outputId": "9136f577-8054-42a1-f00a-072e1a660e36"
      },
      "source": [
        "# Number of array dimensions\r\n",
        "b.ndim"
      ],
      "execution_count": 26,
      "outputs": [
        {
          "output_type": "execute_result",
          "data": {
            "text/plain": [
              "2"
            ]
          },
          "metadata": {
            "tags": []
          },
          "execution_count": 26
        }
      ]
    },
    {
      "cell_type": "code",
      "metadata": {
        "colab": {
          "base_uri": "https://localhost:8080/"
        },
        "id": "OAp5gG6-kufd",
        "outputId": "b6deec89-4451-465f-ede4-00438f8efefb"
      },
      "source": [
        "# Number of array elements\r\n",
        "e.size"
      ],
      "execution_count": 27,
      "outputs": [
        {
          "output_type": "execute_result",
          "data": {
            "text/plain": [
              "9"
            ]
          },
          "metadata": {
            "tags": []
          },
          "execution_count": 27
        }
      ]
    },
    {
      "cell_type": "code",
      "metadata": {
        "colab": {
          "base_uri": "https://localhost:8080/"
        },
        "id": "Swo7SRQSk7ja",
        "outputId": "a42d8206-c476-436a-c32e-6f8141851d9a"
      },
      "source": [
        "# Data type of array elements\r\n",
        "b.dtype"
      ],
      "execution_count": 28,
      "outputs": [
        {
          "output_type": "execute_result",
          "data": {
            "text/plain": [
              "dtype('float64')"
            ]
          },
          "metadata": {
            "tags": []
          },
          "execution_count": 28
        }
      ]
    },
    {
      "cell_type": "code",
      "metadata": {
        "colab": {
          "base_uri": "https://localhost:8080/",
          "height": 35
        },
        "id": "Mi2zA3sClHhJ",
        "outputId": "e2554b25-e565-4aba-aed0-3b3a462cd0df"
      },
      "source": [
        "# Name of data type\r\n",
        "b.dtype.name"
      ],
      "execution_count": 29,
      "outputs": [
        {
          "output_type": "execute_result",
          "data": {
            "application/vnd.google.colaboratory.intrinsic+json": {
              "type": "string"
            },
            "text/plain": [
              "'float64'"
            ]
          },
          "metadata": {
            "tags": []
          },
          "execution_count": 29
        }
      ]
    },
    {
      "cell_type": "code",
      "metadata": {
        "colab": {
          "base_uri": "https://localhost:8080/"
        },
        "id": "kWe3XK4WlNkU",
        "outputId": "2056e28f-4f99-4c92-fcc8-7115c55e58da"
      },
      "source": [
        "# Convert an array to a different type\r\n",
        "b.astype(int)"
      ],
      "execution_count": 30,
      "outputs": [
        {
          "output_type": "execute_result",
          "data": {
            "text/plain": [
              "array([[1, 2, 3],\n",
              "       [4, 5, 6]])"
            ]
          },
          "metadata": {
            "tags": []
          },
          "execution_count": 30
        }
      ]
    },
    {
      "cell_type": "markdown",
      "metadata": {
        "id": "v3CQ-YvpqnV5"
      },
      "source": [
        "# Array Mathematics"
      ]
    },
    {
      "cell_type": "markdown",
      "metadata": {
        "id": "DElp4WkaqvZC"
      },
      "source": [
        "## Arithmetic Operations"
      ]
    },
    {
      "cell_type": "code",
      "metadata": {
        "colab": {
          "base_uri": "https://localhost:8080/"
        },
        "id": "cGARPQ-glSZN",
        "outputId": "39e85f82-a914-4751-c13c-b4f7faaf14eb"
      },
      "source": [
        "print(a)\r\n",
        "print(b)"
      ],
      "execution_count": 32,
      "outputs": [
        {
          "output_type": "stream",
          "text": [
            "[1 2 3]\n",
            "[[1.5 2.  3. ]\n",
            " [4.  5.  6. ]]\n"
          ],
          "name": "stdout"
        }
      ]
    },
    {
      "cell_type": "code",
      "metadata": {
        "colab": {
          "base_uri": "https://localhost:8080/"
        },
        "id": "K-Sms_DNrVNV",
        "outputId": "b4fd2757-bf07-4640-9270-389dbb882e55"
      },
      "source": [
        "# Subtraction\r\n",
        "g = a-b\r\n",
        "g\r\n",
        "np.subtract(a,b)"
      ],
      "execution_count": 33,
      "outputs": [
        {
          "output_type": "execute_result",
          "data": {
            "text/plain": [
              "array([[-0.5,  0. ,  0. ],\n",
              "       [-3. , -3. , -3. ]])"
            ]
          },
          "metadata": {
            "tags": []
          },
          "execution_count": 33
        }
      ]
    },
    {
      "cell_type": "code",
      "metadata": {
        "colab": {
          "base_uri": "https://localhost:8080/"
        },
        "id": "lykizIfUq_9l",
        "outputId": "c680217e-b9ca-44db-dbf1-165d37f915cf"
      },
      "source": [
        "# Addition\r\n",
        "np.add(b,a)"
      ],
      "execution_count": 35,
      "outputs": [
        {
          "output_type": "execute_result",
          "data": {
            "text/plain": [
              "array([[2.5, 4. , 6. ],\n",
              "       [5. , 7. , 9. ]])"
            ]
          },
          "metadata": {
            "tags": []
          },
          "execution_count": 35
        }
      ]
    },
    {
      "cell_type": "code",
      "metadata": {
        "colab": {
          "base_uri": "https://localhost:8080/"
        },
        "id": "B3jTNRmyuz4L",
        "outputId": "df4edec0-dc9e-4426-c0f3-d8e86f91e84f"
      },
      "source": [
        "# Division\r\n",
        "np.divide(a,b)"
      ],
      "execution_count": 36,
      "outputs": [
        {
          "output_type": "execute_result",
          "data": {
            "text/plain": [
              "array([[0.66666667, 1.        , 1.        ],\n",
              "       [0.25      , 0.4       , 0.5       ]])"
            ]
          },
          "metadata": {
            "tags": []
          },
          "execution_count": 36
        }
      ]
    },
    {
      "cell_type": "code",
      "metadata": {
        "colab": {
          "base_uri": "https://localhost:8080/"
        },
        "id": "z2nytfHJu8ai",
        "outputId": "b8aa4199-f11c-428b-95cf-c0bbdbc99d6d"
      },
      "source": [
        "# Multiplication\r\n",
        "np.multiply(a,b)"
      ],
      "execution_count": 37,
      "outputs": [
        {
          "output_type": "execute_result",
          "data": {
            "text/plain": [
              "array([[ 1.5,  4. ,  9. ],\n",
              "       [ 4. , 10. , 18. ]])"
            ]
          },
          "metadata": {
            "tags": []
          },
          "execution_count": 37
        }
      ]
    },
    {
      "cell_type": "code",
      "metadata": {
        "colab": {
          "base_uri": "https://localhost:8080/"
        },
        "id": "SDU3ywuUvFng",
        "outputId": "d091ce99-d995-486d-870b-cf5ca53fbd20"
      },
      "source": [
        "# Exponentiation\r\n",
        "np.exp(b)"
      ],
      "execution_count": 38,
      "outputs": [
        {
          "output_type": "execute_result",
          "data": {
            "text/plain": [
              "array([[  4.48168907,   7.3890561 ,  20.08553692],\n",
              "       [ 54.59815003, 148.4131591 , 403.42879349]])"
            ]
          },
          "metadata": {
            "tags": []
          },
          "execution_count": 38
        }
      ]
    },
    {
      "cell_type": "code",
      "metadata": {
        "colab": {
          "base_uri": "https://localhost:8080/"
        },
        "id": "h-WQOjl7vJiX",
        "outputId": "2433a0af-3230-40db-8487-1885f39ee7f9"
      },
      "source": [
        "# Squareroot\r\n",
        "np.sqrt(b)"
      ],
      "execution_count": 40,
      "outputs": [
        {
          "output_type": "execute_result",
          "data": {
            "text/plain": [
              "array([[1.22474487, 1.41421356, 1.73205081],\n",
              "       [2.        , 2.23606798, 2.44948974]])"
            ]
          },
          "metadata": {
            "tags": []
          },
          "execution_count": 40
        }
      ]
    },
    {
      "cell_type": "code",
      "metadata": {
        "colab": {
          "base_uri": "https://localhost:8080/"
        },
        "id": "GcynYMwlvNUG",
        "outputId": "ab2992d6-68dc-4361-eccd-2a82f6008b9a"
      },
      "source": [
        "# Logarithm\r\n",
        "np.log(a)"
      ],
      "execution_count": 41,
      "outputs": [
        {
          "output_type": "execute_result",
          "data": {
            "text/plain": [
              "array([0.        , 0.69314718, 1.09861229])"
            ]
          },
          "metadata": {
            "tags": []
          },
          "execution_count": 41
        }
      ]
    },
    {
      "cell_type": "code",
      "metadata": {
        "colab": {
          "base_uri": "https://localhost:8080/"
        },
        "id": "vWEswCDFvRTR",
        "outputId": "6b23eca2-2a91-4d5e-c0cf-130e607f8052"
      },
      "source": [
        "# Print sin and cos of arrays\r\n",
        "print(np.sin(a))\r\n",
        "print(np.cos(b))\r\n"
      ],
      "execution_count": 42,
      "outputs": [
        {
          "output_type": "stream",
          "text": [
            "[0.84147098 0.90929743 0.14112001]\n",
            "[[ 0.0707372  -0.41614684 -0.9899925 ]\n",
            " [-0.65364362  0.28366219  0.96017029]]\n"
          ],
          "name": "stdout"
        }
      ]
    },
    {
      "cell_type": "code",
      "metadata": {
        "colab": {
          "base_uri": "https://localhost:8080/"
        },
        "id": "SFOApqb5vbKR",
        "outputId": "18d133ed-cfe3-409a-f663-542e96eee6f8"
      },
      "source": [
        "# Dot product\r\n",
        "e = np.full((2,2),7)\r\n",
        "e.dot(f)"
      ],
      "execution_count": 52,
      "outputs": [
        {
          "output_type": "execute_result",
          "data": {
            "text/plain": [
              "array([[7., 7.],\n",
              "       [7., 7.]])"
            ]
          },
          "metadata": {
            "tags": []
          },
          "execution_count": 52
        }
      ]
    },
    {
      "cell_type": "markdown",
      "metadata": {
        "id": "DK11lMsawQak"
      },
      "source": [
        "## Comparison"
      ]
    },
    {
      "cell_type": "code",
      "metadata": {
        "colab": {
          "base_uri": "https://localhost:8080/"
        },
        "id": "86I1R1mqvfva",
        "outputId": "b8a51fce-3dd0-4e36-9058-890ad284cd3a"
      },
      "source": [
        "# Element wise comparison\r\n",
        "a == b"
      ],
      "execution_count": 53,
      "outputs": [
        {
          "output_type": "execute_result",
          "data": {
            "text/plain": [
              "array([[False,  True,  True],\n",
              "       [False, False, False]])"
            ]
          },
          "metadata": {
            "tags": []
          },
          "execution_count": 53
        }
      ]
    },
    {
      "cell_type": "code",
      "metadata": {
        "colab": {
          "base_uri": "https://localhost:8080/"
        },
        "id": "P0PglKDxvrlm",
        "outputId": "2e6667bb-631f-41a2-cb1d-a14c429760c2"
      },
      "source": [
        "# Element wise comparison\r\n",
        "a < 2"
      ],
      "execution_count": 54,
      "outputs": [
        {
          "output_type": "execute_result",
          "data": {
            "text/plain": [
              "array([ True, False, False])"
            ]
          },
          "metadata": {
            "tags": []
          },
          "execution_count": 54
        }
      ]
    },
    {
      "cell_type": "code",
      "metadata": {
        "colab": {
          "base_uri": "https://localhost:8080/"
        },
        "id": "vBK54ToUwZsb",
        "outputId": "db779cf8-cb31-457b-db11-3b7bd4e56254"
      },
      "source": [
        "# Array wise comparison\r\n",
        "np.array_equal(a,b)"
      ],
      "execution_count": 55,
      "outputs": [
        {
          "output_type": "execute_result",
          "data": {
            "text/plain": [
              "False"
            ]
          },
          "metadata": {
            "tags": []
          },
          "execution_count": 55
        }
      ]
    },
    {
      "cell_type": "markdown",
      "metadata": {
        "id": "CBQKR-J-wnAZ"
      },
      "source": [
        "## Aggregate Functions"
      ]
    },
    {
      "cell_type": "code",
      "metadata": {
        "colab": {
          "base_uri": "https://localhost:8080/"
        },
        "id": "9-lFRVZ4wfs0",
        "outputId": "5a683b8c-7d67-40a1-abc1-685b030c29cd"
      },
      "source": [
        "# Array-wise sum\r\n",
        "a.sum()"
      ],
      "execution_count": 56,
      "outputs": [
        {
          "output_type": "execute_result",
          "data": {
            "text/plain": [
              "6"
            ]
          },
          "metadata": {
            "tags": []
          },
          "execution_count": 56
        }
      ]
    },
    {
      "cell_type": "code",
      "metadata": {
        "colab": {
          "base_uri": "https://localhost:8080/"
        },
        "id": "F-de3xNnwtDq",
        "outputId": "654c64c8-2908-445a-cec1-35cbcf3ce984"
      },
      "source": [
        "# Array-wise minimum value\r\n",
        "b.min()"
      ],
      "execution_count": 57,
      "outputs": [
        {
          "output_type": "execute_result",
          "data": {
            "text/plain": [
              "1.5"
            ]
          },
          "metadata": {
            "tags": []
          },
          "execution_count": 57
        }
      ]
    },
    {
      "cell_type": "code",
      "metadata": {
        "colab": {
          "base_uri": "https://localhost:8080/"
        },
        "id": "-iQkcuFBwxOb",
        "outputId": "c991c0c1-a947-4f61-a02c-d0afc78d287b"
      },
      "source": [
        "# Maximum value of an array row\r\n",
        "b.max(axis=0)"
      ],
      "execution_count": 58,
      "outputs": [
        {
          "output_type": "execute_result",
          "data": {
            "text/plain": [
              "array([4., 5., 6.])"
            ]
          },
          "metadata": {
            "tags": []
          },
          "execution_count": 58
        }
      ]
    },
    {
      "cell_type": "code",
      "metadata": {
        "colab": {
          "base_uri": "https://localhost:8080/"
        },
        "id": "03znGWXuw3sJ",
        "outputId": "6ea6f9c3-d6dd-4f2c-e3b2-9a84945ce0aa"
      },
      "source": [
        "# Cumulative sum of the elements\r\n",
        "b.cumsum(axis=1)"
      ],
      "execution_count": 59,
      "outputs": [
        {
          "output_type": "execute_result",
          "data": {
            "text/plain": [
              "array([[ 1.5,  3.5,  6.5],\n",
              "       [ 4. ,  9. , 15. ]])"
            ]
          },
          "metadata": {
            "tags": []
          },
          "execution_count": 59
        }
      ]
    },
    {
      "cell_type": "code",
      "metadata": {
        "colab": {
          "base_uri": "https://localhost:8080/"
        },
        "id": "CBAdor9qw9zs",
        "outputId": "1e92a675-17ce-431c-ee2a-daeb639f0cb0"
      },
      "source": [
        "# Mean\r\n",
        "a.mean()"
      ],
      "execution_count": 60,
      "outputs": [
        {
          "output_type": "execute_result",
          "data": {
            "text/plain": [
              "2.0"
            ]
          },
          "metadata": {
            "tags": []
          },
          "execution_count": 60
        }
      ]
    },
    {
      "cell_type": "code",
      "metadata": {
        "colab": {
          "base_uri": "https://localhost:8080/"
        },
        "id": "hQGclnWtxDAU",
        "outputId": "847b425a-fd45-4859-eefd-29f6653a2321"
      },
      "source": [
        "# Median\r\n",
        "np.median(b)"
      ],
      "execution_count": 63,
      "outputs": [
        {
          "output_type": "execute_result",
          "data": {
            "text/plain": [
              "3.5"
            ]
          },
          "metadata": {
            "tags": []
          },
          "execution_count": 63
        }
      ]
    },
    {
      "cell_type": "code",
      "metadata": {
        "colab": {
          "base_uri": "https://localhost:8080/"
        },
        "id": "NOIu_AuAxFdq",
        "outputId": "2fb882d3-1314-4fd0-cdb5-af158c7afff1"
      },
      "source": [
        "# Correlation\r\n",
        "np.corrcoef(a)"
      ],
      "execution_count": 65,
      "outputs": [
        {
          "output_type": "execute_result",
          "data": {
            "text/plain": [
              "1.0"
            ]
          },
          "metadata": {
            "tags": []
          },
          "execution_count": 65
        }
      ]
    },
    {
      "cell_type": "code",
      "metadata": {
        "colab": {
          "base_uri": "https://localhost:8080/"
        },
        "id": "abRR7kKrxvXS",
        "outputId": "d5fee233-60b5-443c-8fc4-7a330000a532"
      },
      "source": [
        "# standard deviation\r\n",
        "np.std(b)"
      ],
      "execution_count": 66,
      "outputs": [
        {
          "output_type": "execute_result",
          "data": {
            "text/plain": [
              "1.5920810978785667"
            ]
          },
          "metadata": {
            "tags": []
          },
          "execution_count": 66
        }
      ]
    },
    {
      "cell_type": "code",
      "metadata": {
        "colab": {
          "base_uri": "https://localhost:8080/"
        },
        "id": "EFEWSSiix1aW",
        "outputId": "34a8b560-34fa-46c2-864c-a22509a18a6a"
      },
      "source": [
        "# variance\r\n",
        "np.var(b)"
      ],
      "execution_count": 67,
      "outputs": [
        {
          "output_type": "execute_result",
          "data": {
            "text/plain": [
              "2.534722222222222"
            ]
          },
          "metadata": {
            "tags": []
          },
          "execution_count": 67
        }
      ]
    },
    {
      "cell_type": "markdown",
      "metadata": {
        "id": "2fmSwp2q0TFk"
      },
      "source": [
        "# Copying arrays"
      ]
    },
    {
      "cell_type": "code",
      "metadata": {
        "colab": {
          "base_uri": "https://localhost:8080/"
        },
        "id": "gnvhgakKx7QE",
        "outputId": "71813f3a-815f-41a1-b63f-d5c25b364291"
      },
      "source": [
        "# Create a view of the array with the same data\r\n",
        "h = a.view()\r\n",
        "h"
      ],
      "execution_count": 68,
      "outputs": [
        {
          "output_type": "execute_result",
          "data": {
            "text/plain": [
              "array([1, 2, 3])"
            ]
          },
          "metadata": {
            "tags": []
          },
          "execution_count": 68
        }
      ]
    },
    {
      "cell_type": "code",
      "metadata": {
        "colab": {
          "base_uri": "https://localhost:8080/"
        },
        "id": "HU2aFihp0bye",
        "outputId": "8b140392-cbbe-4eb3-d21e-0377a57d060a"
      },
      "source": [
        "# Create a copy of the array\r\n",
        "np.copy(a)"
      ],
      "execution_count": 69,
      "outputs": [
        {
          "output_type": "execute_result",
          "data": {
            "text/plain": [
              "array([1, 2, 3])"
            ]
          },
          "metadata": {
            "tags": []
          },
          "execution_count": 69
        }
      ]
    },
    {
      "cell_type": "code",
      "metadata": {
        "colab": {
          "base_uri": "https://localhost:8080/"
        },
        "id": "Fj2ZjFoY0hO1",
        "outputId": "93dc4253-117c-4bf3-e270-35cca7c8ba0f"
      },
      "source": [
        "# Create a deep copy of the array\r\n",
        "h = a.copy()\r\n",
        "h"
      ],
      "execution_count": 71,
      "outputs": [
        {
          "output_type": "execute_result",
          "data": {
            "text/plain": [
              "array([1, 2, 3])"
            ]
          },
          "metadata": {
            "tags": []
          },
          "execution_count": 71
        }
      ]
    },
    {
      "cell_type": "markdown",
      "metadata": {
        "id": "psHZ77Rl0qiW"
      },
      "source": [
        "# Sorting Arrays"
      ]
    },
    {
      "cell_type": "code",
      "metadata": {
        "id": "T-J6i4ey0m5Y"
      },
      "source": [
        "# Sort an array\r\n",
        "a.sort()"
      ],
      "execution_count": 72,
      "outputs": []
    },
    {
      "cell_type": "code",
      "metadata": {
        "colab": {
          "base_uri": "https://localhost:8080/"
        },
        "id": "9po8C0f00vev",
        "outputId": "eb57f30c-ec12-4f5e-e180-4c53cf318fa0"
      },
      "source": [
        "# Sort the elements of an array's axis\r\n",
        "c.sort(axis=0)\r\n",
        "c"
      ],
      "execution_count": 75,
      "outputs": [
        {
          "output_type": "execute_result",
          "data": {
            "text/plain": [
              "array([[[1.5, 2. , 1. ],\n",
              "        [4. , 5. , 6. ]],\n",
              "\n",
              "       [[3. , 2. , 3. ],\n",
              "        [4. , 5. , 6. ]]])"
            ]
          },
          "metadata": {
            "tags": []
          },
          "execution_count": 75
        }
      ]
    },
    {
      "cell_type": "markdown",
      "metadata": {
        "id": "269XSR0a1BZZ"
      },
      "source": [
        "# Subsetting, Slicing and Indexing"
      ]
    },
    {
      "cell_type": "code",
      "metadata": {
        "colab": {
          "base_uri": "https://localhost:8080/"
        },
        "id": "I7drNBRL0xB7",
        "outputId": "2df22277-28c9-4497-8065-2b2d0c8dc57c"
      },
      "source": [
        "# Subsetting\r\n",
        "# Select the element at the 2 index\r\n",
        "a[2]"
      ],
      "execution_count": 76,
      "outputs": [
        {
          "output_type": "execute_result",
          "data": {
            "text/plain": [
              "3"
            ]
          },
          "metadata": {
            "tags": []
          },
          "execution_count": 76
        }
      ]
    },
    {
      "cell_type": "code",
      "metadata": {
        "colab": {
          "base_uri": "https://localhost:8080/"
        },
        "id": "5vCBzt_w1WdA",
        "outputId": "c02e1f47-016c-4f6f-b8a0-62a86d7b9097"
      },
      "source": [
        "# Select the element at row 1 and column 2\r\n",
        "b[1][2]"
      ],
      "execution_count": 77,
      "outputs": [
        {
          "output_type": "execute_result",
          "data": {
            "text/plain": [
              "6.0"
            ]
          },
          "metadata": {
            "tags": []
          },
          "execution_count": 77
        }
      ]
    },
    {
      "cell_type": "code",
      "metadata": {
        "colab": {
          "base_uri": "https://localhost:8080/"
        },
        "id": "3BJAO1Zb1fMk",
        "outputId": "1fd4f9b5-edcc-4dae-e887-633470a9b0f1"
      },
      "source": [
        "# Slicing\r\n",
        "# Select items at index 0 and 1\r\n",
        "a[0:2]"
      ],
      "execution_count": 78,
      "outputs": [
        {
          "output_type": "execute_result",
          "data": {
            "text/plain": [
              "array([1, 2])"
            ]
          },
          "metadata": {
            "tags": []
          },
          "execution_count": 78
        }
      ]
    },
    {
      "cell_type": "code",
      "metadata": {
        "colab": {
          "base_uri": "https://localhost:8080/"
        },
        "id": "6jYlpVXg2FiX",
        "outputId": "a85b756b-ee84-4b4b-e47c-788a3f31e6d0"
      },
      "source": [
        "# Select items at rows 0 and 1 and column 1\r\n",
        "b[0:2,1]"
      ],
      "execution_count": 79,
      "outputs": [
        {
          "output_type": "execute_result",
          "data": {
            "text/plain": [
              "array([2., 5.])"
            ]
          },
          "metadata": {
            "tags": []
          },
          "execution_count": 79
        }
      ]
    },
    {
      "cell_type": "code",
      "metadata": {
        "colab": {
          "base_uri": "https://localhost:8080/"
        },
        "id": "QcNK4_gl2Te-",
        "outputId": "91666d8a-e194-4973-efdb-b60bebe01184"
      },
      "source": [
        "# Select all items at row 0\r\n",
        "b[:1]"
      ],
      "execution_count": 80,
      "outputs": [
        {
          "output_type": "execute_result",
          "data": {
            "text/plain": [
              "array([[1.5, 2. , 3. ]])"
            ]
          },
          "metadata": {
            "tags": []
          },
          "execution_count": 80
        }
      ]
    },
    {
      "cell_type": "code",
      "metadata": {
        "colab": {
          "base_uri": "https://localhost:8080/"
        },
        "id": "haZ8rn5R7C0c",
        "outputId": "9ccc1037-1bbb-4d2e-df4d-0d4d316cedf9"
      },
      "source": [
        "# Boolean indexing\r\n",
        "a[a<2]"
      ],
      "execution_count": 81,
      "outputs": [
        {
          "output_type": "execute_result",
          "data": {
            "text/plain": [
              "array([1])"
            ]
          },
          "metadata": {
            "tags": []
          },
          "execution_count": 81
        }
      ]
    },
    {
      "cell_type": "markdown",
      "metadata": {
        "id": "G-N-7E9p7yat"
      },
      "source": [
        "# Array Manipulation"
      ]
    },
    {
      "cell_type": "code",
      "metadata": {
        "colab": {
          "base_uri": "https://localhost:8080/"
        },
        "id": "KOTBxjgo7vfu",
        "outputId": "c8555f71-5db7-4098-d830-fd499e0b35b2"
      },
      "source": [
        "# #Permute array dimensions\r\n",
        "i = np.transpose(b)\r\n",
        "i"
      ],
      "execution_count": 84,
      "outputs": [
        {
          "output_type": "execute_result",
          "data": {
            "text/plain": [
              "array([[1.5, 4. ],\n",
              "       [2. , 5. ],\n",
              "       [3. , 6. ]])"
            ]
          },
          "metadata": {
            "tags": []
          },
          "execution_count": 84
        }
      ]
    },
    {
      "cell_type": "code",
      "metadata": {
        "colab": {
          "base_uri": "https://localhost:8080/"
        },
        "id": "jmXHZCvPBOYo",
        "outputId": "dc66a6a2-596c-4275-8d89-14dbe20d4ee3"
      },
      "source": [
        "# Changing Array shape\r\n",
        "# Flatten the array, Reshape but don't change the data\r\n",
        "print(b.ravel())\r\n",
        "print(g.reshape(3,-2))"
      ],
      "execution_count": 87,
      "outputs": [
        {
          "output_type": "stream",
          "text": [
            "[1.5 2.  3.  4.  5.  6. ]\n",
            "[[-0.5  0. ]\n",
            " [ 0.  -3. ]\n",
            " [-3.  -3. ]]\n"
          ],
          "name": "stdout"
        }
      ]
    },
    {
      "cell_type": "code",
      "metadata": {
        "colab": {
          "base_uri": "https://localhost:8080/"
        },
        "id": "cLvv7f39BPYH",
        "outputId": "2a546baa-454a-4b19-934b-25b6f243b1a0"
      },
      "source": [
        "# Adding/ Removing Elements\r\n",
        "# 1. Return a new array with shape (2,6)\r\n",
        "np.resize(h,(2,6))"
      ],
      "execution_count": 89,
      "outputs": [
        {
          "output_type": "execute_result",
          "data": {
            "text/plain": [
              "array([[1, 2, 3, 1, 2, 3],\n",
              "       [1, 2, 3, 1, 2, 3]])"
            ]
          },
          "metadata": {
            "tags": []
          },
          "execution_count": 89
        }
      ]
    },
    {
      "cell_type": "code",
      "metadata": {
        "colab": {
          "base_uri": "https://localhost:8080/"
        },
        "id": "fhDg-QUsFE7S",
        "outputId": "189a1392-23e2-4998-be19-8cce47acdd02"
      },
      "source": [
        "# 2. Append items to an array\r\n",
        "np.append(h,g)"
      ],
      "execution_count": 90,
      "outputs": [
        {
          "output_type": "execute_result",
          "data": {
            "text/plain": [
              "array([ 1. ,  2. ,  3. , -0.5,  0. ,  0. , -3. , -3. , -3. ])"
            ]
          },
          "metadata": {
            "tags": []
          },
          "execution_count": 90
        }
      ]
    },
    {
      "cell_type": "code",
      "metadata": {
        "colab": {
          "base_uri": "https://localhost:8080/"
        },
        "id": "ydIl9VTFFRsp",
        "outputId": "bc975ce3-42f0-4eb0-eaa7-2a3ceeda32ba"
      },
      "source": [
        "# Insert items in an array\r\n",
        "np.insert(a,1,5)\r\n",
        "# a = array name\r\n",
        "# 2 argument = index position of the array\r\n",
        "# 3 argument = the value at the specified index in the array"
      ],
      "execution_count": 91,
      "outputs": [
        {
          "output_type": "execute_result",
          "data": {
            "text/plain": [
              "array([1, 5, 2, 3])"
            ]
          },
          "metadata": {
            "tags": []
          },
          "execution_count": 91
        }
      ]
    },
    {
      "cell_type": "code",
      "metadata": {
        "colab": {
          "base_uri": "https://localhost:8080/"
        },
        "id": "pHM8RicvFXLD",
        "outputId": "c09aaf3d-fb1d-4ec0-c325-20e05101ab34"
      },
      "source": [
        "# Delete items from an array\r\n",
        "np.delete(a, (1))"
      ],
      "execution_count": 92,
      "outputs": [
        {
          "output_type": "execute_result",
          "data": {
            "text/plain": [
              "array([1, 3])"
            ]
          },
          "metadata": {
            "tags": []
          },
          "execution_count": 92
        }
      ]
    },
    {
      "cell_type": "code",
      "metadata": {
        "colab": {
          "base_uri": "https://localhost:8080/"
        },
        "id": "6Nko5aD-Frt0",
        "outputId": "0031c92a-0895-444c-b660-15a71e07c1a7"
      },
      "source": [
        "# Combining Arrays\r\n",
        "# Concatenate Arrays\r\n",
        "np.concatenate((a,d), axis=0)"
      ],
      "execution_count": 93,
      "outputs": [
        {
          "output_type": "execute_result",
          "data": {
            "text/plain": [
              "array([ 1,  2,  3, 10, 15, 20])"
            ]
          },
          "metadata": {
            "tags": []
          },
          "execution_count": 93
        }
      ]
    },
    {
      "cell_type": "code",
      "metadata": {
        "colab": {
          "base_uri": "https://localhost:8080/"
        },
        "id": "yRUUigqfF2zk",
        "outputId": "b39dfc4d-1c61-4e04-d2f5-eb0a06c6dce2"
      },
      "source": [
        "# Stack arrays vertically (row-wise)\r\n",
        "np.vstack((a,b))\r\n",
        "# np.r_[e,f]"
      ],
      "execution_count": 94,
      "outputs": [
        {
          "output_type": "execute_result",
          "data": {
            "text/plain": [
              "array([[1. , 2. , 3. ],\n",
              "       [1.5, 2. , 3. ],\n",
              "       [4. , 5. , 6. ]])"
            ]
          },
          "metadata": {
            "tags": []
          },
          "execution_count": 94
        }
      ]
    },
    {
      "cell_type": "code",
      "metadata": {
        "colab": {
          "base_uri": "https://localhost:8080/"
        },
        "id": "bIxq2KqrGF5V",
        "outputId": "e97e754c-a6d2-42c2-8b0d-8806f1b0eb47"
      },
      "source": [
        "# Stack arrays horizontally (column-wise)\r\n",
        "np.hstack((e,f))"
      ],
      "execution_count": 95,
      "outputs": [
        {
          "output_type": "execute_result",
          "data": {
            "text/plain": [
              "array([[7., 7., 1., 0.],\n",
              "       [7., 7., 0., 1.]])"
            ]
          },
          "metadata": {
            "tags": []
          },
          "execution_count": 95
        }
      ]
    },
    {
      "cell_type": "code",
      "metadata": {
        "colab": {
          "base_uri": "https://localhost:8080/"
        },
        "id": "WBsRTlNfGfXj",
        "outputId": "c67e5758-9c5f-49fd-f8fa-28ff29a7d3ae"
      },
      "source": [
        "# Create stacked column wise arrays\r\n",
        "np.column_stack((a,d))\r\n",
        "# np.c_[a,d]"
      ],
      "execution_count": 97,
      "outputs": [
        {
          "output_type": "execute_result",
          "data": {
            "text/plain": [
              "array([[ 1, 10],\n",
              "       [ 2, 15],\n",
              "       [ 3, 20]])"
            ]
          },
          "metadata": {
            "tags": []
          },
          "execution_count": 97
        }
      ]
    },
    {
      "cell_type": "code",
      "metadata": {
        "colab": {
          "base_uri": "https://localhost:8080/"
        },
        "id": "34xG77njGuKD",
        "outputId": "265e5ac5-b884-452a-c9c7-7211b4800730"
      },
      "source": [
        "## Splitting Arrays\r\n",
        "# Split the array horizontally at 3 index\r\n",
        "np.hsplit(a,3)"
      ],
      "execution_count": 98,
      "outputs": [
        {
          "output_type": "execute_result",
          "data": {
            "text/plain": [
              "[array([1]), array([2]), array([3])]"
            ]
          },
          "metadata": {
            "tags": []
          },
          "execution_count": 98
        }
      ]
    },
    {
      "cell_type": "code",
      "metadata": {
        "colab": {
          "base_uri": "https://localhost:8080/"
        },
        "id": "slCe_dVXG9mN",
        "outputId": "95b837da-7ff4-46a4-db41-3a250c2812f5"
      },
      "source": [
        "# Split the array vertically at 2 index\r\n",
        "np.vsplit(c,2)"
      ],
      "execution_count": 99,
      "outputs": [
        {
          "output_type": "execute_result",
          "data": {
            "text/plain": [
              "[array([[[1.5, 2. , 1. ],\n",
              "         [4. , 5. , 6. ]]]), array([[[3., 2., 3.],\n",
              "         [4., 5., 6.]]])]"
            ]
          },
          "metadata": {
            "tags": []
          },
          "execution_count": 99
        }
      ]
    },
    {
      "cell_type": "code",
      "metadata": {
        "id": "cwM98VvZHFhd"
      },
      "source": [
        ""
      ],
      "execution_count": null,
      "outputs": []
    }
  ]
}