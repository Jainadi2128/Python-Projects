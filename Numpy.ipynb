{
  "nbformat": 4,
  "nbformat_minor": 0,
  "metadata": {
    "colab": {
      "name": "Numpy.ipynb",
      "provenance": [],
      "authorship_tag": "ABX9TyOl07YTqHmo1e0NxOFY3Na1",
      "include_colab_link": true
    },
    "kernelspec": {
      "name": "python3",
      "display_name": "Python 3"
    }
  },
  "cells": [
    {
      "cell_type": "markdown",
      "metadata": {
        "id": "view-in-github",
        "colab_type": "text"
      },
      "source": [
        "<a href=\"https://colab.research.google.com/github/Jainadi2128/Python-Projects/blob/main/Numpy.ipynb\" target=\"_parent\"><img src=\"https://colab.research.google.com/assets/colab-badge.svg\" alt=\"Open In Colab\"/></a>"
      ]
    },
    {
      "cell_type": "code",
      "metadata": {
        "id": "8q4CAWCzJvir"
      },
      "source": [
        "import numpy as np"
      ],
      "execution_count": 2,
      "outputs": []
    },
    {
      "cell_type": "markdown",
      "metadata": {
        "id": "pZimKBPZazVw"
      },
      "source": [
        "## Creating Arrays"
      ]
    },
    {
      "cell_type": "code",
      "metadata": {
        "colab": {
          "base_uri": "https://localhost:8080/"
        },
        "id": "jEoFHIjgQHSd",
        "outputId": "fd7c576d-1e86-4d05-ff72-8479b861e3c6"
      },
      "source": [
        "a = np.array([1,2,3])\r\n",
        "print(a)"
      ],
      "execution_count": 3,
      "outputs": [
        {
          "output_type": "stream",
          "text": [
            "[1 2 3]\n"
          ],
          "name": "stdout"
        }
      ]
    },
    {
      "cell_type": "code",
      "metadata": {
        "colab": {
          "base_uri": "https://localhost:8080/"
        },
        "id": "j9FnQPeBa9kG",
        "outputId": "2531b645-d37b-4782-b013-7d13203bf7e7"
      },
      "source": [
        "b = np.array([(1.5,2,3), (4,5,6)], dtype=float)\r\n",
        "print(b)"
      ],
      "execution_count": 4,
      "outputs": [
        {
          "output_type": "stream",
          "text": [
            "[[1.5 2.  3. ]\n",
            " [4.  5.  6. ]]\n"
          ],
          "name": "stdout"
        }
      ]
    },
    {
      "cell_type": "code",
      "metadata": {
        "colab": {
          "base_uri": "https://localhost:8080/"
        },
        "id": "b9dEC2TFbgkY",
        "outputId": "593f1856-3ea9-44ca-e5eb-e4605f440d83"
      },
      "source": [
        "c = np.array([[(1.5,2,3),(4,5,6)], [(3,2,1),(4,5,6)]])\r\n",
        "print(c)"
      ],
      "execution_count": 5,
      "outputs": [
        {
          "output_type": "stream",
          "text": [
            "[[[1.5 2.  3. ]\n",
            "  [4.  5.  6. ]]\n",
            "\n",
            " [[3.  2.  1. ]\n",
            "  [4.  5.  6. ]]]\n"
          ],
          "name": "stdout"
        }
      ]
    },
    {
      "cell_type": "markdown",
      "metadata": {
        "id": "fCOMho3tcVKT"
      },
      "source": [
        "## Initial Placeholders"
      ]
    },
    {
      "cell_type": "code",
      "metadata": {
        "colab": {
          "base_uri": "https://localhost:8080/"
        },
        "id": "EGUQRbuKb_Co",
        "outputId": "0d35098e-baef-45e8-f396-0987f66e0713"
      },
      "source": [
        "# Create an array of zeros\r\n",
        "np.zeros((3,4))"
      ],
      "execution_count": 6,
      "outputs": [
        {
          "output_type": "execute_result",
          "data": {
            "text/plain": [
              "array([[0., 0., 0., 0.],\n",
              "       [0., 0., 0., 0.],\n",
              "       [0., 0., 0., 0.]])"
            ]
          },
          "metadata": {
            "tags": []
          },
          "execution_count": 6
        }
      ]
    },
    {
      "cell_type": "code",
      "metadata": {
        "colab": {
          "base_uri": "https://localhost:8080/"
        },
        "id": "2o93RDy1chbF",
        "outputId": "2a7ee052-9e8a-418f-be47-e7268fa43595"
      },
      "source": [
        "# Create an array of ones\r\n",
        "np.ones((2,3,4),dtype=np.int16)"
      ],
      "execution_count": 7,
      "outputs": [
        {
          "output_type": "execute_result",
          "data": {
            "text/plain": [
              "array([[[1, 1, 1, 1],\n",
              "        [1, 1, 1, 1],\n",
              "        [1, 1, 1, 1]],\n",
              "\n",
              "       [[1, 1, 1, 1],\n",
              "        [1, 1, 1, 1],\n",
              "        [1, 1, 1, 1]]], dtype=int16)"
            ]
          },
          "metadata": {
            "tags": []
          },
          "execution_count": 7
        }
      ]
    },
    {
      "cell_type": "code",
      "metadata": {
        "colab": {
          "base_uri": "https://localhost:8080/"
        },
        "id": "jxzS1Oo2cwTt",
        "outputId": "4c9f0680-1495-41fb-c3ba-e01484e0bd3e"
      },
      "source": [
        "# Create an array of evenly spaced values(step value)\r\n",
        "d = np.arange(10,25,5)\r\n",
        "d"
      ],
      "execution_count": 8,
      "outputs": [
        {
          "output_type": "execute_result",
          "data": {
            "text/plain": [
              "array([10, 15, 20])"
            ]
          },
          "metadata": {
            "tags": []
          },
          "execution_count": 8
        }
      ]
    },
    {
      "cell_type": "code",
      "metadata": {
        "colab": {
          "base_uri": "https://localhost:8080/"
        },
        "id": "UcxoDRnXdS8f",
        "outputId": "01e8d57f-da83-4340-dc4f-6c1aa536bff0"
      },
      "source": [
        "# Create an array of eveny spaced values(number of samples)\r\n",
        "np.linspace(0,2,10)"
      ],
      "execution_count": 9,
      "outputs": [
        {
          "output_type": "execute_result",
          "data": {
            "text/plain": [
              "array([0.        , 0.22222222, 0.44444444, 0.66666667, 0.88888889,\n",
              "       1.11111111, 1.33333333, 1.55555556, 1.77777778, 2.        ])"
            ]
          },
          "metadata": {
            "tags": []
          },
          "execution_count": 9
        }
      ]
    },
    {
      "cell_type": "code",
      "metadata": {
        "colab": {
          "base_uri": "https://localhost:8080/"
        },
        "id": "sY5VRM1LeNi0",
        "outputId": "7616b79f-034f-4281-a51e-f77e267af28d"
      },
      "source": [
        "# Create a constant array\r\n",
        "e = np.full((3,3),9)\r\n",
        "e"
      ],
      "execution_count": 10,
      "outputs": [
        {
          "output_type": "execute_result",
          "data": {
            "text/plain": [
              "array([[9, 9, 9],\n",
              "       [9, 9, 9],\n",
              "       [9, 9, 9]])"
            ]
          },
          "metadata": {
            "tags": []
          },
          "execution_count": 10
        }
      ]
    },
    {
      "cell_type": "code",
      "metadata": {
        "colab": {
          "base_uri": "https://localhost:8080/"
        },
        "id": "I-v7vqi7ecpn",
        "outputId": "4488193c-c8ce-41ff-f8b9-2cabdc01c0e8"
      },
      "source": [
        "# Create a 2x2 identity matrix\r\n",
        "f = np.eye(2)\r\n",
        "f"
      ],
      "execution_count": 11,
      "outputs": [
        {
          "output_type": "execute_result",
          "data": {
            "text/plain": [
              "array([[1., 0.],\n",
              "       [0., 1.]])"
            ]
          },
          "metadata": {
            "tags": []
          },
          "execution_count": 11
        }
      ]
    },
    {
      "cell_type": "code",
      "metadata": {
        "colab": {
          "base_uri": "https://localhost:8080/"
        },
        "id": "VK_KfqUifM6p",
        "outputId": "7227e22c-ae5d-40e5-a1e8-5a9c901985da"
      },
      "source": [
        "# Create an array with random values\r\n",
        "np.random.random((2,2))"
      ],
      "execution_count": 12,
      "outputs": [
        {
          "output_type": "execute_result",
          "data": {
            "text/plain": [
              "array([[0.75630977, 0.48072661],\n",
              "       [0.95443136, 0.07663821]])"
            ]
          },
          "metadata": {
            "tags": []
          },
          "execution_count": 12
        }
      ]
    },
    {
      "cell_type": "code",
      "metadata": {
        "colab": {
          "base_uri": "https://localhost:8080/"
        },
        "id": "OsgJ_OkafqPo",
        "outputId": "07e34cbb-b987-4758-fdfe-2959d4b411b7"
      },
      "source": [
        "# Create an empty array\r\n",
        "np.empty((3,2))"
      ],
      "execution_count": 13,
      "outputs": [
        {
          "output_type": "execute_result",
          "data": {
            "text/plain": [
              "array([[1.5, 2. ],\n",
              "       [3. , 4. ],\n",
              "       [5. , 6. ]])"
            ]
          },
          "metadata": {
            "tags": []
          },
          "execution_count": 13
        }
      ]
    },
    {
      "cell_type": "markdown",
      "metadata": {
        "id": "qgBrYiYFiYbN"
      },
      "source": [
        "## Saving and Loading on Disk"
      ]
    },
    {
      "cell_type": "code",
      "metadata": {
        "id": "zPqgBfgcfyr6"
      },
      "source": [
        "# np.save('my_array',a)\r\n",
        "# np.savez('array.npz',a , b)\r\n",
        "# np.load('my_array.npy')"
      ],
      "execution_count": 14,
      "outputs": []
    },
    {
      "cell_type": "markdown",
      "metadata": {
        "id": "Xa0iVOBuj6_U"
      },
      "source": [
        "## Saving and Loading Text Files"
      ]
    },
    {
      "cell_type": "code",
      "metadata": {
        "id": "XKE0myahj1dD"
      },
      "source": [
        "#np.loadtxt('myfile.txt')\r\n",
        "#np.genfromtxt('myfile.csv', delimiter=',')\r\n",
        "#np.savetxt('myarray.txt', a, delimiter=\" \")"
      ],
      "execution_count": 15,
      "outputs": []
    },
    {
      "cell_type": "markdown",
      "metadata": {
        "id": "1IJ2AmYukcDS"
      },
      "source": [
        "# Inspecting your array"
      ]
    },
    {
      "cell_type": "code",
      "metadata": {
        "colab": {
          "base_uri": "https://localhost:8080/"
        },
        "id": "0LVqbyQHkWqH",
        "outputId": "c6f25366-d64e-4006-a95b-8df4b32daf2c"
      },
      "source": [
        "# Array Dimensions\r\n",
        "a.shape"
      ],
      "execution_count": 16,
      "outputs": [
        {
          "output_type": "execute_result",
          "data": {
            "text/plain": [
              "(3,)"
            ]
          },
          "metadata": {
            "tags": []
          },
          "execution_count": 16
        }
      ]
    },
    {
      "cell_type": "code",
      "metadata": {
        "colab": {
          "base_uri": "https://localhost:8080/"
        },
        "id": "nkB8H0Wxkl2E",
        "outputId": "dd1a71f5-5bdb-44a4-85c1-ed814895203d"
      },
      "source": [
        "# length of array\r\n",
        "len(a)"
      ],
      "execution_count": 17,
      "outputs": [
        {
          "output_type": "execute_result",
          "data": {
            "text/plain": [
              "3"
            ]
          },
          "metadata": {
            "tags": []
          },
          "execution_count": 17
        }
      ]
    },
    {
      "cell_type": "code",
      "metadata": {
        "colab": {
          "base_uri": "https://localhost:8080/"
        },
        "id": "zzAjbR9Wkqdl",
        "outputId": "353d5763-b2d7-4216-8a9b-ca47ef8a43ea"
      },
      "source": [
        "# Number of array dimensions\r\n",
        "b.ndim"
      ],
      "execution_count": 18,
      "outputs": [
        {
          "output_type": "execute_result",
          "data": {
            "text/plain": [
              "2"
            ]
          },
          "metadata": {
            "tags": []
          },
          "execution_count": 18
        }
      ]
    },
    {
      "cell_type": "code",
      "metadata": {
        "colab": {
          "base_uri": "https://localhost:8080/"
        },
        "id": "OAp5gG6-kufd",
        "outputId": "c1d2f933-5084-4ac8-fafb-0f9c0480b01d"
      },
      "source": [
        "# Number of array elements\r\n",
        "e.size"
      ],
      "execution_count": 19,
      "outputs": [
        {
          "output_type": "execute_result",
          "data": {
            "text/plain": [
              "9"
            ]
          },
          "metadata": {
            "tags": []
          },
          "execution_count": 19
        }
      ]
    },
    {
      "cell_type": "code",
      "metadata": {
        "colab": {
          "base_uri": "https://localhost:8080/"
        },
        "id": "Swo7SRQSk7ja",
        "outputId": "b6f2312e-c60b-49c8-efda-1c6ffd9e27f2"
      },
      "source": [
        "# Data type of array elements\r\n",
        "b.dtype"
      ],
      "execution_count": 20,
      "outputs": [
        {
          "output_type": "execute_result",
          "data": {
            "text/plain": [
              "dtype('float64')"
            ]
          },
          "metadata": {
            "tags": []
          },
          "execution_count": 20
        }
      ]
    },
    {
      "cell_type": "code",
      "metadata": {
        "colab": {
          "base_uri": "https://localhost:8080/",
          "height": 0
        },
        "id": "Mi2zA3sClHhJ",
        "outputId": "dead620a-c944-480c-be57-892517554478"
      },
      "source": [
        "# Name of data type\r\n",
        "b.dtype.name"
      ],
      "execution_count": 21,
      "outputs": [
        {
          "output_type": "execute_result",
          "data": {
            "application/vnd.google.colaboratory.intrinsic+json": {
              "type": "string"
            },
            "text/plain": [
              "'float64'"
            ]
          },
          "metadata": {
            "tags": []
          },
          "execution_count": 21
        }
      ]
    },
    {
      "cell_type": "code",
      "metadata": {
        "colab": {
          "base_uri": "https://localhost:8080/"
        },
        "id": "kWe3XK4WlNkU",
        "outputId": "9009e4b7-963f-4507-9e7a-0b7d957e53d5"
      },
      "source": [
        "# Convert an array to a different type\r\n",
        "b.astype(int)"
      ],
      "execution_count": 22,
      "outputs": [
        {
          "output_type": "execute_result",
          "data": {
            "text/plain": [
              "array([[1, 2, 3],\n",
              "       [4, 5, 6]])"
            ]
          },
          "metadata": {
            "tags": []
          },
          "execution_count": 22
        }
      ]
    },
    {
      "cell_type": "markdown",
      "metadata": {
        "id": "v3CQ-YvpqnV5"
      },
      "source": [
        "# Array Mathematics"
      ]
    },
    {
      "cell_type": "markdown",
      "metadata": {
        "id": "DElp4WkaqvZC"
      },
      "source": [
        "## Arithmetic Operations"
      ]
    },
    {
      "cell_type": "code",
      "metadata": {
        "colab": {
          "base_uri": "https://localhost:8080/"
        },
        "id": "cGARPQ-glSZN",
        "outputId": "31cad655-e1f1-4e4b-90f1-bc72c349f1c5"
      },
      "source": [
        "print(a)\r\n",
        "print(b)"
      ],
      "execution_count": 23,
      "outputs": [
        {
          "output_type": "stream",
          "text": [
            "[1 2 3]\n",
            "[[1.5 2.  3. ]\n",
            " [4.  5.  6. ]]\n"
          ],
          "name": "stdout"
        }
      ]
    },
    {
      "cell_type": "code",
      "metadata": {
        "colab": {
          "base_uri": "https://localhost:8080/"
        },
        "id": "K-Sms_DNrVNV",
        "outputId": "597c5865-1db8-4953-e262-41895a49e147"
      },
      "source": [
        "# Subtraction\r\n",
        "g = a-b\r\n",
        "g\r\n",
        "np.subtract(a,b)"
      ],
      "execution_count": 24,
      "outputs": [
        {
          "output_type": "execute_result",
          "data": {
            "text/plain": [
              "array([[-0.5,  0. ,  0. ],\n",
              "       [-3. , -3. , -3. ]])"
            ]
          },
          "metadata": {
            "tags": []
          },
          "execution_count": 24
        }
      ]
    },
    {
      "cell_type": "code",
      "metadata": {
        "colab": {
          "base_uri": "https://localhost:8080/"
        },
        "id": "lykizIfUq_9l",
        "outputId": "0fa55d25-0279-4eee-cdf8-7f3c328de44b"
      },
      "source": [
        "# Addition\r\n",
        "np.add(b,a)"
      ],
      "execution_count": 25,
      "outputs": [
        {
          "output_type": "execute_result",
          "data": {
            "text/plain": [
              "array([[2.5, 4. , 6. ],\n",
              "       [5. , 7. , 9. ]])"
            ]
          },
          "metadata": {
            "tags": []
          },
          "execution_count": 25
        }
      ]
    },
    {
      "cell_type": "code",
      "metadata": {
        "colab": {
          "base_uri": "https://localhost:8080/"
        },
        "id": "B3jTNRmyuz4L",
        "outputId": "e35aba7e-8bb6-452f-ae54-ea1e10b1965d"
      },
      "source": [
        "# Division\r\n",
        "np.divide(a,b)"
      ],
      "execution_count": 26,
      "outputs": [
        {
          "output_type": "execute_result",
          "data": {
            "text/plain": [
              "array([[0.66666667, 1.        , 1.        ],\n",
              "       [0.25      , 0.4       , 0.5       ]])"
            ]
          },
          "metadata": {
            "tags": []
          },
          "execution_count": 26
        }
      ]
    },
    {
      "cell_type": "code",
      "metadata": {
        "colab": {
          "base_uri": "https://localhost:8080/"
        },
        "id": "z2nytfHJu8ai",
        "outputId": "48982ede-b1ee-409b-dfd0-39d9eae008f5"
      },
      "source": [
        "# Multiplication\r\n",
        "np.multiply(a,b)"
      ],
      "execution_count": 27,
      "outputs": [
        {
          "output_type": "execute_result",
          "data": {
            "text/plain": [
              "array([[ 1.5,  4. ,  9. ],\n",
              "       [ 4. , 10. , 18. ]])"
            ]
          },
          "metadata": {
            "tags": []
          },
          "execution_count": 27
        }
      ]
    },
    {
      "cell_type": "code",
      "metadata": {
        "colab": {
          "base_uri": "https://localhost:8080/"
        },
        "id": "SDU3ywuUvFng",
        "outputId": "48f09af4-df7b-4537-808c-1277f1653c2e"
      },
      "source": [
        "# Exponentiation\r\n",
        "np.exp(b)"
      ],
      "execution_count": 28,
      "outputs": [
        {
          "output_type": "execute_result",
          "data": {
            "text/plain": [
              "array([[  4.48168907,   7.3890561 ,  20.08553692],\n",
              "       [ 54.59815003, 148.4131591 , 403.42879349]])"
            ]
          },
          "metadata": {
            "tags": []
          },
          "execution_count": 28
        }
      ]
    },
    {
      "cell_type": "code",
      "metadata": {
        "colab": {
          "base_uri": "https://localhost:8080/"
        },
        "id": "h-WQOjl7vJiX",
        "outputId": "855372e1-0b7f-4e39-b029-8f0e8d9b4ebb"
      },
      "source": [
        "# Squareroot\r\n",
        "np.sqrt(b)"
      ],
      "execution_count": 29,
      "outputs": [
        {
          "output_type": "execute_result",
          "data": {
            "text/plain": [
              "array([[1.22474487, 1.41421356, 1.73205081],\n",
              "       [2.        , 2.23606798, 2.44948974]])"
            ]
          },
          "metadata": {
            "tags": []
          },
          "execution_count": 29
        }
      ]
    },
    {
      "cell_type": "code",
      "metadata": {
        "colab": {
          "base_uri": "https://localhost:8080/"
        },
        "id": "GcynYMwlvNUG",
        "outputId": "d9eafff2-1a81-4848-dc6e-e069fa78536b"
      },
      "source": [
        "# Logarithm\r\n",
        "np.log(a)"
      ],
      "execution_count": 30,
      "outputs": [
        {
          "output_type": "execute_result",
          "data": {
            "text/plain": [
              "array([0.        , 0.69314718, 1.09861229])"
            ]
          },
          "metadata": {
            "tags": []
          },
          "execution_count": 30
        }
      ]
    },
    {
      "cell_type": "code",
      "metadata": {
        "colab": {
          "base_uri": "https://localhost:8080/"
        },
        "id": "vWEswCDFvRTR",
        "outputId": "b37b2a38-1aea-4364-80ab-efdb571a05eb"
      },
      "source": [
        "# Print sin and cos of arrays\r\n",
        "print(np.sin(a))\r\n",
        "print(np.cos(b))\r\n"
      ],
      "execution_count": 31,
      "outputs": [
        {
          "output_type": "stream",
          "text": [
            "[0.84147098 0.90929743 0.14112001]\n",
            "[[ 0.0707372  -0.41614684 -0.9899925 ]\n",
            " [-0.65364362  0.28366219  0.96017029]]\n"
          ],
          "name": "stdout"
        }
      ]
    },
    {
      "cell_type": "code",
      "metadata": {
        "colab": {
          "base_uri": "https://localhost:8080/"
        },
        "id": "SFOApqb5vbKR",
        "outputId": "7b5b0f58-5b3d-436d-c1dc-4bfc02d802e3"
      },
      "source": [
        "# Dot product\r\n",
        "e = np.full((2,2),7)\r\n",
        "e.dot(f)"
      ],
      "execution_count": 68,
      "outputs": [
        {
          "output_type": "execute_result",
          "data": {
            "text/plain": [
              "array([[7., 7.],\n",
              "       [7., 7.]])"
            ]
          },
          "metadata": {
            "tags": []
          },
          "execution_count": 68
        }
      ]
    },
    {
      "cell_type": "code",
      "metadata": {
        "id": "O8lHGag-KyeU",
        "outputId": "fa3a937c-2eec-4de3-f364-95f0c0c47d06",
        "colab": {
          "base_uri": "https://localhost:8080/"
        }
      },
      "source": [
        "# power\r\n",
        "np.power(a,2)"
      ],
      "execution_count": 71,
      "outputs": [
        {
          "output_type": "execute_result",
          "data": {
            "text/plain": [
              "array([1, 4, 9])"
            ]
          },
          "metadata": {
            "tags": []
          },
          "execution_count": 71
        }
      ]
    },
    {
      "cell_type": "code",
      "metadata": {
        "id": "IYu73tiyK7ex",
        "outputId": "901c0f04-53c7-4dc8-df90-43ab7fabc552",
        "colab": {
          "base_uri": "https://localhost:8080/"
        }
      },
      "source": [
        "# floor value\r\n",
        "np.floor(a)"
      ],
      "execution_count": 72,
      "outputs": [
        {
          "output_type": "execute_result",
          "data": {
            "text/plain": [
              "array([1., 2., 3.])"
            ]
          },
          "metadata": {
            "tags": []
          },
          "execution_count": 72
        }
      ]
    },
    {
      "cell_type": "code",
      "metadata": {
        "id": "xXsPJ7A1K_RT",
        "outputId": "f3e80379-3ecf-4388-ba6b-416b4d0b0627",
        "colab": {
          "base_uri": "https://localhost:8080/"
        }
      },
      "source": [
        "# ceil value\r\n",
        "np.ceil(b)"
      ],
      "execution_count": 73,
      "outputs": [
        {
          "output_type": "execute_result",
          "data": {
            "text/plain": [
              "array([[2., 2., 3.],\n",
              "       [4., 5., 6.]])"
            ]
          },
          "metadata": {
            "tags": []
          },
          "execution_count": 73
        }
      ]
    },
    {
      "cell_type": "code",
      "metadata": {
        "id": "3GWcoEEWLD3Z",
        "outputId": "4f362efb-8d93-4d39-b42b-5cd80c5075ed",
        "colab": {
          "base_uri": "https://localhost:8080/"
        }
      },
      "source": [
        "# absolute value\r\n",
        "np.absolute(b)"
      ],
      "execution_count": 74,
      "outputs": [
        {
          "output_type": "execute_result",
          "data": {
            "text/plain": [
              "array([[1.5, 2. , 3. ],\n",
              "       [4. , 5. , 6. ]])"
            ]
          },
          "metadata": {
            "tags": []
          },
          "execution_count": 74
        }
      ]
    },
    {
      "cell_type": "code",
      "metadata": {
        "id": "NwXS7A_2LTyl",
        "outputId": "1ea31c30-05e7-42fa-8155-af4f987724ae",
        "colab": {
          "base_uri": "https://localhost:8080/"
        }
      },
      "source": [
        "# round value\r\n",
        "np.round(b)"
      ],
      "execution_count": 75,
      "outputs": [
        {
          "output_type": "execute_result",
          "data": {
            "text/plain": [
              "array([[2., 2., 3.],\n",
              "       [4., 5., 6.]])"
            ]
          },
          "metadata": {
            "tags": []
          },
          "execution_count": 75
        }
      ]
    },
    {
      "cell_type": "markdown",
      "metadata": {
        "id": "DK11lMsawQak"
      },
      "source": [
        "## Comparison"
      ]
    },
    {
      "cell_type": "code",
      "metadata": {
        "colab": {
          "base_uri": "https://localhost:8080/"
        },
        "id": "86I1R1mqvfva",
        "outputId": "c3043435-da47-40b8-f49d-6acb847f862b"
      },
      "source": [
        "# Element wise comparison\r\n",
        "a == b"
      ],
      "execution_count": 33,
      "outputs": [
        {
          "output_type": "execute_result",
          "data": {
            "text/plain": [
              "array([[False,  True,  True],\n",
              "       [False, False, False]])"
            ]
          },
          "metadata": {
            "tags": []
          },
          "execution_count": 33
        }
      ]
    },
    {
      "cell_type": "code",
      "metadata": {
        "colab": {
          "base_uri": "https://localhost:8080/"
        },
        "id": "P0PglKDxvrlm",
        "outputId": "920cdfa7-df73-4045-87f6-03c613d22190"
      },
      "source": [
        "# Element wise comparison\r\n",
        "a < 2"
      ],
      "execution_count": 34,
      "outputs": [
        {
          "output_type": "execute_result",
          "data": {
            "text/plain": [
              "array([ True, False, False])"
            ]
          },
          "metadata": {
            "tags": []
          },
          "execution_count": 34
        }
      ]
    },
    {
      "cell_type": "code",
      "metadata": {
        "colab": {
          "base_uri": "https://localhost:8080/"
        },
        "id": "vBK54ToUwZsb",
        "outputId": "6487e9a9-1b3b-4575-a777-219e9d4363e0"
      },
      "source": [
        "# Array wise comparison\r\n",
        "np.array_equal(a,b)"
      ],
      "execution_count": 35,
      "outputs": [
        {
          "output_type": "execute_result",
          "data": {
            "text/plain": [
              "False"
            ]
          },
          "metadata": {
            "tags": []
          },
          "execution_count": 35
        }
      ]
    },
    {
      "cell_type": "markdown",
      "metadata": {
        "id": "CBQKR-J-wnAZ"
      },
      "source": [
        "## Aggregate Functions"
      ]
    },
    {
      "cell_type": "code",
      "metadata": {
        "colab": {
          "base_uri": "https://localhost:8080/"
        },
        "id": "9-lFRVZ4wfs0",
        "outputId": "8e559aeb-a987-4749-f6bc-98905b5329c4"
      },
      "source": [
        "# Array-wise sum\r\n",
        "a.sum()"
      ],
      "execution_count": 36,
      "outputs": [
        {
          "output_type": "execute_result",
          "data": {
            "text/plain": [
              "6"
            ]
          },
          "metadata": {
            "tags": []
          },
          "execution_count": 36
        }
      ]
    },
    {
      "cell_type": "code",
      "metadata": {
        "colab": {
          "base_uri": "https://localhost:8080/"
        },
        "id": "F-de3xNnwtDq",
        "outputId": "a04fae51-c4ed-4558-c4c9-5c0d3607afb2"
      },
      "source": [
        "# Array-wise minimum value\r\n",
        "b.min()"
      ],
      "execution_count": 37,
      "outputs": [
        {
          "output_type": "execute_result",
          "data": {
            "text/plain": [
              "1.5"
            ]
          },
          "metadata": {
            "tags": []
          },
          "execution_count": 37
        }
      ]
    },
    {
      "cell_type": "code",
      "metadata": {
        "colab": {
          "base_uri": "https://localhost:8080/"
        },
        "id": "-iQkcuFBwxOb",
        "outputId": "0a9b74a8-469d-4d87-e4e7-9cc0bc14efb4"
      },
      "source": [
        "# Maximum value of an array row\r\n",
        "b.max(axis=0)"
      ],
      "execution_count": 38,
      "outputs": [
        {
          "output_type": "execute_result",
          "data": {
            "text/plain": [
              "array([4., 5., 6.])"
            ]
          },
          "metadata": {
            "tags": []
          },
          "execution_count": 38
        }
      ]
    },
    {
      "cell_type": "code",
      "metadata": {
        "colab": {
          "base_uri": "https://localhost:8080/"
        },
        "id": "03znGWXuw3sJ",
        "outputId": "2972007b-aedf-4c9a-846e-95b111afcb44"
      },
      "source": [
        "# Cumulative sum of the elements\r\n",
        "b.cumsum(axis=1)"
      ],
      "execution_count": 39,
      "outputs": [
        {
          "output_type": "execute_result",
          "data": {
            "text/plain": [
              "array([[ 1.5,  3.5,  6.5],\n",
              "       [ 4. ,  9. , 15. ]])"
            ]
          },
          "metadata": {
            "tags": []
          },
          "execution_count": 39
        }
      ]
    },
    {
      "cell_type": "code",
      "metadata": {
        "colab": {
          "base_uri": "https://localhost:8080/"
        },
        "id": "CBAdor9qw9zs",
        "outputId": "70d9555e-aa0b-40d0-b451-13b6f3438675"
      },
      "source": [
        "# Mean\r\n",
        "a.mean()"
      ],
      "execution_count": 40,
      "outputs": [
        {
          "output_type": "execute_result",
          "data": {
            "text/plain": [
              "2.0"
            ]
          },
          "metadata": {
            "tags": []
          },
          "execution_count": 40
        }
      ]
    },
    {
      "cell_type": "code",
      "metadata": {
        "colab": {
          "base_uri": "https://localhost:8080/"
        },
        "id": "hQGclnWtxDAU",
        "outputId": "86d7304c-f0fc-4798-d1d8-6cad807bb24a"
      },
      "source": [
        "# Median\r\n",
        "np.median(b)"
      ],
      "execution_count": 41,
      "outputs": [
        {
          "output_type": "execute_result",
          "data": {
            "text/plain": [
              "3.5"
            ]
          },
          "metadata": {
            "tags": []
          },
          "execution_count": 41
        }
      ]
    },
    {
      "cell_type": "code",
      "metadata": {
        "colab": {
          "base_uri": "https://localhost:8080/"
        },
        "id": "NOIu_AuAxFdq",
        "outputId": "bd0c1210-f6a1-4e9a-b9bb-a1a4cc71a650"
      },
      "source": [
        "# Correlation\r\n",
        "np.corrcoef(a)"
      ],
      "execution_count": 42,
      "outputs": [
        {
          "output_type": "execute_result",
          "data": {
            "text/plain": [
              "1.0"
            ]
          },
          "metadata": {
            "tags": []
          },
          "execution_count": 42
        }
      ]
    },
    {
      "cell_type": "code",
      "metadata": {
        "colab": {
          "base_uri": "https://localhost:8080/"
        },
        "id": "abRR7kKrxvXS",
        "outputId": "74acb31a-624c-4a09-d91a-1c12052bbc65"
      },
      "source": [
        "# standard deviation\r\n",
        "np.std(b)"
      ],
      "execution_count": 43,
      "outputs": [
        {
          "output_type": "execute_result",
          "data": {
            "text/plain": [
              "1.5920810978785667"
            ]
          },
          "metadata": {
            "tags": []
          },
          "execution_count": 43
        }
      ]
    },
    {
      "cell_type": "code",
      "metadata": {
        "colab": {
          "base_uri": "https://localhost:8080/"
        },
        "id": "EFEWSSiix1aW",
        "outputId": "83ec0438-3f5d-4719-b873-812d9554e444"
      },
      "source": [
        "# variance\r\n",
        "np.var(b)"
      ],
      "execution_count": 44,
      "outputs": [
        {
          "output_type": "execute_result",
          "data": {
            "text/plain": [
              "2.534722222222222"
            ]
          },
          "metadata": {
            "tags": []
          },
          "execution_count": 44
        }
      ]
    },
    {
      "cell_type": "markdown",
      "metadata": {
        "id": "2fmSwp2q0TFk"
      },
      "source": [
        "# Copying arrays"
      ]
    },
    {
      "cell_type": "code",
      "metadata": {
        "colab": {
          "base_uri": "https://localhost:8080/"
        },
        "id": "gnvhgakKx7QE",
        "outputId": "7a7a9b0a-886d-42b3-82a6-1952a19d119a"
      },
      "source": [
        "# Create a view of the array with the same data\r\n",
        "h = a.view()\r\n",
        "h"
      ],
      "execution_count": 45,
      "outputs": [
        {
          "output_type": "execute_result",
          "data": {
            "text/plain": [
              "array([1, 2, 3])"
            ]
          },
          "metadata": {
            "tags": []
          },
          "execution_count": 45
        }
      ]
    },
    {
      "cell_type": "code",
      "metadata": {
        "colab": {
          "base_uri": "https://localhost:8080/"
        },
        "id": "HU2aFihp0bye",
        "outputId": "0b7ec0b4-8fd3-4b4e-ed3f-4fd12cb26768"
      },
      "source": [
        "# Create a copy of the array\r\n",
        "np.copy(a)"
      ],
      "execution_count": 46,
      "outputs": [
        {
          "output_type": "execute_result",
          "data": {
            "text/plain": [
              "array([1, 2, 3])"
            ]
          },
          "metadata": {
            "tags": []
          },
          "execution_count": 46
        }
      ]
    },
    {
      "cell_type": "code",
      "metadata": {
        "colab": {
          "base_uri": "https://localhost:8080/"
        },
        "id": "Fj2ZjFoY0hO1",
        "outputId": "2e60ebb7-65a1-410e-80e6-c2dc114fce84"
      },
      "source": [
        "# Create a deep copy of the array\r\n",
        "h = a.copy()\r\n",
        "h"
      ],
      "execution_count": 47,
      "outputs": [
        {
          "output_type": "execute_result",
          "data": {
            "text/plain": [
              "array([1, 2, 3])"
            ]
          },
          "metadata": {
            "tags": []
          },
          "execution_count": 47
        }
      ]
    },
    {
      "cell_type": "markdown",
      "metadata": {
        "id": "psHZ77Rl0qiW"
      },
      "source": [
        "# Sorting Arrays"
      ]
    },
    {
      "cell_type": "code",
      "metadata": {
        "id": "T-J6i4ey0m5Y"
      },
      "source": [
        "# Sort an array\r\n",
        "a.sort()"
      ],
      "execution_count": 48,
      "outputs": []
    },
    {
      "cell_type": "code",
      "metadata": {
        "colab": {
          "base_uri": "https://localhost:8080/"
        },
        "id": "9po8C0f00vev",
        "outputId": "db208874-4e1c-4822-bd7d-41946982b605"
      },
      "source": [
        "# Sort the elements of an array's axis\r\n",
        "c.sort(axis=0)\r\n",
        "c"
      ],
      "execution_count": 49,
      "outputs": [
        {
          "output_type": "execute_result",
          "data": {
            "text/plain": [
              "array([[[1.5, 2. , 1. ],\n",
              "        [4. , 5. , 6. ]],\n",
              "\n",
              "       [[3. , 2. , 3. ],\n",
              "        [4. , 5. , 6. ]]])"
            ]
          },
          "metadata": {
            "tags": []
          },
          "execution_count": 49
        }
      ]
    },
    {
      "cell_type": "markdown",
      "metadata": {
        "id": "269XSR0a1BZZ"
      },
      "source": [
        "# Subsetting, Slicing and Indexing"
      ]
    },
    {
      "cell_type": "code",
      "metadata": {
        "colab": {
          "base_uri": "https://localhost:8080/"
        },
        "id": "I7drNBRL0xB7",
        "outputId": "c1ff8e68-c8eb-48d7-ffe3-2dc068f707d2"
      },
      "source": [
        "# Subsetting\r\n",
        "# Select the element at the 2 index\r\n",
        "a[2]"
      ],
      "execution_count": 50,
      "outputs": [
        {
          "output_type": "execute_result",
          "data": {
            "text/plain": [
              "3"
            ]
          },
          "metadata": {
            "tags": []
          },
          "execution_count": 50
        }
      ]
    },
    {
      "cell_type": "code",
      "metadata": {
        "colab": {
          "base_uri": "https://localhost:8080/"
        },
        "id": "5vCBzt_w1WdA",
        "outputId": "13dc0007-e7c2-4b0b-875e-28d61813b1f8"
      },
      "source": [
        "# Select the element at row 1 and column 2\r\n",
        "b[1][2]"
      ],
      "execution_count": 51,
      "outputs": [
        {
          "output_type": "execute_result",
          "data": {
            "text/plain": [
              "6.0"
            ]
          },
          "metadata": {
            "tags": []
          },
          "execution_count": 51
        }
      ]
    },
    {
      "cell_type": "code",
      "metadata": {
        "colab": {
          "base_uri": "https://localhost:8080/"
        },
        "id": "3BJAO1Zb1fMk",
        "outputId": "7c0b4697-5a0c-4a28-f15d-d5f05db1b1c0"
      },
      "source": [
        "# Slicing\r\n",
        "# Select items at index 0 and 1\r\n",
        "a[0:2]"
      ],
      "execution_count": 52,
      "outputs": [
        {
          "output_type": "execute_result",
          "data": {
            "text/plain": [
              "array([1, 2])"
            ]
          },
          "metadata": {
            "tags": []
          },
          "execution_count": 52
        }
      ]
    },
    {
      "cell_type": "code",
      "metadata": {
        "colab": {
          "base_uri": "https://localhost:8080/"
        },
        "id": "6jYlpVXg2FiX",
        "outputId": "08470895-b42a-4922-e082-49c79910df7c"
      },
      "source": [
        "# Select items at rows 0 and 1 and column 1\r\n",
        "b[0:2,1]"
      ],
      "execution_count": 53,
      "outputs": [
        {
          "output_type": "execute_result",
          "data": {
            "text/plain": [
              "array([2., 5.])"
            ]
          },
          "metadata": {
            "tags": []
          },
          "execution_count": 53
        }
      ]
    },
    {
      "cell_type": "code",
      "metadata": {
        "colab": {
          "base_uri": "https://localhost:8080/"
        },
        "id": "QcNK4_gl2Te-",
        "outputId": "4463d9f4-f402-44db-ad66-b9dc53ee1703"
      },
      "source": [
        "# Select all items at row 0\r\n",
        "b[:1]"
      ],
      "execution_count": 54,
      "outputs": [
        {
          "output_type": "execute_result",
          "data": {
            "text/plain": [
              "array([[1.5, 2. , 3. ]])"
            ]
          },
          "metadata": {
            "tags": []
          },
          "execution_count": 54
        }
      ]
    },
    {
      "cell_type": "code",
      "metadata": {
        "colab": {
          "base_uri": "https://localhost:8080/"
        },
        "id": "haZ8rn5R7C0c",
        "outputId": "f16fc2aa-c075-4da3-a1f3-a53161fe6d74"
      },
      "source": [
        "# Boolean indexing\r\n",
        "a[a<2]"
      ],
      "execution_count": 55,
      "outputs": [
        {
          "output_type": "execute_result",
          "data": {
            "text/plain": [
              "array([1])"
            ]
          },
          "metadata": {
            "tags": []
          },
          "execution_count": 55
        }
      ]
    },
    {
      "cell_type": "markdown",
      "metadata": {
        "id": "G-N-7E9p7yat"
      },
      "source": [
        "# Array Manipulation"
      ]
    },
    {
      "cell_type": "code",
      "metadata": {
        "colab": {
          "base_uri": "https://localhost:8080/"
        },
        "id": "KOTBxjgo7vfu",
        "outputId": "1f5e30fb-e4ea-46c8-f8ed-9896aa429000"
      },
      "source": [
        "# #Permute array dimensions\r\n",
        "i = np.transpose(b)\r\n",
        "i"
      ],
      "execution_count": 56,
      "outputs": [
        {
          "output_type": "execute_result",
          "data": {
            "text/plain": [
              "array([[1.5, 4. ],\n",
              "       [2. , 5. ],\n",
              "       [3. , 6. ]])"
            ]
          },
          "metadata": {
            "tags": []
          },
          "execution_count": 56
        }
      ]
    },
    {
      "cell_type": "code",
      "metadata": {
        "colab": {
          "base_uri": "https://localhost:8080/"
        },
        "id": "jmXHZCvPBOYo",
        "outputId": "04c0be8a-cbd9-4cb8-bdb6-67a63480497b"
      },
      "source": [
        "# Changing Array shape\r\n",
        "# Flatten the array, Reshape but don't change the data\r\n",
        "print(b.ravel())\r\n",
        "print(g.reshape(3,-2))"
      ],
      "execution_count": 57,
      "outputs": [
        {
          "output_type": "stream",
          "text": [
            "[1.5 2.  3.  4.  5.  6. ]\n",
            "[[-0.5  0. ]\n",
            " [ 0.  -3. ]\n",
            " [-3.  -3. ]]\n"
          ],
          "name": "stdout"
        }
      ]
    },
    {
      "cell_type": "code",
      "metadata": {
        "colab": {
          "base_uri": "https://localhost:8080/"
        },
        "id": "cLvv7f39BPYH",
        "outputId": "f5b5db54-6d0c-4b5f-b627-8db783d23271"
      },
      "source": [
        "# Adding/ Removing Elements\r\n",
        "# 1. Return a new array with shape (2,6)\r\n",
        "np.resize(h,(2,6))"
      ],
      "execution_count": 58,
      "outputs": [
        {
          "output_type": "execute_result",
          "data": {
            "text/plain": [
              "array([[1, 2, 3, 1, 2, 3],\n",
              "       [1, 2, 3, 1, 2, 3]])"
            ]
          },
          "metadata": {
            "tags": []
          },
          "execution_count": 58
        }
      ]
    },
    {
      "cell_type": "code",
      "metadata": {
        "colab": {
          "base_uri": "https://localhost:8080/"
        },
        "id": "fhDg-QUsFE7S",
        "outputId": "41459acc-8d1a-45c8-fbad-f4285820cb08"
      },
      "source": [
        "# 2. Append items to an array\r\n",
        "np.append(h,g)"
      ],
      "execution_count": 59,
      "outputs": [
        {
          "output_type": "execute_result",
          "data": {
            "text/plain": [
              "array([ 1. ,  2. ,  3. , -0.5,  0. ,  0. , -3. , -3. , -3. ])"
            ]
          },
          "metadata": {
            "tags": []
          },
          "execution_count": 59
        }
      ]
    },
    {
      "cell_type": "code",
      "metadata": {
        "colab": {
          "base_uri": "https://localhost:8080/"
        },
        "id": "ydIl9VTFFRsp",
        "outputId": "3e393d7a-9f5d-4309-f6f7-971f333e2c11"
      },
      "source": [
        "# Insert items in an array\r\n",
        "np.insert(a,1,5)\r\n",
        "# a = array name\r\n",
        "# 2 argument = index position of the array\r\n",
        "# 3 argument = the value at the specified index in the array"
      ],
      "execution_count": 60,
      "outputs": [
        {
          "output_type": "execute_result",
          "data": {
            "text/plain": [
              "array([1, 5, 2, 3])"
            ]
          },
          "metadata": {
            "tags": []
          },
          "execution_count": 60
        }
      ]
    },
    {
      "cell_type": "code",
      "metadata": {
        "colab": {
          "base_uri": "https://localhost:8080/"
        },
        "id": "pHM8RicvFXLD",
        "outputId": "5891b07d-5f85-4005-d66a-a90ea63dad90"
      },
      "source": [
        "# Delete items from an array\r\n",
        "np.delete(a, (1))"
      ],
      "execution_count": 61,
      "outputs": [
        {
          "output_type": "execute_result",
          "data": {
            "text/plain": [
              "array([1, 3])"
            ]
          },
          "metadata": {
            "tags": []
          },
          "execution_count": 61
        }
      ]
    },
    {
      "cell_type": "code",
      "metadata": {
        "colab": {
          "base_uri": "https://localhost:8080/"
        },
        "id": "6Nko5aD-Frt0",
        "outputId": "6c103c55-39e7-4a95-c1d4-b378f5394171"
      },
      "source": [
        "# Combining Arrays\r\n",
        "# Concatenate Arrays\r\n",
        "np.concatenate((a,d), axis=0)"
      ],
      "execution_count": 62,
      "outputs": [
        {
          "output_type": "execute_result",
          "data": {
            "text/plain": [
              "array([ 1,  2,  3, 10, 15, 20])"
            ]
          },
          "metadata": {
            "tags": []
          },
          "execution_count": 62
        }
      ]
    },
    {
      "cell_type": "code",
      "metadata": {
        "colab": {
          "base_uri": "https://localhost:8080/"
        },
        "id": "yRUUigqfF2zk",
        "outputId": "4a15305f-871c-440c-f24a-3bbe0c6b4f00"
      },
      "source": [
        "# Stack arrays vertically (row-wise)\r\n",
        "np.vstack((a,b))\r\n",
        "# np.r_[e,f]"
      ],
      "execution_count": 63,
      "outputs": [
        {
          "output_type": "execute_result",
          "data": {
            "text/plain": [
              "array([[1. , 2. , 3. ],\n",
              "       [1.5, 2. , 3. ],\n",
              "       [4. , 5. , 6. ]])"
            ]
          },
          "metadata": {
            "tags": []
          },
          "execution_count": 63
        }
      ]
    },
    {
      "cell_type": "code",
      "metadata": {
        "colab": {
          "base_uri": "https://localhost:8080/"
        },
        "id": "bIxq2KqrGF5V",
        "outputId": "809b708b-69a7-4f44-b254-5bc1b1022608"
      },
      "source": [
        "# Stack arrays horizontally (column-wise)\r\n",
        "np.hstack((e,f))"
      ],
      "execution_count": 64,
      "outputs": [
        {
          "output_type": "execute_result",
          "data": {
            "text/plain": [
              "array([[7., 7., 1., 0.],\n",
              "       [7., 7., 0., 1.]])"
            ]
          },
          "metadata": {
            "tags": []
          },
          "execution_count": 64
        }
      ]
    },
    {
      "cell_type": "code",
      "metadata": {
        "colab": {
          "base_uri": "https://localhost:8080/"
        },
        "id": "WBsRTlNfGfXj",
        "outputId": "28e326ea-29d6-4acb-8c91-126018a593b7"
      },
      "source": [
        "# Create stacked column wise arrays\r\n",
        "np.column_stack((a,d))\r\n",
        "# np.c_[a,d]"
      ],
      "execution_count": 65,
      "outputs": [
        {
          "output_type": "execute_result",
          "data": {
            "text/plain": [
              "array([[ 1, 10],\n",
              "       [ 2, 15],\n",
              "       [ 3, 20]])"
            ]
          },
          "metadata": {
            "tags": []
          },
          "execution_count": 65
        }
      ]
    },
    {
      "cell_type": "code",
      "metadata": {
        "colab": {
          "base_uri": "https://localhost:8080/"
        },
        "id": "34xG77njGuKD",
        "outputId": "7e149626-487a-47f5-9259-9356b065f029"
      },
      "source": [
        "## Splitting Arrays\r\n",
        "# Split the array horizontally at 3 index\r\n",
        "np.hsplit(a,3)"
      ],
      "execution_count": 66,
      "outputs": [
        {
          "output_type": "execute_result",
          "data": {
            "text/plain": [
              "[array([1]), array([2]), array([3])]"
            ]
          },
          "metadata": {
            "tags": []
          },
          "execution_count": 66
        }
      ]
    },
    {
      "cell_type": "code",
      "metadata": {
        "colab": {
          "base_uri": "https://localhost:8080/"
        },
        "id": "slCe_dVXG9mN",
        "outputId": "6ee86017-bc8a-4690-8cdc-7fd3ffc87bff"
      },
      "source": [
        "# Split the array vertically at 2 index\r\n",
        "np.vsplit(c,2)"
      ],
      "execution_count": 67,
      "outputs": [
        {
          "output_type": "execute_result",
          "data": {
            "text/plain": [
              "[array([[[1.5, 2. , 1. ],\n",
              "         [4. , 5. , 6. ]]]), array([[[3., 2., 3.],\n",
              "         [4., 5., 6.]]])]"
            ]
          },
          "metadata": {
            "tags": []
          },
          "execution_count": 67
        }
      ]
    },
    {
      "cell_type": "code",
      "metadata": {
        "id": "cwM98VvZHFhd"
      },
      "source": [
        ""
      ],
      "execution_count": 67,
      "outputs": []
    }
  ]
}